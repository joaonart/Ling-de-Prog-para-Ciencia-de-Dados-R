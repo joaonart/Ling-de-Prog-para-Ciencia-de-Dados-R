{
  "cells": [
    {
      "cell_type": "markdown",
      "metadata": {
        "id": "TXXBcjv1_NVa"
      },
      "source": [
        "# Tipos de Dados"
      ]
    },
    {
      "cell_type": "code",
      "execution_count": 1,
      "metadata": {
        "colab": {
          "base_uri": "https://localhost:8080/",
          "height": 52
        },
        "id": "GTjot-Wx_NVk",
        "outputId": "aa37f783-4d2b-4fe1-ec90-44fbf8ed7628"
      },
      "outputs": [
        {
          "data": {
            "text/html": [
              "TRUE"
            ],
            "text/latex": [
              "TRUE"
            ],
            "text/markdown": [
              "TRUE"
            ],
            "text/plain": [
              "[1] TRUE"
            ]
          },
          "metadata": {},
          "output_type": "display_data"
        },
        {
          "data": {
            "text/html": [
              "1"
            ],
            "text/latex": [
              "1"
            ],
            "text/markdown": [
              "1"
            ],
            "text/plain": [
              "[1] 1"
            ]
          },
          "metadata": {},
          "output_type": "display_data"
        }
      ],
      "source": [
        "x <- 1\n",
        "is.numeric(x)\n",
        "x"
      ]
    },
    {
      "cell_type": "code",
      "execution_count": 2,
      "metadata": {
        "colab": {
          "base_uri": "https://localhost:8080/",
          "height": 52
        },
        "id": "G1PBJVq9_NVq",
        "outputId": "7e85c811-f07d-49b2-b71d-52ef4b935906"
      },
      "outputs": [
        {
          "data": {
            "text/html": [
              "TRUE"
            ],
            "text/latex": [
              "TRUE"
            ],
            "text/markdown": [
              "TRUE"
            ],
            "text/plain": [
              "[1] TRUE"
            ]
          },
          "metadata": {},
          "output_type": "display_data"
        },
        {
          "data": {
            "text/html": [
              "'2'"
            ],
            "text/latex": [
              "'2'"
            ],
            "text/markdown": [
              "'2'"
            ],
            "text/plain": [
              "[1] \"2\""
            ]
          },
          "metadata": {},
          "output_type": "display_data"
        }
      ],
      "source": [
        "x <- '2'\n",
        "is.character(x)\n",
        "x\n",
        "\n"
      ]
    },
    {
      "cell_type": "code",
      "execution_count": 3,
      "metadata": {
        "colab": {
          "base_uri": "https://localhost:8080/",
          "height": 52
        },
        "id": "z7BStoFY_NVr",
        "outputId": "b91dbd79-7512-435b-e90f-432154e57e49"
      },
      "outputs": [
        {
          "data": {
            "text/html": [
              "FALSE"
            ],
            "text/latex": [
              "FALSE"
            ],
            "text/markdown": [
              "FALSE"
            ],
            "text/plain": [
              "[1] FALSE"
            ]
          },
          "metadata": {},
          "output_type": "display_data"
        },
        {
          "data": {
            "text/html": [
              "3"
            ],
            "text/latex": [
              "3"
            ],
            "text/markdown": [
              "3"
            ],
            "text/plain": [
              "[1] 3"
            ]
          },
          "metadata": {},
          "output_type": "display_data"
        }
      ],
      "source": [
        "x <- 3\n",
        "is.integer(x)\n",
        "x\n",
        "\n"
      ]
    },
    {
      "cell_type": "code",
      "execution_count": 4,
      "metadata": {
        "colab": {
          "base_uri": "https://localhost:8080/",
          "height": 52
        },
        "id": "AWEfgLik_NVt",
        "outputId": "11857202-f14b-42f3-d47f-01e1ace23a7d"
      },
      "outputs": [
        {
          "data": {
            "text/html": [
              "TRUE"
            ],
            "text/latex": [
              "TRUE"
            ],
            "text/markdown": [
              "TRUE"
            ],
            "text/plain": [
              "[1] TRUE"
            ]
          },
          "metadata": {},
          "output_type": "display_data"
        },
        {
          "data": {
            "text/html": [
              "3"
            ],
            "text/latex": [
              "3"
            ],
            "text/markdown": [
              "3"
            ],
            "text/plain": [
              "[1] 3"
            ]
          },
          "metadata": {},
          "output_type": "display_data"
        }
      ],
      "source": [
        "x <- as.integer(3)\n",
        "is.integer(x)\n",
        "x\n",
        "\n"
      ]
    },
    {
      "cell_type": "code",
      "execution_count": 5,
      "metadata": {
        "colab": {
          "base_uri": "https://localhost:8080/",
          "height": 104
        },
        "id": "oGE2Ohfm_NVv",
        "outputId": "0ea1fedf-42c9-4712-ae2a-07f1759d1ebf"
      },
      "outputs": [
        {
          "data": {
            "text/html": [
              "FALSE"
            ],
            "text/latex": [
              "FALSE"
            ],
            "text/markdown": [
              "FALSE"
            ],
            "text/plain": [
              "[1] FALSE"
            ]
          },
          "metadata": {},
          "output_type": "display_data"
        },
        {
          "data": {
            "text/html": [
              "TRUE"
            ],
            "text/latex": [
              "TRUE"
            ],
            "text/markdown": [
              "TRUE"
            ],
            "text/plain": [
              "[1] TRUE"
            ]
          },
          "metadata": {},
          "output_type": "display_data"
        },
        {
          "data": {
            "text/html": [
              "4"
            ],
            "text/latex": [
              "4"
            ],
            "text/markdown": [
              "4"
            ],
            "text/plain": [
              "[1] 4"
            ]
          },
          "metadata": {},
          "output_type": "display_data"
        },
        {
          "data": {
            "text/html": [
              "TRUE"
            ],
            "text/latex": [
              "TRUE"
            ],
            "text/markdown": [
              "TRUE"
            ],
            "text/plain": [
              "[1] TRUE"
            ]
          },
          "metadata": {},
          "output_type": "display_data"
        },
        {
          "data": {
            "text/html": [
              "TRUE"
            ],
            "text/latex": [
              "TRUE"
            ],
            "text/markdown": [
              "TRUE"
            ],
            "text/plain": [
              "[1] TRUE"
            ]
          },
          "metadata": {},
          "output_type": "display_data"
        }
      ],
      "source": [
        "x <- 2+2\n",
        "is.integer(x)\n",
        "is.numeric(x)\n",
        "x\n",
        "\n",
        "x <- TRUE\n",
        "is.logical(x)\n",
        "x"
      ]
    },
    {
      "cell_type": "code",
      "execution_count": 6,
      "metadata": {
        "colab": {
          "base_uri": "https://localhost:8080/",
          "height": 52
        },
        "id": "Jg2Emx7d_NVw",
        "outputId": "e1988b2a-8baf-4f96-a898-e2a2d7ab8634"
      },
      "outputs": [
        {
          "data": {
            "text/html": [
              "TRUE"
            ],
            "text/latex": [
              "TRUE"
            ],
            "text/markdown": [
              "TRUE"
            ],
            "text/plain": [
              "[1] TRUE"
            ]
          },
          "metadata": {},
          "output_type": "display_data"
        },
        {
          "data": {
            "text/html": [
              "TRUE"
            ],
            "text/latex": [
              "TRUE"
            ],
            "text/markdown": [
              "TRUE"
            ],
            "text/plain": [
              "[1] TRUE"
            ]
          },
          "metadata": {},
          "output_type": "display_data"
        }
      ],
      "source": [
        "x <- TRUE\n",
        "is.logical(x)\n",
        "x"
      ]
    },
    {
      "cell_type": "markdown",
      "metadata": {
        "id": "gaqgJi9e_NVx"
      },
      "source": [
        "# Matrizes e vetores"
      ]
    },
    {
      "cell_type": "code",
      "execution_count": 8,
      "metadata": {
        "colab": {
          "base_uri": "https://localhost:8080/",
          "height": 52
        },
        "id": "91nkQ2Ss_NVz",
        "outputId": "33f16c9f-c879-4e89-e5a4-7e58e5dd3380"
      },
      "outputs": [
        {
          "data": {
            "text/html": [
              "TRUE"
            ],
            "text/latex": [
              "TRUE"
            ],
            "text/markdown": [
              "TRUE"
            ],
            "text/plain": [
              "[1] TRUE"
            ]
          },
          "metadata": {},
          "output_type": "display_data"
        },
        {
          "data": {
            "text/html": [
              "<style>\n",
              ".list-inline {list-style: none; margin:0; padding: 0}\n",
              ".list-inline>li {display: inline-block}\n",
              ".list-inline>li:not(:last-child)::after {content: \"\\00b7\"; padding: 0 .5ex}\n",
              "</style>\n",
              "<ol class=list-inline><li>5</li><li>6</li><li>7</li><li>8</li></ol>\n"
            ],
            "text/latex": [
              "\\begin{enumerate*}\n",
              "\\item 5\n",
              "\\item 6\n",
              "\\item 7\n",
              "\\item 8\n",
              "\\end{enumerate*}\n"
            ],
            "text/markdown": [
              "1. 5\n",
              "2. 6\n",
              "3. 7\n",
              "4. 8\n",
              "\n",
              "\n"
            ],
            "text/plain": [
              "[1] 5 6 7 8"
            ]
          },
          "metadata": {},
          "output_type": "display_data"
        }
      ],
      "source": [
        "x <- c(5,6,7,8)\n",
        "is.vector(x)\n",
        "x\n"
      ]
    },
    {
      "cell_type": "code",
      "execution_count": 9,
      "metadata": {
        "colab": {
          "base_uri": "https://localhost:8080/",
          "height": 52
        },
        "id": "uDIFXyX5_NV0",
        "outputId": "8c4c001c-4f83-43c5-e92c-e511b90fb6b8",
        "scrolled": true
      },
      "outputs": [
        {
          "data": {
            "text/html": [
              "TRUE"
            ],
            "text/latex": [
              "TRUE"
            ],
            "text/markdown": [
              "TRUE"
            ],
            "text/plain": [
              "[1] TRUE"
            ]
          },
          "metadata": {},
          "output_type": "display_data"
        },
        {
          "data": {
            "text/html": [
              "<style>\n",
              ".list-inline {list-style: none; margin:0; padding: 0}\n",
              ".list-inline>li {display: inline-block}\n",
              ".list-inline>li:not(:last-child)::after {content: \"\\00b7\"; padding: 0 .5ex}\n",
              "</style>\n",
              "<ol class=list-inline><li>9</li><li>10</li><li>11</li><li>12</li></ol>\n"
            ],
            "text/latex": [
              "\\begin{enumerate*}\n",
              "\\item 9\n",
              "\\item 10\n",
              "\\item 11\n",
              "\\item 12\n",
              "\\end{enumerate*}\n"
            ],
            "text/markdown": [
              "1. 9\n",
              "2. 10\n",
              "3. 11\n",
              "4. 12\n",
              "\n",
              "\n"
            ],
            "text/plain": [
              "[1]  9 10 11 12"
            ]
          },
          "metadata": {},
          "output_type": "display_data"
        }
      ],
      "source": [
        "x <- c(9:12)\n",
        "is.vector(x)\n",
        "x"
      ]
    },
    {
      "cell_type": "code",
      "execution_count": 10,
      "metadata": {
        "colab": {
          "base_uri": "https://localhost:8080/",
          "height": 132
        },
        "id": "MbJgqGPr_NV2",
        "outputId": "586a198b-51ae-4593-82e8-2d183d9fa788"
      },
      "outputs": [
        {
          "data": {
            "text/html": [
              "<table class=\"dataframe\">\n",
              "<caption>A matrix: 2 × 3 of type dbl</caption>\n",
              "<tbody>\n",
              "\t<tr><td>1</td><td>2</td><td>3</td></tr>\n",
              "\t<tr><td>4</td><td>5</td><td>6</td></tr>\n",
              "</tbody>\n",
              "</table>\n"
            ],
            "text/latex": [
              "A matrix: 2 × 3 of type dbl\n",
              "\\begin{tabular}{lll}\n",
              "\t 1 & 2 & 3\\\\\n",
              "\t 4 & 5 & 6\\\\\n",
              "\\end{tabular}\n"
            ],
            "text/markdown": [
              "\n",
              "A matrix: 2 × 3 of type dbl\n",
              "\n",
              "| 1 | 2 | 3 |\n",
              "| 4 | 5 | 6 |\n",
              "\n"
            ],
            "text/plain": [
              "     [,1] [,2] [,3]\n",
              "[1,] 1    2    3   \n",
              "[2,] 4    5    6   "
            ]
          },
          "metadata": {},
          "output_type": "display_data"
        }
      ],
      "source": [
        "x <- matrix(c(1,2,3,4,5,6), nrow = 2, ncol = 3, byrow = TRUE)\n",
        "x"
      ]
    },
    {
      "cell_type": "code",
      "execution_count": 11,
      "metadata": {
        "colab": {
          "base_uri": "https://localhost:8080/",
          "height": 132
        },
        "id": "b4ABCUYJ_NV3",
        "outputId": "083a191f-1043-4d71-ffdd-0279e1b2c195"
      },
      "outputs": [
        {
          "data": {
            "text/html": [
              "<table class=\"dataframe\">\n",
              "<caption>A matrix: 2 × 3 of type dbl</caption>\n",
              "<tbody>\n",
              "\t<tr><td>1</td><td>3</td><td>5</td></tr>\n",
              "\t<tr><td>2</td><td>4</td><td>6</td></tr>\n",
              "</tbody>\n",
              "</table>\n"
            ],
            "text/latex": [
              "A matrix: 2 × 3 of type dbl\n",
              "\\begin{tabular}{lll}\n",
              "\t 1 & 3 & 5\\\\\n",
              "\t 2 & 4 & 6\\\\\n",
              "\\end{tabular}\n"
            ],
            "text/markdown": [
              "\n",
              "A matrix: 2 × 3 of type dbl\n",
              "\n",
              "| 1 | 3 | 5 |\n",
              "| 2 | 4 | 6 |\n",
              "\n"
            ],
            "text/plain": [
              "     [,1] [,2] [,3]\n",
              "[1,] 1    3    5   \n",
              "[2,] 2    4    6   "
            ]
          },
          "metadata": {},
          "output_type": "display_data"
        }
      ],
      "source": [
        "x <- matrix(c(1,2,3,4,5,6), nrow = 2, ncol = 3, byrow = FALSE)\n",
        "x\n"
      ]
    },
    {
      "cell_type": "code",
      "execution_count": 12,
      "metadata": {
        "colab": {
          "base_uri": "https://localhost:8080/",
          "height": 163
        },
        "id": "M8lH1BgO_NV8",
        "outputId": "3ba4644b-3208-4686-c21f-75a6ff295537"
      },
      "outputs": [
        {
          "data": {
            "text/html": [
              "<table class=\"dataframe\">\n",
              "<caption>A matrix: 3 × 3 of type dbl</caption>\n",
              "<tbody>\n",
              "\t<tr><td>1</td><td>4</td><td>1</td></tr>\n",
              "\t<tr><td>2</td><td>5</td><td>2</td></tr>\n",
              "\t<tr><td>3</td><td>6</td><td>3</td></tr>\n",
              "</tbody>\n",
              "</table>\n"
            ],
            "text/latex": [
              "A matrix: 3 × 3 of type dbl\n",
              "\\begin{tabular}{lll}\n",
              "\t 1 & 4 & 1\\\\\n",
              "\t 2 & 5 & 2\\\\\n",
              "\t 3 & 6 & 3\\\\\n",
              "\\end{tabular}\n"
            ],
            "text/markdown": [
              "\n",
              "A matrix: 3 × 3 of type dbl\n",
              "\n",
              "| 1 | 4 | 1 |\n",
              "| 2 | 5 | 2 |\n",
              "| 3 | 6 | 3 |\n",
              "\n"
            ],
            "text/plain": [
              "     [,1] [,2] [,3]\n",
              "[1,] 1    4    1   \n",
              "[2,] 2    5    2   \n",
              "[3,] 3    6    3   "
            ]
          },
          "metadata": {},
          "output_type": "display_data"
        }
      ],
      "source": [
        "x <- matrix(c(1,2,3,4,5,6), nrow = 3, ncol = 3, byrow = FALSE)\n",
        "x"
      ]
    },
    {
      "cell_type": "code",
      "execution_count": 13,
      "metadata": {
        "colab": {
          "base_uri": "https://localhost:8080/",
          "height": 198
        },
        "id": "NenBMO0u_NV9",
        "outputId": "13157191-ff80-47c2-f9b4-024c96f285b2"
      },
      "outputs": [
        {
          "data": {
            "text/html": [
              "<table class=\"dataframe\">\n",
              "<caption>A matrix: 3 × 2 of type dbl</caption>\n",
              "<tbody>\n",
              "\t<tr><td>1</td><td>4</td></tr>\n",
              "\t<tr><td>2</td><td>5</td></tr>\n",
              "\t<tr><td>3</td><td>6</td></tr>\n",
              "</tbody>\n",
              "</table>\n"
            ],
            "text/latex": [
              "A matrix: 3 × 2 of type dbl\n",
              "\\begin{tabular}{ll}\n",
              "\t 1 & 4\\\\\n",
              "\t 2 & 5\\\\\n",
              "\t 3 & 6\\\\\n",
              "\\end{tabular}\n"
            ],
            "text/markdown": [
              "\n",
              "A matrix: 3 × 2 of type dbl\n",
              "\n",
              "| 1 | 4 |\n",
              "| 2 | 5 |\n",
              "| 3 | 6 |\n",
              "\n"
            ],
            "text/plain": [
              "     [,1] [,2]\n",
              "[1,] 1    4   \n",
              "[2,] 2    5   \n",
              "[3,] 3    6   "
            ]
          },
          "metadata": {},
          "output_type": "display_data"
        }
      ],
      "source": [
        "x <- matrix(c(1,2,3,4,5,6), nrow = 3, ncol = 2)\n",
        "x"
      ]
    },
    {
      "cell_type": "code",
      "execution_count": 14,
      "metadata": {
        "colab": {
          "base_uri": "https://localhost:8080/",
          "height": 34
        },
        "id": "9KQlqP6U_NV-",
        "outputId": "cebfbfa1-7537-49d5-f142-ad9c11de12c2"
      },
      "outputs": [
        {
          "data": {
            "text/html": [
              "<style>\n",
              ".list-inline {list-style: none; margin:0; padding: 0}\n",
              ".list-inline>li {display: inline-block}\n",
              ".list-inline>li:not(:last-child)::after {content: \"\\00b7\"; padding: 0 .5ex}\n",
              "</style>\n",
              "<ol class=list-inline><li>16</li><li>17</li><li>18</li><li>19</li><li>20</li></ol>\n"
            ],
            "text/latex": [
              "\\begin{enumerate*}\n",
              "\\item 16\n",
              "\\item 17\n",
              "\\item 18\n",
              "\\item 19\n",
              "\\item 20\n",
              "\\end{enumerate*}\n"
            ],
            "text/markdown": [
              "1. 16\n",
              "2. 17\n",
              "3. 18\n",
              "4. 19\n",
              "5. 20\n",
              "\n",
              "\n"
            ],
            "text/plain": [
              "[1] 16 17 18 19 20"
            ]
          },
          "metadata": {},
          "output_type": "display_data"
        }
      ],
      "source": [
        "# Gera matriz numérica de 5 x 4 \n",
        "y <- matrix (01:20, nrow = 5, ncol = 4)\n",
        "\n",
        "# Identificar colunas ou elementos.\n",
        "y [, 4]  # coluna de matriz\n"
      ]
    },
    {
      "cell_type": "code",
      "execution_count": 15,
      "metadata": {
        "colab": {
          "base_uri": "https://localhost:8080/",
          "height": 34
        },
        "id": "GuAByPN8_NWA",
        "outputId": "74e1a8e5-8416-420e-9831-c7492a43a02a"
      },
      "outputs": [
        {
          "data": {
            "text/html": [
              "<style>\n",
              ".list-inline {list-style: none; margin:0; padding: 0}\n",
              ".list-inline>li {display: inline-block}\n",
              ".list-inline>li:not(:last-child)::after {content: \"\\00b7\"; padding: 0 .5ex}\n",
              "</style>\n",
              "<ol class=list-inline><li>3</li><li>8</li><li>13</li><li>18</li></ol>\n"
            ],
            "text/latex": [
              "\\begin{enumerate*}\n",
              "\\item 3\n",
              "\\item 8\n",
              "\\item 13\n",
              "\\item 18\n",
              "\\end{enumerate*}\n"
            ],
            "text/markdown": [
              "1. 3\n",
              "2. 8\n",
              "3. 13\n",
              "4. 18\n",
              "\n",
              "\n"
            ],
            "text/plain": [
              "[1]  3  8 13 18"
            ]
          },
          "metadata": {},
          "output_type": "display_data"
        }
      ],
      "source": [
        "y [3,] # 3ª linha da matriz\n"
      ]
    },
    {
      "cell_type": "code",
      "execution_count": 16,
      "metadata": {
        "colab": {
          "base_uri": "https://localhost:8080/",
          "height": 163
        },
        "id": "eQ9bJ-MZ_NWB",
        "outputId": "38abd358-2db0-437e-c1b8-ea507003e6f7"
      },
      "outputs": [
        {
          "data": {
            "text/html": [
              "<table class=\"dataframe\">\n",
              "<caption>A matrix: 3 × 3 of type int</caption>\n",
              "<tbody>\n",
              "\t<tr><td>2</td><td>7</td><td>12</td></tr>\n",
              "\t<tr><td>3</td><td>8</td><td>13</td></tr>\n",
              "\t<tr><td>4</td><td>9</td><td>14</td></tr>\n",
              "</tbody>\n",
              "</table>\n"
            ],
            "text/latex": [
              "A matrix: 3 × 3 of type int\n",
              "\\begin{tabular}{lll}\n",
              "\t 2 & 7 & 12\\\\\n",
              "\t 3 & 8 & 13\\\\\n",
              "\t 4 & 9 & 14\\\\\n",
              "\\end{tabular}\n"
            ],
            "text/markdown": [
              "\n",
              "A matrix: 3 × 3 of type int\n",
              "\n",
              "| 2 | 7 | 12 |\n",
              "| 3 | 8 | 13 |\n",
              "| 4 | 9 | 14 |\n",
              "\n"
            ],
            "text/plain": [
              "     [,1] [,2] [,3]\n",
              "[1,] 2    7    12  \n",
              "[2,] 3    8    13  \n",
              "[3,] 4    9    14  "
            ]
          },
          "metadata": {},
          "output_type": "display_data"
        }
      ],
      "source": [
        "y [2:4 , 1:3] # linhas 2,3,4 de colunas 1,2,3"
      ]
    },
    {
      "cell_type": "code",
      "execution_count": 18,
      "metadata": {
        "colab": {
          "base_uri": "https://localhost:8080/",
          "height": 147
        },
        "id": "jRKsqZlx_NWD",
        "outputId": "0c47fc47-975b-4b04-b677-da661bcbd74e"
      },
      "outputs": [
        {
          "data": {
            "text/html": [
              "<table class=\"dataframe\">\n",
              "<caption>A matrix: 2 × 2 of type dbl</caption>\n",
              "<thead>\n",
              "\t<tr><th></th><th scope=col>C1</th><th scope=col>C2</th></tr>\n",
              "</thead>\n",
              "<tbody>\n",
              "\t<tr><th scope=row>R1</th><td> 1</td><td>26</td></tr>\n",
              "\t<tr><th scope=row>R2</th><td>24</td><td>68</td></tr>\n",
              "</tbody>\n",
              "</table>\n"
            ],
            "text/latex": [
              "A matrix: 2 × 2 of type dbl\n",
              "\\begin{tabular}{r|ll}\n",
              "  & C1 & C2\\\\\n",
              "\\hline\n",
              "\tR1 &  1 & 26\\\\\n",
              "\tR2 & 24 & 68\\\\\n",
              "\\end{tabular}\n"
            ],
            "text/markdown": [
              "\n",
              "A matrix: 2 × 2 of type dbl\n",
              "\n",
              "| <!--/--> | C1 | C2 |\n",
              "|---|---|---|\n",
              "| R1 |  1 | 26 |\n",
              "| R2 | 24 | 68 |\n",
              "\n"
            ],
            "text/plain": [
              "   C1 C2\n",
              "R1  1 26\n",
              "R2 24 68"
            ]
          },
          "metadata": {},
          "output_type": "display_data"
        }
      ],
      "source": [
        "# outro exemplo\n",
        "celulas <- c(1,26,24,68)\n",
        "nomeslinhas <- c(\"R1\", \"R2\")\n",
        "nomescolunas <- c(\"C1\", \"C2\")\n",
        "\n",
        "minhamatriz <- matrix(celulas, nrow=2, ncol=2,\n",
        "  byrow=TRUE, dimnames=list(nomeslinhas, nomescolunas)) \n",
        "\n",
        "minhamatriz"
      ]
    },
    {
      "cell_type": "markdown",
      "metadata": {
        "id": "Csxnq9SR_NWD"
      },
      "source": [
        "# Dataframe"
      ]
    },
    {
      "cell_type": "code",
      "execution_count": 19,
      "metadata": {
        "colab": {
          "base_uri": "https://localhost:8080/",
          "height": 224
        },
        "id": "2dBU_9J6_NWE",
        "outputId": "1b6c52a9-a9fd-4d80-a481-cffddde03170"
      },
      "outputs": [
        {
          "data": {
            "text/html": [
              "<table class=\"dataframe\">\n",
              "<caption>A data.frame: 4 × 3</caption>\n",
              "<thead>\n",
              "\t<tr><th scope=col>d</th><th scope=col>e</th><th scope=col>f</th></tr>\n",
              "\t<tr><th scope=col>&lt;dbl&gt;</th><th scope=col>&lt;chr&gt;</th><th scope=col>&lt;lgl&gt;</th></tr>\n",
              "</thead>\n",
              "<tbody>\n",
              "\t<tr><td>1</td><td>vermelho</td><td> TRUE</td></tr>\n",
              "\t<tr><td>2</td><td>branco  </td><td> TRUE</td></tr>\n",
              "\t<tr><td>3</td><td>vermelho</td><td> TRUE</td></tr>\n",
              "\t<tr><td>4</td><td>NA      </td><td>FALSE</td></tr>\n",
              "</tbody>\n",
              "</table>\n"
            ],
            "text/latex": [
              "A data.frame: 4 × 3\n",
              "\\begin{tabular}{lll}\n",
              " d & e & f\\\\\n",
              " <dbl> & <chr> & <lgl>\\\\\n",
              "\\hline\n",
              "\t 1 & vermelho &  TRUE\\\\\n",
              "\t 2 & branco   &  TRUE\\\\\n",
              "\t 3 & vermelho &  TRUE\\\\\n",
              "\t 4 & NA       & FALSE\\\\\n",
              "\\end{tabular}\n"
            ],
            "text/markdown": [
              "\n",
              "A data.frame: 4 × 3\n",
              "\n",
              "| d &lt;dbl&gt; | e &lt;chr&gt; | f &lt;lgl&gt; |\n",
              "|---|---|---|\n",
              "| 1 | vermelho |  TRUE |\n",
              "| 2 | branco   |  TRUE |\n",
              "| 3 | vermelho |  TRUE |\n",
              "| 4 | NA       | FALSE |\n",
              "\n"
            ],
            "text/plain": [
              "  d e        f    \n",
              "1 1 vermelho  TRUE\n",
              "2 2 branco    TRUE\n",
              "3 3 vermelho  TRUE\n",
              "4 4 NA       FALSE"
            ]
          },
          "metadata": {},
          "output_type": "display_data"
        }
      ],
      "source": [
        "d <- c(1,2,3,4)\n",
        "e <- c(\"vermelho\", \"branco\", \"vermelho\", NA)\n",
        "f <- c(TRUE,TRUE,TRUE,FALSE)\n",
        "\n",
        "meusdados <- data.frame(d,e,f)\n",
        "\n",
        "meusdados\n"
      ]
    },
    {
      "cell_type": "code",
      "execution_count": 20,
      "metadata": {
        "colab": {
          "base_uri": "https://localhost:8080/",
          "height": 224
        },
        "id": "rzRX1vRd_NWF",
        "outputId": "807222dc-bc68-4a82-d2d1-659198a14983"
      },
      "outputs": [
        {
          "data": {
            "text/html": [
              "<table class=\"dataframe\">\n",
              "<caption>A data.frame: 4 × 3</caption>\n",
              "<thead>\n",
              "\t<tr><th scope=col>ID</th><th scope=col>Cor</th><th scope=col>Flag</th></tr>\n",
              "\t<tr><th scope=col>&lt;dbl&gt;</th><th scope=col>&lt;chr&gt;</th><th scope=col>&lt;lgl&gt;</th></tr>\n",
              "</thead>\n",
              "<tbody>\n",
              "\t<tr><td>1</td><td>vermelho</td><td> TRUE</td></tr>\n",
              "\t<tr><td>2</td><td>branco  </td><td> TRUE</td></tr>\n",
              "\t<tr><td>3</td><td>vermelho</td><td> TRUE</td></tr>\n",
              "\t<tr><td>4</td><td>NA      </td><td>FALSE</td></tr>\n",
              "</tbody>\n",
              "</table>\n"
            ],
            "text/latex": [
              "A data.frame: 4 × 3\n",
              "\\begin{tabular}{lll}\n",
              " ID & Cor & Flag\\\\\n",
              " <dbl> & <chr> & <lgl>\\\\\n",
              "\\hline\n",
              "\t 1 & vermelho &  TRUE\\\\\n",
              "\t 2 & branco   &  TRUE\\\\\n",
              "\t 3 & vermelho &  TRUE\\\\\n",
              "\t 4 & NA       & FALSE\\\\\n",
              "\\end{tabular}\n"
            ],
            "text/markdown": [
              "\n",
              "A data.frame: 4 × 3\n",
              "\n",
              "| ID &lt;dbl&gt; | Cor &lt;chr&gt; | Flag &lt;lgl&gt; |\n",
              "|---|---|---|\n",
              "| 1 | vermelho |  TRUE |\n",
              "| 2 | branco   |  TRUE |\n",
              "| 3 | vermelho |  TRUE |\n",
              "| 4 | NA       | FALSE |\n",
              "\n"
            ],
            "text/plain": [
              "  ID Cor      Flag \n",
              "1 1  vermelho  TRUE\n",
              "2 2  branco    TRUE\n",
              "3 3  vermelho  TRUE\n",
              "4 4  NA       FALSE"
            ]
          },
          "metadata": {},
          "output_type": "display_data"
        }
      ],
      "source": [
        "colnames(meusdados) <- c(\"ID\",\"Cor\",\"Flag\") #nomes de variáveis\n",
        "meusdados\n"
      ]
    },
    {
      "cell_type": "code",
      "execution_count": 21,
      "metadata": {
        "colab": {
          "base_uri": "https://localhost:8080/",
          "height": 241
        },
        "id": "sQjutmTO_NWG",
        "outputId": "74a34e8a-86e0-4b8f-a400-d7d50b8ea14d"
      },
      "outputs": [
        {
          "data": {
            "text/html": [
              "<style>\n",
              ".dl-inline {width: auto; margin:0; padding: 0}\n",
              ".dl-inline>dt, .dl-inline>dd {float: none; width: auto; display: inline-block}\n",
              ".dl-inline>dt::after {content: \":\\0020\"; padding-right: .5ex}\n",
              ".dl-inline>dt:not(:first-of-type) {padding-left: .5ex}\n",
              "</style><dl class=dl-inline><dt>ID</dt><dd>0</dd><dt>Cor</dt><dd>0.25</dd><dt>Flag</dt><dd>0</dd></dl>\n"
            ],
            "text/latex": [
              "\\begin{description*}\n",
              "\\item[ID] 0\n",
              "\\item[Cor] 0.25\n",
              "\\item[Flag] 0\n",
              "\\end{description*}\n"
            ],
            "text/markdown": [
              "ID\n",
              ":   0Cor\n",
              ":   0.25Flag\n",
              ":   0\n",
              "\n"
            ],
            "text/plain": [
              "  ID  Cor Flag \n",
              "0.00 0.25 0.00 "
            ]
          },
          "metadata": {},
          "output_type": "display_data"
        },
        {
          "data": {
            "text/html": [
              "<table class=\"dataframe\">\n",
              "<caption>A data.frame: 4 × 3</caption>\n",
              "<thead>\n",
              "\t<tr><th scope=col>ID</th><th scope=col>Cor</th><th scope=col>Flag</th></tr>\n",
              "\t<tr><th scope=col>&lt;dbl&gt;</th><th scope=col>&lt;chr&gt;</th><th scope=col>&lt;lgl&gt;</th></tr>\n",
              "</thead>\n",
              "<tbody>\n",
              "\t<tr><td>1</td><td>vermelho</td><td> TRUE</td></tr>\n",
              "\t<tr><td>2</td><td>branco  </td><td> TRUE</td></tr>\n",
              "\t<tr><td>3</td><td>vermelho</td><td> TRUE</td></tr>\n",
              "\t<tr><td>4</td><td>NA      </td><td>FALSE</td></tr>\n",
              "</tbody>\n",
              "</table>\n"
            ],
            "text/latex": [
              "A data.frame: 4 × 3\n",
              "\\begin{tabular}{lll}\n",
              " ID & Cor & Flag\\\\\n",
              " <dbl> & <chr> & <lgl>\\\\\n",
              "\\hline\n",
              "\t 1 & vermelho &  TRUE\\\\\n",
              "\t 2 & branco   &  TRUE\\\\\n",
              "\t 3 & vermelho &  TRUE\\\\\n",
              "\t 4 & NA       & FALSE\\\\\n",
              "\\end{tabular}\n"
            ],
            "text/markdown": [
              "\n",
              "A data.frame: 4 × 3\n",
              "\n",
              "| ID &lt;dbl&gt; | Cor &lt;chr&gt; | Flag &lt;lgl&gt; |\n",
              "|---|---|---|\n",
              "| 1 | vermelho |  TRUE |\n",
              "| 2 | branco   |  TRUE |\n",
              "| 3 | vermelho |  TRUE |\n",
              "| 4 | NA       | FALSE |\n",
              "\n"
            ],
            "text/plain": [
              "  ID Cor      Flag \n",
              "1 1  vermelho  TRUE\n",
              "2 2  branco    TRUE\n",
              "3 3  vermelho  TRUE\n",
              "4 4  NA       FALSE"
            ]
          },
          "metadata": {},
          "output_type": "display_data"
        }
      ],
      "source": [
        "colMeans(is.na(meusdados)) #% de NA na coluna\n",
        "#Criando um dataframe que tenha sempre X% de dados existentes\n",
        "\n",
        "meusdados2 <- meusdados[, colMeans(is.na(meusdados)) <= .25]\n",
        "meusdados2"
      ]
    },
    {
      "cell_type": "markdown",
      "metadata": {
        "id": "A4nU2vgg_NWJ"
      },
      "source": [
        "# Funções"
      ]
    },
    {
      "cell_type": "code",
      "execution_count": 22,
      "metadata": {
        "colab": {
          "base_uri": "https://localhost:8080/",
          "height": 34
        },
        "id": "lDRT5Y3X_NWK",
        "outputId": "dd254869-a667-4d63-cc9f-1fd2a4c651d9"
      },
      "outputs": [
        {
          "data": {
            "text/html": [
              "10"
            ],
            "text/latex": [
              "10"
            ],
            "text/markdown": [
              "10"
            ],
            "text/plain": [
              "[1] 10"
            ]
          },
          "metadata": {},
          "output_type": "display_data"
        }
      ],
      "source": [
        "x <- function(a,b){\n",
        "  a * b\n",
        "}\n",
        "\n",
        "x(5,2)"
      ]
    },
    {
      "cell_type": "code",
      "execution_count": 23,
      "metadata": {
        "id": "XdS7wNyu_NWM"
      },
      "outputs": [],
      "source": [
        "# Informa que são duas casas decimais, que o separador de dezena com virgula e separador de milhar com ponto.\n",
        "formatarMoeda <- function(valor)\n",
        "{\n",
        "  paste(\"R$ \",format(valor, nsmall=2,\n",
        "                     decimal.mark=\",\",\n",
        "                     big.mark=\".\",\n",
        "                     digits=2) ,sep=\"\")\n",
        "}\n"
      ]
    },
    {
      "cell_type": "code",
      "execution_count": 24,
      "metadata": {
        "colab": {
          "base_uri": "https://localhost:8080/",
          "height": 34
        },
        "id": "22xoy0U2_NWN",
        "outputId": "69045e20-d4d0-45f6-f058-ad41b41b5167"
      },
      "outputs": [
        {
          "data": {
            "text/html": [
              "'R$ 10.052,20'"
            ],
            "text/latex": [
              "'R\\$ 10.052,20'"
            ],
            "text/markdown": [
              "'R$ 10.052,20'"
            ],
            "text/plain": [
              "[1] \"R$ 10.052,20\""
            ]
          },
          "metadata": {},
          "output_type": "display_data"
        }
      ],
      "source": [
        "formatarMoeda(10052.2000)"
      ]
    },
    {
      "cell_type": "markdown",
      "metadata": {
        "id": "gsFrCl7g_NWO"
      },
      "source": [
        "# Controles e Laços (Loops)"
      ]
    },
    {
      "cell_type": "code",
      "execution_count": 25,
      "metadata": {
        "colab": {
          "base_uri": "https://localhost:8080/"
        },
        "id": "IS9UE8NJ_NWP",
        "outputId": "0269f887-5d94-458c-af67-c59e06ed71bf"
      },
      "outputs": [
        {
          "name": "stdout",
          "output_type": "stream",
          "text": [
            " [1]  1  2  3  4  5  6  7  8  9 15 16 17 18 19 20\n"
          ]
        }
      ],
      "source": [
        "x = 1:9\n",
        "\n",
        "if (length(x) <= 10) {\n",
        "  x <- c(x,15:20);\n",
        "  print(x) \n",
        "} else {\n",
        "  print(x[1])\n",
        "}"
      ]
    },
    {
      "cell_type": "code",
      "execution_count": 26,
      "metadata": {
        "colab": {
          "base_uri": "https://localhost:8080/",
          "height": 34
        },
        "id": "8oqTBGcV_NWP",
        "outputId": "5ebedbba-d4e4-4c0d-99f6-1a9e869d8e1a"
      },
      "outputs": [
        {
          "data": {
            "text/html": [
              "<style>\n",
              ".list-inline {list-style: none; margin:0; padding: 0}\n",
              ".list-inline>li {display: inline-block}\n",
              ".list-inline>li:not(:last-child)::after {content: \"\\00b7\"; padding: 0 .5ex}\n",
              "</style>\n",
              "<ol class=list-inline><li>1.1292327242566</li><li>6.15697774014387</li><li>1.51000120604409</li><li>8.45199147332903</li><li>3.42915065540961</li><li>9.24297575016288</li><li>3.95978034351633</li><li>3.41847663234209</li><li>3.86319464733436</li><li>3.19342052816684</li><li>16</li><li>17</li><li>18</li><li>19</li><li>20</li></ol>\n"
            ],
            "text/latex": [
              "\\begin{enumerate*}\n",
              "\\item 1.1292327242566\n",
              "\\item 6.15697774014387\n",
              "\\item 1.51000120604409\n",
              "\\item 8.45199147332903\n",
              "\\item 3.42915065540961\n",
              "\\item 9.24297575016288\n",
              "\\item 3.95978034351633\n",
              "\\item 3.41847663234209\n",
              "\\item 3.86319464733436\n",
              "\\item 3.19342052816684\n",
              "\\item 16\n",
              "\\item 17\n",
              "\\item 18\n",
              "\\item 19\n",
              "\\item 20\n",
              "\\end{enumerate*}\n"
            ],
            "text/markdown": [
              "1. 1.1292327242566\n",
              "2. 6.15697774014387\n",
              "3. 1.51000120604409\n",
              "4. 8.45199147332903\n",
              "5. 3.42915065540961\n",
              "6. 9.24297575016288\n",
              "7. 3.95978034351633\n",
              "8. 3.41847663234209\n",
              "9. 3.86319464733436\n",
              "10. 3.19342052816684\n",
              "11. 16\n",
              "12. 17\n",
              "13. 18\n",
              "14. 19\n",
              "15. 20\n",
              "\n",
              "\n"
            ],
            "text/plain": [
              " [1]  1.129233  6.156978  1.510001  8.451991  3.429151  9.242976  3.959780\n",
              " [8]  3.418477  3.863195  3.193421 16.000000 17.000000 18.000000 19.000000\n",
              "[15] 20.000000"
            ]
          },
          "metadata": {},
          "output_type": "display_data"
        }
      ],
      "source": [
        "#########################\n",
        "# Estrutura de Laço FOR\n",
        "for(i in 1:10) {\n",
        "  x[i] <- rnorm(1,5,2)\n",
        "}\n",
        "x"
      ]
    },
    {
      "cell_type": "code",
      "execution_count": 27,
      "metadata": {
        "colab": {
          "base_uri": "https://localhost:8080/"
        },
        "id": "n2DGAyMe_NWQ",
        "outputId": "6eca2ce8-5a36-48fa-b520-54a9a49e9810"
      },
      "outputs": [
        {
          "name": "stdout",
          "output_type": "stream",
          "text": [
            "[1] 1\n",
            "[1] 3\n",
            "[1] 5\n",
            "[1] 7\n",
            "[1] 9\n"
          ]
        }
      ],
      "source": [
        "# Estrutura de Laço WHILE\n",
        "j = 1\n",
        "while( j  < 10) {\n",
        "  print(j)\n",
        "  j <- j + 2 \n",
        "}"
      ]
    },
    {
      "cell_type": "markdown",
      "metadata": {
        "id": "jzjv1W12_NWQ"
      },
      "source": [
        "# Estatística"
      ]
    },
    {
      "cell_type": "code",
      "execution_count": 30,
      "metadata": {
        "colab": {
          "base_uri": "https://localhost:8080/",
          "height": 286
        },
        "id": "URjDed6B_NWR",
        "outputId": "6614351f-fdd5-43db-c813-eb213a6c0c3e"
      },
      "outputs": [
        {
          "data": {
            "text/html": [
              "<table class=\"dataframe\">\n",
              "<caption>A data.frame: 6 × 2</caption>\n",
              "<thead>\n",
              "\t<tr><th></th><th scope=col>anos</th><th scope=col>salario</th></tr>\n",
              "\t<tr><th></th><th scope=col>&lt;int&gt;</th><th scope=col>&lt;int&gt;</th></tr>\n",
              "</thead>\n",
              "<tbody>\n",
              "\t<tr><th scope=row>1</th><td> 3</td><td>30</td></tr>\n",
              "\t<tr><th scope=row>2</th><td> 8</td><td>57</td></tr>\n",
              "\t<tr><th scope=row>3</th><td> 9</td><td>64</td></tr>\n",
              "\t<tr><th scope=row>4</th><td>13</td><td>72</td></tr>\n",
              "\t<tr><th scope=row>5</th><td> 3</td><td>36</td></tr>\n",
              "\t<tr><th scope=row>6</th><td> 6</td><td>43</td></tr>\n",
              "</tbody>\n",
              "</table>\n"
            ],
            "text/latex": [
              "A data.frame: 6 × 2\n",
              "\\begin{tabular}{r|ll}\n",
              "  & anos & salario\\\\\n",
              "  & <int> & <int>\\\\\n",
              "\\hline\n",
              "\t1 &  3 & 30\\\\\n",
              "\t2 &  8 & 57\\\\\n",
              "\t3 &  9 & 64\\\\\n",
              "\t4 & 13 & 72\\\\\n",
              "\t5 &  3 & 36\\\\\n",
              "\t6 &  6 & 43\\\\\n",
              "\\end{tabular}\n"
            ],
            "text/markdown": [
              "\n",
              "A data.frame: 6 × 2\n",
              "\n",
              "| <!--/--> | anos &lt;int&gt; | salario &lt;int&gt; |\n",
              "|---|---|---|\n",
              "| 1 |  3 | 30 |\n",
              "| 2 |  8 | 57 |\n",
              "| 3 |  9 | 64 |\n",
              "| 4 | 13 | 72 |\n",
              "| 5 |  3 | 36 |\n",
              "| 6 |  6 | 43 |\n",
              "\n"
            ],
            "text/plain": [
              "  anos salario\n",
              "1  3   30     \n",
              "2  8   57     \n",
              "3  9   64     \n",
              "4 13   72     \n",
              "5  3   36     \n",
              "6  6   43     "
            ]
          },
          "metadata": {},
          "output_type": "display_data"
        }
      ],
      "source": [
        "#Gerando a massa de dados\n",
        "#URL <- \"https://raw.githubusercontent.com/Rogerio-mack/Ling-de-Prog-para-Ciencia-de-Dados/master/dados.csv\"\n",
        "nomeArquivo <- \"dados.csv\"\n",
        "#download.file(URL, nomeArquivo)\n",
        "\n",
        "arquivo <- \"dados.csv\"\n",
        "dados <- read.csv(arquivo, header=TRUE, sep=\",\")\n",
        "\n",
        "colnames(dados) <- c(\"anos\",\"salario\")\n",
        "\n",
        "head(dados)"
      ]
    },
    {
      "cell_type": "code",
      "execution_count": 31,
      "metadata": {
        "colab": {
          "base_uri": "https://localhost:8080/",
          "height": 52
        },
        "id": "oxfT6mUa_NWR",
        "outputId": "1c6ad417-b678-40f2-d841-d20d7dffc56d"
      },
      "outputs": [
        {
          "data": {
            "text/html": [
              "1"
            ],
            "text/latex": [
              "1"
            ],
            "text/markdown": [
              "1"
            ],
            "text/plain": [
              "[1] 1"
            ]
          },
          "metadata": {},
          "output_type": "display_data"
        },
        {
          "data": {
            "text/html": [
              "20"
            ],
            "text/latex": [
              "20"
            ],
            "text/markdown": [
              "20"
            ],
            "text/plain": [
              "[1] 20"
            ]
          },
          "metadata": {},
          "output_type": "display_data"
        }
      ],
      "source": [
        "# Valores Mínimos\n",
        "min(dados$anos)\n",
        "min(dados$salario)\n"
      ]
    },
    {
      "cell_type": "code",
      "execution_count": 32,
      "metadata": {
        "colab": {
          "base_uri": "https://localhost:8080/",
          "height": 52
        },
        "id": "-p4o_VSE_NWS",
        "outputId": "f8ec067c-05d4-405a-a6c6-4052dd7336ea"
      },
      "outputs": [
        {
          "data": {
            "text/html": [
              "<style>\n",
              ".dl-inline {width: auto; margin:0; padding: 0}\n",
              ".dl-inline>dt, .dl-inline>dd {float: none; width: auto; display: inline-block}\n",
              ".dl-inline>dt::after {content: \":\\0020\"; padding-right: .5ex}\n",
              ".dl-inline>dt:not(:first-of-type) {padding-left: .5ex}\n",
              "</style><dl class=dl-inline><dt>0%</dt><dd>1</dd><dt>25%</dt><dd>3.75</dd><dt>50%</dt><dd>8.5</dd><dt>75%</dt><dd>12.5</dd><dt>100%</dt><dd>21</dd></dl>\n"
            ],
            "text/latex": [
              "\\begin{description*}\n",
              "\\item[0\\textbackslash{}\\%] 1\n",
              "\\item[25\\textbackslash{}\\%] 3.75\n",
              "\\item[50\\textbackslash{}\\%] 8.5\n",
              "\\item[75\\textbackslash{}\\%] 12.5\n",
              "\\item[100\\textbackslash{}\\%] 21\n",
              "\\end{description*}\n"
            ],
            "text/markdown": [
              "0%\n",
              ":   125%\n",
              ":   3.7550%\n",
              ":   8.575%\n",
              ":   12.5100%\n",
              ":   21\n",
              "\n"
            ],
            "text/plain": [
              "   0%   25%   50%   75%  100% \n",
              " 1.00  3.75  8.50 12.50 21.00 "
            ]
          },
          "metadata": {},
          "output_type": "display_data"
        },
        {
          "data": {
            "text/html": [
              "<style>\n",
              ".dl-inline {width: auto; margin:0; padding: 0}\n",
              ".dl-inline>dt, .dl-inline>dd {float: none; width: auto; display: inline-block}\n",
              ".dl-inline>dt::after {content: \":\\0020\"; padding-right: .5ex}\n",
              ".dl-inline>dt:not(:first-of-type) {padding-left: .5ex}\n",
              "</style><dl class=dl-inline><dt>0%</dt><dd>20</dd><dt>25%</dt><dd>37.75</dd><dt>50%</dt><dd>58</dd><dt>75%</dt><dd>70</dd><dt>100%</dt><dd>90</dd></dl>\n"
            ],
            "text/latex": [
              "\\begin{description*}\n",
              "\\item[0\\textbackslash{}\\%] 20\n",
              "\\item[25\\textbackslash{}\\%] 37.75\n",
              "\\item[50\\textbackslash{}\\%] 58\n",
              "\\item[75\\textbackslash{}\\%] 70\n",
              "\\item[100\\textbackslash{}\\%] 90\n",
              "\\end{description*}\n"
            ],
            "text/markdown": [
              "0%\n",
              ":   2025%\n",
              ":   37.7550%\n",
              ":   5875%\n",
              ":   70100%\n",
              ":   90\n",
              "\n"
            ],
            "text/plain": [
              "   0%   25%   50%   75%  100% \n",
              "20.00 37.75 58.00 70.00 90.00 "
            ]
          },
          "metadata": {},
          "output_type": "display_data"
        }
      ],
      "source": [
        "# Valores dos Quartis / Mediana\n",
        "quantile(dados$anos)\n",
        "quantile(dados$salario)\n",
        "\n"
      ]
    },
    {
      "cell_type": "code",
      "execution_count": 33,
      "metadata": {
        "colab": {
          "base_uri": "https://localhost:8080/",
          "height": 52
        },
        "id": "BoMynAhm_NWS",
        "outputId": "163ef2f4-4fbf-4587-fd3a-f1d8fe1eb13f"
      },
      "outputs": [
        {
          "data": {
            "text/html": [
              "9.1"
            ],
            "text/latex": [
              "9.1"
            ],
            "text/markdown": [
              "9.1"
            ],
            "text/plain": [
              "[1] 9.1"
            ]
          },
          "metadata": {},
          "output_type": "display_data"
        },
        {
          "data": {
            "text/html": [
              "55.4"
            ],
            "text/latex": [
              "55.4"
            ],
            "text/markdown": [
              "55.4"
            ],
            "text/plain": [
              "[1] 55.4"
            ]
          },
          "metadata": {},
          "output_type": "display_data"
        }
      ],
      "source": [
        "# Média\n",
        "mean(dados$anos)\n",
        "mean(dados$salario)\n",
        "\n",
        "\n"
      ]
    },
    {
      "cell_type": "code",
      "execution_count": 34,
      "metadata": {
        "colab": {
          "base_uri": "https://localhost:8080/",
          "height": 52
        },
        "id": "hvOG78nS_NWS",
        "outputId": "99b60a95-bd92-43e2-ef5c-740a8b1e9ccc"
      },
      "outputs": [
        {
          "data": {
            "text/html": [
              "21"
            ],
            "text/latex": [
              "21"
            ],
            "text/markdown": [
              "21"
            ],
            "text/plain": [
              "[1] 21"
            ]
          },
          "metadata": {},
          "output_type": "display_data"
        },
        {
          "data": {
            "text/html": [
              "90"
            ],
            "text/latex": [
              "90"
            ],
            "text/markdown": [
              "90"
            ],
            "text/plain": [
              "[1] 90"
            ]
          },
          "metadata": {},
          "output_type": "display_data"
        }
      ],
      "source": [
        "# Valores Máximos\n",
        "max(dados$anos)\n",
        "max(dados$salario)\n",
        "\n"
      ]
    },
    {
      "cell_type": "code",
      "execution_count": 35,
      "metadata": {
        "colab": {
          "base_uri": "https://localhost:8080/",
          "height": 139
        },
        "id": "ymD5SIZ-_NWT",
        "outputId": "5a48427f-258b-4668-c307-9edb37ae8730"
      },
      "outputs": [
        {
          "data": {
            "text/plain": [
              "      anos          salario     \n",
              " Min.   : 1.00   Min.   :20.00  \n",
              " 1st Qu.: 3.75   1st Qu.:37.75  \n",
              " Median : 8.50   Median :58.00  \n",
              " Mean   : 9.10   Mean   :55.40  \n",
              " 3rd Qu.:12.50   3rd Qu.:70.00  \n",
              " Max.   :21.00   Max.   :90.00  "
            ]
          },
          "metadata": {},
          "output_type": "display_data"
        }
      ],
      "source": [
        "# Tudo junto\n",
        "summary(dados)\n",
        "\n"
      ]
    },
    {
      "cell_type": "code",
      "execution_count": 36,
      "metadata": {
        "colab": {
          "base_uri": "https://localhost:8080/",
          "height": 52
        },
        "id": "feh818_7_NWT",
        "outputId": "c7060b37-643f-4838-e7dd-2c36d82447f5"
      },
      "outputs": [
        {
          "data": {
            "text/html": [
              "6.31488541287788"
            ],
            "text/latex": [
              "6.31488541287788"
            ],
            "text/markdown": [
              "6.31488541287788"
            ],
            "text/plain": [
              "[1] 6.314885"
            ]
          },
          "metadata": {},
          "output_type": "display_data"
        },
        {
          "data": {
            "text/html": [
              "22.9792176638902"
            ],
            "text/latex": [
              "22.9792176638902"
            ],
            "text/markdown": [
              "22.9792176638902"
            ],
            "text/plain": [
              "[1] 22.97922"
            ]
          },
          "metadata": {},
          "output_type": "display_data"
        }
      ],
      "source": [
        "# Devio Padrão\n",
        "sd(dados$anos)\n",
        "sd(dados$salario)\n",
        "\n"
      ]
    },
    {
      "cell_type": "code",
      "execution_count": 37,
      "metadata": {
        "colab": {
          "base_uri": "https://localhost:8080/",
          "height": 104
        },
        "id": "CHZzpWty_NWU",
        "outputId": "6b56cedb-8222-4d54-e09c-6d6bc2a14f12"
      },
      "outputs": [
        {
          "data": {
            "text/html": [
              "<style>\n",
              ".list-inline {list-style: none; margin:0; padding: 0}\n",
              ".list-inline>li {display: inline-block}\n",
              ".list-inline>li:not(:last-child)::after {content: \"\\00b7\"; padding: 0 .5ex}\n",
              "</style>\n",
              "<ol class=list-inline><li>52.19</li><li>66.6</li><li>66.49</li><li>54.85</li><li>36.35</li><li>57.12</li><li>57.39</li><li>82.07</li><li>34.3</li><li>53.55</li><li>65.1</li><li>77.01</li><li>64.21</li><li>106.67</li><li>110.49</li><li>60.72</li><li>59.5</li><li>69.22</li><li>50.89</li><li>78.16</li><li>76.83</li><li>101.2</li><li>57.19</li><li>60.46</li><li>37.96</li><li>45.25</li><li>80.68</li><li>50.77</li><li>99.88</li><li>79.22</li><li>72.7</li><li>67.29</li><li>53.12</li><li>68.87</li><li>37.53</li><li>36.57</li><li>37.92</li><li>19.85</li><li>11.29</li><li>73.52</li><li>62.13</li><li>87.19</li><li>43.09</li><li>75.06</li><li>24.45</li><li>87.82</li><li>88.62</li><li>47.55</li><li>68.08</li><li>57.94</li><li>54.96</li><li>80.47</li><li>93.15</li><li>62.4</li><li>69.81</li><li>50.72</li><li>36.07</li><li>50.88</li><li>36.33</li><li>43.07</li><li>93.63</li><li>27.18</li><li>12.6</li><li>52.94</li><li>48.6</li><li>56.21</li><li>31.53</li><li>78.16</li><li>79.67</li><li>70.81</li><li>90.76</li><li>61.14</li><li>40.12</li><li>23.81</li><li>72.76</li><li>65.64</li><li>73.72</li><li>55.86</li><li>67.25</li><li>38.57</li><li>44.77</li><li>68.36</li><li>36.27</li><li>46.82</li><li>23.03</li><li>66.59</li><li>77.91</li><li>98.38</li><li>33.81</li><li>22.2</li><li>86.78</li><li>52.5</li><li>38.03</li><li>29.99</li><li>42.76</li><li>70.3</li><li>59.79</li><li>105.36</li><li>84.43</li><li>24.82</li><li>78.75</li><li>76.45</li><li>22.42</li><li>20.47</li><li>65.84</li><li>21.65</li><li>78.55</li><li>56.53</li><li>55.65</li><li>87.5</li><li>84.36</li><li>50.65</li><li>20.57</li><li>31.17</li><li>25.86</li><li>58.04</li><li>39.38</li><li>57.62</li><li>5.59</li><li>52.53</li><li>49.49</li><li>47.29</li><li>24.56</li><li>77.56</li><li>66.34</li><li>91.32</li><li>52.91</li><li>48.68</li><li>41.45</li><li>61.24</li><li>44.11</li><li>48.53</li><li>30.51</li><li>32.62</li><li>82.97</li><li>74.35</li><li>30.91</li><li>81.09</li><li>61.65</li><li>93.51</li><li>80.83</li><li>58.24</li><li>78.4</li><li>42.09</li><li>71.75</li><li>40.31</li><li>53.25</li><li>30.6</li><li>29.4</li><li>71.23</li></ol>\n"
            ],
            "text/latex": [
              "\\begin{enumerate*}\n",
              "\\item 52.19\n",
              "\\item 66.6\n",
              "\\item 66.49\n",
              "\\item 54.85\n",
              "\\item 36.35\n",
              "\\item 57.12\n",
              "\\item 57.39\n",
              "\\item 82.07\n",
              "\\item 34.3\n",
              "\\item 53.55\n",
              "\\item 65.1\n",
              "\\item 77.01\n",
              "\\item 64.21\n",
              "\\item 106.67\n",
              "\\item 110.49\n",
              "\\item 60.72\n",
              "\\item 59.5\n",
              "\\item 69.22\n",
              "\\item 50.89\n",
              "\\item 78.16\n",
              "\\item 76.83\n",
              "\\item 101.2\n",
              "\\item 57.19\n",
              "\\item 60.46\n",
              "\\item 37.96\n",
              "\\item 45.25\n",
              "\\item 80.68\n",
              "\\item 50.77\n",
              "\\item 99.88\n",
              "\\item 79.22\n",
              "\\item 72.7\n",
              "\\item 67.29\n",
              "\\item 53.12\n",
              "\\item 68.87\n",
              "\\item 37.53\n",
              "\\item 36.57\n",
              "\\item 37.92\n",
              "\\item 19.85\n",
              "\\item 11.29\n",
              "\\item 73.52\n",
              "\\item 62.13\n",
              "\\item 87.19\n",
              "\\item 43.09\n",
              "\\item 75.06\n",
              "\\item 24.45\n",
              "\\item 87.82\n",
              "\\item 88.62\n",
              "\\item 47.55\n",
              "\\item 68.08\n",
              "\\item 57.94\n",
              "\\item 54.96\n",
              "\\item 80.47\n",
              "\\item 93.15\n",
              "\\item 62.4\n",
              "\\item 69.81\n",
              "\\item 50.72\n",
              "\\item 36.07\n",
              "\\item 50.88\n",
              "\\item 36.33\n",
              "\\item 43.07\n",
              "\\item 93.63\n",
              "\\item 27.18\n",
              "\\item 12.6\n",
              "\\item 52.94\n",
              "\\item 48.6\n",
              "\\item 56.21\n",
              "\\item 31.53\n",
              "\\item 78.16\n",
              "\\item 79.67\n",
              "\\item 70.81\n",
              "\\item 90.76\n",
              "\\item 61.14\n",
              "\\item 40.12\n",
              "\\item 23.81\n",
              "\\item 72.76\n",
              "\\item 65.64\n",
              "\\item 73.72\n",
              "\\item 55.86\n",
              "\\item 67.25\n",
              "\\item 38.57\n",
              "\\item 44.77\n",
              "\\item 68.36\n",
              "\\item 36.27\n",
              "\\item 46.82\n",
              "\\item 23.03\n",
              "\\item 66.59\n",
              "\\item 77.91\n",
              "\\item 98.38\n",
              "\\item 33.81\n",
              "\\item 22.2\n",
              "\\item 86.78\n",
              "\\item 52.5\n",
              "\\item 38.03\n",
              "\\item 29.99\n",
              "\\item 42.76\n",
              "\\item 70.3\n",
              "\\item 59.79\n",
              "\\item 105.36\n",
              "\\item 84.43\n",
              "\\item 24.82\n",
              "\\item 78.75\n",
              "\\item 76.45\n",
              "\\item 22.42\n",
              "\\item 20.47\n",
              "\\item 65.84\n",
              "\\item 21.65\n",
              "\\item 78.55\n",
              "\\item 56.53\n",
              "\\item 55.65\n",
              "\\item 87.5\n",
              "\\item 84.36\n",
              "\\item 50.65\n",
              "\\item 20.57\n",
              "\\item 31.17\n",
              "\\item 25.86\n",
              "\\item 58.04\n",
              "\\item 39.38\n",
              "\\item 57.62\n",
              "\\item 5.59\n",
              "\\item 52.53\n",
              "\\item 49.49\n",
              "\\item 47.29\n",
              "\\item 24.56\n",
              "\\item 77.56\n",
              "\\item 66.34\n",
              "\\item 91.32\n",
              "\\item 52.91\n",
              "\\item 48.68\n",
              "\\item 41.45\n",
              "\\item 61.24\n",
              "\\item 44.11\n",
              "\\item 48.53\n",
              "\\item 30.51\n",
              "\\item 32.62\n",
              "\\item 82.97\n",
              "\\item 74.35\n",
              "\\item 30.91\n",
              "\\item 81.09\n",
              "\\item 61.65\n",
              "\\item 93.51\n",
              "\\item 80.83\n",
              "\\item 58.24\n",
              "\\item 78.4\n",
              "\\item 42.09\n",
              "\\item 71.75\n",
              "\\item 40.31\n",
              "\\item 53.25\n",
              "\\item 30.6\n",
              "\\item 29.4\n",
              "\\item 71.23\n",
              "\\end{enumerate*}\n"
            ],
            "text/markdown": [
              "1. 52.19\n",
              "2. 66.6\n",
              "3. 66.49\n",
              "4. 54.85\n",
              "5. 36.35\n",
              "6. 57.12\n",
              "7. 57.39\n",
              "8. 82.07\n",
              "9. 34.3\n",
              "10. 53.55\n",
              "11. 65.1\n",
              "12. 77.01\n",
              "13. 64.21\n",
              "14. 106.67\n",
              "15. 110.49\n",
              "16. 60.72\n",
              "17. 59.5\n",
              "18. 69.22\n",
              "19. 50.89\n",
              "20. 78.16\n",
              "21. 76.83\n",
              "22. 101.2\n",
              "23. 57.19\n",
              "24. 60.46\n",
              "25. 37.96\n",
              "26. 45.25\n",
              "27. 80.68\n",
              "28. 50.77\n",
              "29. 99.88\n",
              "30. 79.22\n",
              "31. 72.7\n",
              "32. 67.29\n",
              "33. 53.12\n",
              "34. 68.87\n",
              "35. 37.53\n",
              "36. 36.57\n",
              "37. 37.92\n",
              "38. 19.85\n",
              "39. 11.29\n",
              "40. 73.52\n",
              "41. 62.13\n",
              "42. 87.19\n",
              "43. 43.09\n",
              "44. 75.06\n",
              "45. 24.45\n",
              "46. 87.82\n",
              "47. 88.62\n",
              "48. 47.55\n",
              "49. 68.08\n",
              "50. 57.94\n",
              "51. 54.96\n",
              "52. 80.47\n",
              "53. 93.15\n",
              "54. 62.4\n",
              "55. 69.81\n",
              "56. 50.72\n",
              "57. 36.07\n",
              "58. 50.88\n",
              "59. 36.33\n",
              "60. 43.07\n",
              "61. 93.63\n",
              "62. 27.18\n",
              "63. 12.6\n",
              "64. 52.94\n",
              "65. 48.6\n",
              "66. 56.21\n",
              "67. 31.53\n",
              "68. 78.16\n",
              "69. 79.67\n",
              "70. 70.81\n",
              "71. 90.76\n",
              "72. 61.14\n",
              "73. 40.12\n",
              "74. 23.81\n",
              "75. 72.76\n",
              "76. 65.64\n",
              "77. 73.72\n",
              "78. 55.86\n",
              "79. 67.25\n",
              "80. 38.57\n",
              "81. 44.77\n",
              "82. 68.36\n",
              "83. 36.27\n",
              "84. 46.82\n",
              "85. 23.03\n",
              "86. 66.59\n",
              "87. 77.91\n",
              "88. 98.38\n",
              "89. 33.81\n",
              "90. 22.2\n",
              "91. 86.78\n",
              "92. 52.5\n",
              "93. 38.03\n",
              "94. 29.99\n",
              "95. 42.76\n",
              "96. 70.3\n",
              "97. 59.79\n",
              "98. 105.36\n",
              "99. 84.43\n",
              "100. 24.82\n",
              "101. 78.75\n",
              "102. 76.45\n",
              "103. 22.42\n",
              "104. 20.47\n",
              "105. 65.84\n",
              "106. 21.65\n",
              "107. 78.55\n",
              "108. 56.53\n",
              "109. 55.65\n",
              "110. 87.5\n",
              "111. 84.36\n",
              "112. 50.65\n",
              "113. 20.57\n",
              "114. 31.17\n",
              "115. 25.86\n",
              "116. 58.04\n",
              "117. 39.38\n",
              "118. 57.62\n",
              "119. 5.59\n",
              "120. 52.53\n",
              "121. 49.49\n",
              "122. 47.29\n",
              "123. 24.56\n",
              "124. 77.56\n",
              "125. 66.34\n",
              "126. 91.32\n",
              "127. 52.91\n",
              "128. 48.68\n",
              "129. 41.45\n",
              "130. 61.24\n",
              "131. 44.11\n",
              "132. 48.53\n",
              "133. 30.51\n",
              "134. 32.62\n",
              "135. 82.97\n",
              "136. 74.35\n",
              "137. 30.91\n",
              "138. 81.09\n",
              "139. 61.65\n",
              "140. 93.51\n",
              "141. 80.83\n",
              "142. 58.24\n",
              "143. 78.4\n",
              "144. 42.09\n",
              "145. 71.75\n",
              "146. 40.31\n",
              "147. 53.25\n",
              "148. 30.6\n",
              "149. 29.4\n",
              "150. 71.23\n",
              "\n",
              "\n"
            ],
            "text/plain": [
              "  [1]  52.19  66.60  66.49  54.85  36.35  57.12  57.39  82.07  34.30  53.55\n",
              " [11]  65.10  77.01  64.21 106.67 110.49  60.72  59.50  69.22  50.89  78.16\n",
              " [21]  76.83 101.20  57.19  60.46  37.96  45.25  80.68  50.77  99.88  79.22\n",
              " [31]  72.70  67.29  53.12  68.87  37.53  36.57  37.92  19.85  11.29  73.52\n",
              " [41]  62.13  87.19  43.09  75.06  24.45  87.82  88.62  47.55  68.08  57.94\n",
              " [51]  54.96  80.47  93.15  62.40  69.81  50.72  36.07  50.88  36.33  43.07\n",
              " [61]  93.63  27.18  12.60  52.94  48.60  56.21  31.53  78.16  79.67  70.81\n",
              " [71]  90.76  61.14  40.12  23.81  72.76  65.64  73.72  55.86  67.25  38.57\n",
              " [81]  44.77  68.36  36.27  46.82  23.03  66.59  77.91  98.38  33.81  22.20\n",
              " [91]  86.78  52.50  38.03  29.99  42.76  70.30  59.79 105.36  84.43  24.82\n",
              "[101]  78.75  76.45  22.42  20.47  65.84  21.65  78.55  56.53  55.65  87.50\n",
              "[111]  84.36  50.65  20.57  31.17  25.86  58.04  39.38  57.62   5.59  52.53\n",
              "[121]  49.49  47.29  24.56  77.56  66.34  91.32  52.91  48.68  41.45  61.24\n",
              "[131]  44.11  48.53  30.51  32.62  82.97  74.35  30.91  81.09  61.65  93.51\n",
              "[141]  80.83  58.24  78.40  42.09  71.75  40.31  53.25  30.60  29.40  71.23"
            ]
          },
          "metadata": {},
          "output_type": "display_data"
        }
      ],
      "source": [
        "# Distribuição Normal\n",
        "round(\n",
        "rnorm(150, mean = mean(dados$salario), sd = sd(dados$salario))\n",
        ",2)"
      ]
    },
    {
      "cell_type": "markdown",
      "metadata": {
        "id": "XU_0OKVt_NWU"
      },
      "source": [
        "# Acesso à Dados"
      ]
    },
    {
      "cell_type": "code",
      "execution_count": 38,
      "metadata": {
        "colab": {
          "base_uri": "https://localhost:8080/",
          "height": 428
        },
        "id": "kYAy286Z_NWU",
        "outputId": "0abcebed-4d00-416f-9fbe-cdbaa98f0dca"
      },
      "outputs": [
        {
          "data": {
            "text/html": [
              "<table class=\"dataframe\">\n",
              "<caption>A data.frame: 6 × 18</caption>\n",
              "<thead>\n",
              "\t<tr><th></th><th scope=col>Ano</th><th scope=col>UF_ID</th><th scope=col>UF</th><th scope=col>Municipio_ID</th><th scope=col>Municipio</th><th scope=col>Regiao_Metropolitana</th><th scope=col>Mesorregiao_ID</th><th scope=col>Mesorregiao</th><th scope=col>Microrregioo_ID</th><th scope=col>Microrregiao</th><th scope=col>Valor_Agropecuaria</th><th scope=col>Valor_Industria</th><th scope=col>Valor_Servicos</th><th scope=col>Valor_Administracao</th><th scope=col>Valor_Impostos</th><th scope=col>PIB_Corrente</th><th scope=col>Populacao</th><th scope=col>PIB_PerCapita</th></tr>\n",
              "\t<tr><th></th><th scope=col>&lt;int&gt;</th><th scope=col>&lt;int&gt;</th><th scope=col>&lt;chr&gt;</th><th scope=col>&lt;int&gt;</th><th scope=col>&lt;chr&gt;</th><th scope=col>&lt;chr&gt;</th><th scope=col>&lt;int&gt;</th><th scope=col>&lt;chr&gt;</th><th scope=col>&lt;int&gt;</th><th scope=col>&lt;chr&gt;</th><th scope=col>&lt;dbl&gt;</th><th scope=col>&lt;dbl&gt;</th><th scope=col>&lt;dbl&gt;</th><th scope=col>&lt;dbl&gt;</th><th scope=col>&lt;dbl&gt;</th><th scope=col>&lt;dbl&gt;</th><th scope=col>&lt;int&gt;</th><th scope=col>&lt;dbl&gt;</th></tr>\n",
              "</thead>\n",
              "<tbody>\n",
              "\t<tr><th scope=row>1</th><td>1999</td><td>11</td><td>Rondonia</td><td>1100015</td><td>Alta Floresta DOeste</td><td></td><td>1102</td><td>Leste Rondoniense</td><td>11006</td><td>Cacoal           </td><td>29218.70</td><td> 4642.441</td><td> 53596.00</td><td>32720.74</td><td> 4159.380</td><td> 91616.52</td><td>NA</td><td>NA</td></tr>\n",
              "\t<tr><th scope=row>2</th><td>1999</td><td>11</td><td>Rondonia</td><td>1100023</td><td>Ariquemes           </td><td></td><td>1102</td><td>Leste Rondoniense</td><td>11003</td><td>Ariquemes        </td><td>30897.54</td><td>55892.252</td><td>204831.61</td><td>93715.30</td><td>32160.685</td><td>323782.09</td><td>NA</td><td>NA</td></tr>\n",
              "\t<tr><th scope=row>3</th><td>1999</td><td>11</td><td>Rondonia</td><td>1100031</td><td>Cabixi              </td><td></td><td>1102</td><td>Leste Rondoniense</td><td>11008</td><td>Colorado do Oeste</td><td>14964.06</td><td> 1322.313</td><td> 15248.17</td><td>10355.21</td><td>  864.456</td><td> 32399.00</td><td>NA</td><td>NA</td></tr>\n",
              "\t<tr><th scope=row>4</th><td>1999</td><td>11</td><td>Rondonia</td><td>1100049</td><td>Cacoal              </td><td></td><td>1102</td><td>Leste Rondoniense</td><td>11006</td><td>Cacoal           </td><td>57660.95</td><td>46232.032</td><td>207751.96</td><td>98184.46</td><td>33752.394</td><td>345397.34</td><td>NA</td><td>NA</td></tr>\n",
              "\t<tr><th scope=row>5</th><td>1999</td><td>11</td><td>Rondonia</td><td>1100056</td><td>Cerejeiras          </td><td></td><td>1102</td><td>Leste Rondoniense</td><td>11008</td><td>Colorado do Oeste</td><td>30456.10</td><td> 4561.603</td><td> 44733.07</td><td>25459.94</td><td> 4173.509</td><td> 83924.28</td><td>NA</td><td>NA</td></tr>\n",
              "\t<tr><th scope=row>6</th><td>1999</td><td>11</td><td>Rondonia</td><td>1100064</td><td>Colorado do Oeste   </td><td></td><td>1102</td><td>Leste Rondoniense</td><td>11008</td><td>Colorado do Oeste</td><td>21681.40</td><td> 5358.933</td><td> 48758.50</td><td>30672.05</td><td> 4034.352</td><td> 79833.18</td><td>NA</td><td>NA</td></tr>\n",
              "</tbody>\n",
              "</table>\n"
            ],
            "text/latex": [
              "A data.frame: 6 × 18\n",
              "\\begin{tabular}{r|llllllllllllllllll}\n",
              "  & Ano & UF\\_ID & UF & Municipio\\_ID & Municipio & Regiao\\_Metropolitana & Mesorregiao\\_ID & Mesorregiao & Microrregioo\\_ID & Microrregiao & Valor\\_Agropecuaria & Valor\\_Industria & Valor\\_Servicos & Valor\\_Administracao & Valor\\_Impostos & PIB\\_Corrente & Populacao & PIB\\_PerCapita\\\\\n",
              "  & <int> & <int> & <chr> & <int> & <chr> & <chr> & <int> & <chr> & <int> & <chr> & <dbl> & <dbl> & <dbl> & <dbl> & <dbl> & <dbl> & <int> & <dbl>\\\\\n",
              "\\hline\n",
              "\t1 & 1999 & 11 & Rondonia & 1100015 & Alta Floresta DOeste &  & 1102 & Leste Rondoniense & 11006 & Cacoal            & 29218.70 &  4642.441 &  53596.00 & 32720.74 &  4159.380 &  91616.52 & NA & NA\\\\\n",
              "\t2 & 1999 & 11 & Rondonia & 1100023 & Ariquemes            &  & 1102 & Leste Rondoniense & 11003 & Ariquemes         & 30897.54 & 55892.252 & 204831.61 & 93715.30 & 32160.685 & 323782.09 & NA & NA\\\\\n",
              "\t3 & 1999 & 11 & Rondonia & 1100031 & Cabixi               &  & 1102 & Leste Rondoniense & 11008 & Colorado do Oeste & 14964.06 &  1322.313 &  15248.17 & 10355.21 &   864.456 &  32399.00 & NA & NA\\\\\n",
              "\t4 & 1999 & 11 & Rondonia & 1100049 & Cacoal               &  & 1102 & Leste Rondoniense & 11006 & Cacoal            & 57660.95 & 46232.032 & 207751.96 & 98184.46 & 33752.394 & 345397.34 & NA & NA\\\\\n",
              "\t5 & 1999 & 11 & Rondonia & 1100056 & Cerejeiras           &  & 1102 & Leste Rondoniense & 11008 & Colorado do Oeste & 30456.10 &  4561.603 &  44733.07 & 25459.94 &  4173.509 &  83924.28 & NA & NA\\\\\n",
              "\t6 & 1999 & 11 & Rondonia & 1100064 & Colorado do Oeste    &  & 1102 & Leste Rondoniense & 11008 & Colorado do Oeste & 21681.40 &  5358.933 &  48758.50 & 30672.05 &  4034.352 &  79833.18 & NA & NA\\\\\n",
              "\\end{tabular}\n"
            ],
            "text/markdown": [
              "\n",
              "A data.frame: 6 × 18\n",
              "\n",
              "| <!--/--> | Ano &lt;int&gt; | UF_ID &lt;int&gt; | UF &lt;chr&gt; | Municipio_ID &lt;int&gt; | Municipio &lt;chr&gt; | Regiao_Metropolitana &lt;chr&gt; | Mesorregiao_ID &lt;int&gt; | Mesorregiao &lt;chr&gt; | Microrregioo_ID &lt;int&gt; | Microrregiao &lt;chr&gt; | Valor_Agropecuaria &lt;dbl&gt; | Valor_Industria &lt;dbl&gt; | Valor_Servicos &lt;dbl&gt; | Valor_Administracao &lt;dbl&gt; | Valor_Impostos &lt;dbl&gt; | PIB_Corrente &lt;dbl&gt; | Populacao &lt;int&gt; | PIB_PerCapita &lt;dbl&gt; |\n",
              "|---|---|---|---|---|---|---|---|---|---|---|---|---|---|---|---|---|---|---|\n",
              "| 1 | 1999 | 11 | Rondonia | 1100015 | Alta Floresta DOeste | <!----> | 1102 | Leste Rondoniense | 11006 | Cacoal            | 29218.70 |  4642.441 |  53596.00 | 32720.74 |  4159.380 |  91616.52 | NA | NA |\n",
              "| 2 | 1999 | 11 | Rondonia | 1100023 | Ariquemes            | <!----> | 1102 | Leste Rondoniense | 11003 | Ariquemes         | 30897.54 | 55892.252 | 204831.61 | 93715.30 | 32160.685 | 323782.09 | NA | NA |\n",
              "| 3 | 1999 | 11 | Rondonia | 1100031 | Cabixi               | <!----> | 1102 | Leste Rondoniense | 11008 | Colorado do Oeste | 14964.06 |  1322.313 |  15248.17 | 10355.21 |   864.456 |  32399.00 | NA | NA |\n",
              "| 4 | 1999 | 11 | Rondonia | 1100049 | Cacoal               | <!----> | 1102 | Leste Rondoniense | 11006 | Cacoal            | 57660.95 | 46232.032 | 207751.96 | 98184.46 | 33752.394 | 345397.34 | NA | NA |\n",
              "| 5 | 1999 | 11 | Rondonia | 1100056 | Cerejeiras           | <!----> | 1102 | Leste Rondoniense | 11008 | Colorado do Oeste | 30456.10 |  4561.603 |  44733.07 | 25459.94 |  4173.509 |  83924.28 | NA | NA |\n",
              "| 6 | 1999 | 11 | Rondonia | 1100064 | Colorado do Oeste    | <!----> | 1102 | Leste Rondoniense | 11008 | Colorado do Oeste | 21681.40 |  5358.933 |  48758.50 | 30672.05 |  4034.352 |  79833.18 | NA | NA |\n",
              "\n"
            ],
            "text/plain": [
              "  Ano  UF_ID UF       Municipio_ID Municipio            Regiao_Metropolitana\n",
              "1 1999 11    Rondonia 1100015      Alta Floresta DOeste                     \n",
              "2 1999 11    Rondonia 1100023      Ariquemes                                \n",
              "3 1999 11    Rondonia 1100031      Cabixi                                   \n",
              "4 1999 11    Rondonia 1100049      Cacoal                                   \n",
              "5 1999 11    Rondonia 1100056      Cerejeiras                               \n",
              "6 1999 11    Rondonia 1100064      Colorado do Oeste                        \n",
              "  Mesorregiao_ID Mesorregiao       Microrregioo_ID Microrregiao     \n",
              "1 1102           Leste Rondoniense 11006           Cacoal           \n",
              "2 1102           Leste Rondoniense 11003           Ariquemes        \n",
              "3 1102           Leste Rondoniense 11008           Colorado do Oeste\n",
              "4 1102           Leste Rondoniense 11006           Cacoal           \n",
              "5 1102           Leste Rondoniense 11008           Colorado do Oeste\n",
              "6 1102           Leste Rondoniense 11008           Colorado do Oeste\n",
              "  Valor_Agropecuaria Valor_Industria Valor_Servicos Valor_Administracao\n",
              "1 29218.70            4642.441        53596.00      32720.74           \n",
              "2 30897.54           55892.252       204831.61      93715.30           \n",
              "3 14964.06            1322.313        15248.17      10355.21           \n",
              "4 57660.95           46232.032       207751.96      98184.46           \n",
              "5 30456.10            4561.603        44733.07      25459.94           \n",
              "6 21681.40            5358.933        48758.50      30672.05           \n",
              "  Valor_Impostos PIB_Corrente Populacao PIB_PerCapita\n",
              "1  4159.380       91616.52    NA        NA           \n",
              "2 32160.685      323782.09    NA        NA           \n",
              "3   864.456       32399.00    NA        NA           \n",
              "4 33752.394      345397.34    NA        NA           \n",
              "5  4173.509       83924.28    NA        NA           \n",
              "6  4034.352       79833.18    NA        NA           "
            ]
          },
          "metadata": {},
          "output_type": "display_data"
        }
      ],
      "source": [
        "\n",
        "download.file(\"https://raw.githubusercontent.com/Rogerio-mack/Ling-de-Prog-para-Ciencia-de-Dados/master/dadosBrutos.csv\", \"dadosBrutos.csv\")\n",
        "nomeArquivo <- 'dadosBrutos.csv'\n",
        "dados <- read.csv(nomeArquivo,header=TRUE,sep=';')\n",
        "\n",
        "head(dados)\n"
      ]
    },
    {
      "cell_type": "code",
      "execution_count": 39,
      "metadata": {
        "colab": {
          "base_uri": "https://localhost:8080/",
          "height": 819
        },
        "id": "Y6ZcTeDi_NWV",
        "outputId": "bdb5fbd8-03e9-4b4d-8370-e361e317d6dd"
      },
      "outputs": [
        {
          "data": {
            "text/html": [
              "<table class=\"dataframe\">\n",
              "<caption>A data.frame: 10 × 18</caption>\n",
              "<thead>\n",
              "\t<tr><th></th><th scope=col>Ano</th><th scope=col>UF_ID</th><th scope=col>UF</th><th scope=col>Municipio_ID</th><th scope=col>Municipio</th><th scope=col>Regiao_Metropolitana</th><th scope=col>Mesorregiao_ID</th><th scope=col>Mesorregiao</th><th scope=col>Microrregioo_ID</th><th scope=col>Microrregiao</th><th scope=col>Valor_Agropecuaria</th><th scope=col>Valor_Industria</th><th scope=col>Valor_Servicos</th><th scope=col>Valor_Administracao</th><th scope=col>Valor_Impostos</th><th scope=col>PIB_Corrente</th><th scope=col>Populacao</th><th scope=col>PIB_PerCapita</th></tr>\n",
              "\t<tr><th></th><th scope=col>&lt;int&gt;</th><th scope=col>&lt;int&gt;</th><th scope=col>&lt;chr&gt;</th><th scope=col>&lt;int&gt;</th><th scope=col>&lt;chr&gt;</th><th scope=col>&lt;chr&gt;</th><th scope=col>&lt;int&gt;</th><th scope=col>&lt;chr&gt;</th><th scope=col>&lt;int&gt;</th><th scope=col>&lt;chr&gt;</th><th scope=col>&lt;dbl&gt;</th><th scope=col>&lt;dbl&gt;</th><th scope=col>&lt;dbl&gt;</th><th scope=col>&lt;dbl&gt;</th><th scope=col>&lt;dbl&gt;</th><th scope=col>&lt;dbl&gt;</th><th scope=col>&lt;int&gt;</th><th scope=col>&lt;dbl&gt;</th></tr>\n",
              "</thead>\n",
              "<tbody>\n",
              "\t<tr><th scope=row>1</th><td>1999</td><td>11</td><td>Rondonia</td><td>1100015</td><td>Alta Floresta DOeste</td><td></td><td>1102</td><td>Leste Rondoniense</td><td>11006</td><td>Cacoal           </td><td>29218.701</td><td> 4642.441</td><td> 53596.00</td><td>32720.74</td><td> 4159.380</td><td> 91616.52</td><td>NA</td><td>NA</td></tr>\n",
              "\t<tr><th scope=row>2</th><td>1999</td><td>11</td><td>Rondonia</td><td>1100023</td><td>Ariquemes           </td><td></td><td>1102</td><td>Leste Rondoniense</td><td>11003</td><td>Ariquemes        </td><td>30897.541</td><td>55892.252</td><td>204831.61</td><td>93715.30</td><td>32160.685</td><td>323782.09</td><td>NA</td><td>NA</td></tr>\n",
              "\t<tr><th scope=row>3</th><td>1999</td><td>11</td><td>Rondonia</td><td>1100031</td><td>Cabixi              </td><td></td><td>1102</td><td>Leste Rondoniense</td><td>11008</td><td>Colorado do Oeste</td><td>14964.062</td><td> 1322.313</td><td> 15248.17</td><td>10355.21</td><td>  864.456</td><td> 32399.00</td><td>NA</td><td>NA</td></tr>\n",
              "\t<tr><th scope=row>4</th><td>1999</td><td>11</td><td>Rondonia</td><td>1100049</td><td>Cacoal              </td><td></td><td>1102</td><td>Leste Rondoniense</td><td>11006</td><td>Cacoal           </td><td>57660.953</td><td>46232.032</td><td>207751.96</td><td>98184.46</td><td>33752.394</td><td>345397.34</td><td>NA</td><td>NA</td></tr>\n",
              "\t<tr><th scope=row>5</th><td>1999</td><td>11</td><td>Rondonia</td><td>1100056</td><td>Cerejeiras          </td><td></td><td>1102</td><td>Leste Rondoniense</td><td>11008</td><td>Colorado do Oeste</td><td>30456.100</td><td> 4561.603</td><td> 44733.07</td><td>25459.94</td><td> 4173.509</td><td> 83924.28</td><td>NA</td><td>NA</td></tr>\n",
              "\t<tr><th scope=row>6</th><td>1999</td><td>11</td><td>Rondonia</td><td>1100064</td><td>Colorado do Oeste   </td><td></td><td>1102</td><td>Leste Rondoniense</td><td>11008</td><td>Colorado do Oeste</td><td>21681.398</td><td> 5358.933</td><td> 48758.50</td><td>30672.05</td><td> 4034.352</td><td> 79833.18</td><td>NA</td><td>NA</td></tr>\n",
              "\t<tr><th scope=row>7</th><td>1999</td><td>11</td><td>Rondonia</td><td>1100072</td><td>Corumbiara          </td><td></td><td>1102</td><td>Leste Rondoniense</td><td>11008</td><td>Colorado do Oeste</td><td>18846.443</td><td> 1696.923</td><td> 17063.53</td><td>12602.81</td><td>  806.596</td><td> 38413.49</td><td>NA</td><td>NA</td></tr>\n",
              "\t<tr><th scope=row>8</th><td>1999</td><td>11</td><td>Rondonia</td><td>1100080</td><td>Costa Marques       </td><td></td><td>1101</td><td>Madeira-Guapore  </td><td>11002</td><td>Guajara-Mirim    </td><td> 1579.275</td><td> 1840.001</td><td> 20607.60</td><td>14836.64</td><td> 1320.001</td><td> 25346.88</td><td>NA</td><td>NA</td></tr>\n",
              "\t<tr><th scope=row>9</th><td>1999</td><td>11</td><td>Rondonia</td><td>1100098</td><td>Espigao DOeste      </td><td></td><td>1102</td><td>Leste Rondoniense</td><td>11006</td><td>Cacoal           </td><td>26900.998</td><td>11036.322</td><td> 52982.13</td><td>30843.49</td><td> 7045.774</td><td> 97965.22</td><td>NA</td><td>NA</td></tr>\n",
              "\t<tr><th scope=row>10</th><td>1999</td><td>11</td><td>Rondonia</td><td>1100106</td><td>Guajara-Mirim       </td><td></td><td>1101</td><td>Madeira-Guapore  </td><td>11002</td><td>Guajara-Mirim    </td><td> 6673.193</td><td> 5113.969</td><td>104020.14</td><td>51914.74</td><td>10463.893</td><td>126271.19</td><td>NA</td><td>NA</td></tr>\n",
              "</tbody>\n",
              "</table>\n"
            ],
            "text/latex": [
              "A data.frame: 10 × 18\n",
              "\\begin{tabular}{r|llllllllllllllllll}\n",
              "  & Ano & UF\\_ID & UF & Municipio\\_ID & Municipio & Regiao\\_Metropolitana & Mesorregiao\\_ID & Mesorregiao & Microrregioo\\_ID & Microrregiao & Valor\\_Agropecuaria & Valor\\_Industria & Valor\\_Servicos & Valor\\_Administracao & Valor\\_Impostos & PIB\\_Corrente & Populacao & PIB\\_PerCapita\\\\\n",
              "  & <int> & <int> & <chr> & <int> & <chr> & <chr> & <int> & <chr> & <int> & <chr> & <dbl> & <dbl> & <dbl> & <dbl> & <dbl> & <dbl> & <int> & <dbl>\\\\\n",
              "\\hline\n",
              "\t1 & 1999 & 11 & Rondonia & 1100015 & Alta Floresta DOeste &  & 1102 & Leste Rondoniense & 11006 & Cacoal            & 29218.701 &  4642.441 &  53596.00 & 32720.74 &  4159.380 &  91616.52 & NA & NA\\\\\n",
              "\t2 & 1999 & 11 & Rondonia & 1100023 & Ariquemes            &  & 1102 & Leste Rondoniense & 11003 & Ariquemes         & 30897.541 & 55892.252 & 204831.61 & 93715.30 & 32160.685 & 323782.09 & NA & NA\\\\\n",
              "\t3 & 1999 & 11 & Rondonia & 1100031 & Cabixi               &  & 1102 & Leste Rondoniense & 11008 & Colorado do Oeste & 14964.062 &  1322.313 &  15248.17 & 10355.21 &   864.456 &  32399.00 & NA & NA\\\\\n",
              "\t4 & 1999 & 11 & Rondonia & 1100049 & Cacoal               &  & 1102 & Leste Rondoniense & 11006 & Cacoal            & 57660.953 & 46232.032 & 207751.96 & 98184.46 & 33752.394 & 345397.34 & NA & NA\\\\\n",
              "\t5 & 1999 & 11 & Rondonia & 1100056 & Cerejeiras           &  & 1102 & Leste Rondoniense & 11008 & Colorado do Oeste & 30456.100 &  4561.603 &  44733.07 & 25459.94 &  4173.509 &  83924.28 & NA & NA\\\\\n",
              "\t6 & 1999 & 11 & Rondonia & 1100064 & Colorado do Oeste    &  & 1102 & Leste Rondoniense & 11008 & Colorado do Oeste & 21681.398 &  5358.933 &  48758.50 & 30672.05 &  4034.352 &  79833.18 & NA & NA\\\\\n",
              "\t7 & 1999 & 11 & Rondonia & 1100072 & Corumbiara           &  & 1102 & Leste Rondoniense & 11008 & Colorado do Oeste & 18846.443 &  1696.923 &  17063.53 & 12602.81 &   806.596 &  38413.49 & NA & NA\\\\\n",
              "\t8 & 1999 & 11 & Rondonia & 1100080 & Costa Marques        &  & 1101 & Madeira-Guapore   & 11002 & Guajara-Mirim     &  1579.275 &  1840.001 &  20607.60 & 14836.64 &  1320.001 &  25346.88 & NA & NA\\\\\n",
              "\t9 & 1999 & 11 & Rondonia & 1100098 & Espigao DOeste       &  & 1102 & Leste Rondoniense & 11006 & Cacoal            & 26900.998 & 11036.322 &  52982.13 & 30843.49 &  7045.774 &  97965.22 & NA & NA\\\\\n",
              "\t10 & 1999 & 11 & Rondonia & 1100106 & Guajara-Mirim        &  & 1101 & Madeira-Guapore   & 11002 & Guajara-Mirim     &  6673.193 &  5113.969 & 104020.14 & 51914.74 & 10463.893 & 126271.19 & NA & NA\\\\\n",
              "\\end{tabular}\n"
            ],
            "text/markdown": [
              "\n",
              "A data.frame: 10 × 18\n",
              "\n",
              "| <!--/--> | Ano &lt;int&gt; | UF_ID &lt;int&gt; | UF &lt;chr&gt; | Municipio_ID &lt;int&gt; | Municipio &lt;chr&gt; | Regiao_Metropolitana &lt;chr&gt; | Mesorregiao_ID &lt;int&gt; | Mesorregiao &lt;chr&gt; | Microrregioo_ID &lt;int&gt; | Microrregiao &lt;chr&gt; | Valor_Agropecuaria &lt;dbl&gt; | Valor_Industria &lt;dbl&gt; | Valor_Servicos &lt;dbl&gt; | Valor_Administracao &lt;dbl&gt; | Valor_Impostos &lt;dbl&gt; | PIB_Corrente &lt;dbl&gt; | Populacao &lt;int&gt; | PIB_PerCapita &lt;dbl&gt; |\n",
              "|---|---|---|---|---|---|---|---|---|---|---|---|---|---|---|---|---|---|---|\n",
              "| 1 | 1999 | 11 | Rondonia | 1100015 | Alta Floresta DOeste | <!----> | 1102 | Leste Rondoniense | 11006 | Cacoal            | 29218.701 |  4642.441 |  53596.00 | 32720.74 |  4159.380 |  91616.52 | NA | NA |\n",
              "| 2 | 1999 | 11 | Rondonia | 1100023 | Ariquemes            | <!----> | 1102 | Leste Rondoniense | 11003 | Ariquemes         | 30897.541 | 55892.252 | 204831.61 | 93715.30 | 32160.685 | 323782.09 | NA | NA |\n",
              "| 3 | 1999 | 11 | Rondonia | 1100031 | Cabixi               | <!----> | 1102 | Leste Rondoniense | 11008 | Colorado do Oeste | 14964.062 |  1322.313 |  15248.17 | 10355.21 |   864.456 |  32399.00 | NA | NA |\n",
              "| 4 | 1999 | 11 | Rondonia | 1100049 | Cacoal               | <!----> | 1102 | Leste Rondoniense | 11006 | Cacoal            | 57660.953 | 46232.032 | 207751.96 | 98184.46 | 33752.394 | 345397.34 | NA | NA |\n",
              "| 5 | 1999 | 11 | Rondonia | 1100056 | Cerejeiras           | <!----> | 1102 | Leste Rondoniense | 11008 | Colorado do Oeste | 30456.100 |  4561.603 |  44733.07 | 25459.94 |  4173.509 |  83924.28 | NA | NA |\n",
              "| 6 | 1999 | 11 | Rondonia | 1100064 | Colorado do Oeste    | <!----> | 1102 | Leste Rondoniense | 11008 | Colorado do Oeste | 21681.398 |  5358.933 |  48758.50 | 30672.05 |  4034.352 |  79833.18 | NA | NA |\n",
              "| 7 | 1999 | 11 | Rondonia | 1100072 | Corumbiara           | <!----> | 1102 | Leste Rondoniense | 11008 | Colorado do Oeste | 18846.443 |  1696.923 |  17063.53 | 12602.81 |   806.596 |  38413.49 | NA | NA |\n",
              "| 8 | 1999 | 11 | Rondonia | 1100080 | Costa Marques        | <!----> | 1101 | Madeira-Guapore   | 11002 | Guajara-Mirim     |  1579.275 |  1840.001 |  20607.60 | 14836.64 |  1320.001 |  25346.88 | NA | NA |\n",
              "| 9 | 1999 | 11 | Rondonia | 1100098 | Espigao DOeste       | <!----> | 1102 | Leste Rondoniense | 11006 | Cacoal            | 26900.998 | 11036.322 |  52982.13 | 30843.49 |  7045.774 |  97965.22 | NA | NA |\n",
              "| 10 | 1999 | 11 | Rondonia | 1100106 | Guajara-Mirim        | <!----> | 1101 | Madeira-Guapore   | 11002 | Guajara-Mirim     |  6673.193 |  5113.969 | 104020.14 | 51914.74 | 10463.893 | 126271.19 | NA | NA |\n",
              "\n"
            ],
            "text/plain": [
              "   Ano  UF_ID UF       Municipio_ID Municipio            Regiao_Metropolitana\n",
              "1  1999 11    Rondonia 1100015      Alta Floresta DOeste                     \n",
              "2  1999 11    Rondonia 1100023      Ariquemes                                \n",
              "3  1999 11    Rondonia 1100031      Cabixi                                   \n",
              "4  1999 11    Rondonia 1100049      Cacoal                                   \n",
              "5  1999 11    Rondonia 1100056      Cerejeiras                               \n",
              "6  1999 11    Rondonia 1100064      Colorado do Oeste                        \n",
              "7  1999 11    Rondonia 1100072      Corumbiara                               \n",
              "8  1999 11    Rondonia 1100080      Costa Marques                            \n",
              "9  1999 11    Rondonia 1100098      Espigao DOeste                           \n",
              "10 1999 11    Rondonia 1100106      Guajara-Mirim                            \n",
              "   Mesorregiao_ID Mesorregiao       Microrregioo_ID Microrregiao     \n",
              "1  1102           Leste Rondoniense 11006           Cacoal           \n",
              "2  1102           Leste Rondoniense 11003           Ariquemes        \n",
              "3  1102           Leste Rondoniense 11008           Colorado do Oeste\n",
              "4  1102           Leste Rondoniense 11006           Cacoal           \n",
              "5  1102           Leste Rondoniense 11008           Colorado do Oeste\n",
              "6  1102           Leste Rondoniense 11008           Colorado do Oeste\n",
              "7  1102           Leste Rondoniense 11008           Colorado do Oeste\n",
              "8  1101           Madeira-Guapore   11002           Guajara-Mirim    \n",
              "9  1102           Leste Rondoniense 11006           Cacoal           \n",
              "10 1101           Madeira-Guapore   11002           Guajara-Mirim    \n",
              "   Valor_Agropecuaria Valor_Industria Valor_Servicos Valor_Administracao\n",
              "1  29218.701           4642.441        53596.00      32720.74           \n",
              "2  30897.541          55892.252       204831.61      93715.30           \n",
              "3  14964.062           1322.313        15248.17      10355.21           \n",
              "4  57660.953          46232.032       207751.96      98184.46           \n",
              "5  30456.100           4561.603        44733.07      25459.94           \n",
              "6  21681.398           5358.933        48758.50      30672.05           \n",
              "7  18846.443           1696.923        17063.53      12602.81           \n",
              "8   1579.275           1840.001        20607.60      14836.64           \n",
              "9  26900.998          11036.322        52982.13      30843.49           \n",
              "10  6673.193           5113.969       104020.14      51914.74           \n",
              "   Valor_Impostos PIB_Corrente Populacao PIB_PerCapita\n",
              "1   4159.380       91616.52    NA        NA           \n",
              "2  32160.685      323782.09    NA        NA           \n",
              "3    864.456       32399.00    NA        NA           \n",
              "4  33752.394      345397.34    NA        NA           \n",
              "5   4173.509       83924.28    NA        NA           \n",
              "6   4034.352       79833.18    NA        NA           \n",
              "7    806.596       38413.49    NA        NA           \n",
              "8   1320.001       25346.88    NA        NA           \n",
              "9   7045.774       97965.22    NA        NA           \n",
              "10 10463.893      126271.19    NA        NA           "
            ]
          },
          "metadata": {},
          "output_type": "display_data"
        },
        {
          "data": {
            "text/html": [
              "<table class=\"dataframe\">\n",
              "<caption>A data.frame: 2 × 18</caption>\n",
              "<thead>\n",
              "\t<tr><th></th><th scope=col>Ano</th><th scope=col>UF_ID</th><th scope=col>UF</th><th scope=col>Municipio_ID</th><th scope=col>Municipio</th><th scope=col>Regiao_Metropolitana</th><th scope=col>Mesorregiao_ID</th><th scope=col>Mesorregiao</th><th scope=col>Microrregioo_ID</th><th scope=col>Microrregiao</th><th scope=col>Valor_Agropecuaria</th><th scope=col>Valor_Industria</th><th scope=col>Valor_Servicos</th><th scope=col>Valor_Administracao</th><th scope=col>Valor_Impostos</th><th scope=col>PIB_Corrente</th><th scope=col>Populacao</th><th scope=col>PIB_PerCapita</th></tr>\n",
              "\t<tr><th></th><th scope=col>&lt;int&gt;</th><th scope=col>&lt;int&gt;</th><th scope=col>&lt;chr&gt;</th><th scope=col>&lt;int&gt;</th><th scope=col>&lt;chr&gt;</th><th scope=col>&lt;chr&gt;</th><th scope=col>&lt;int&gt;</th><th scope=col>&lt;chr&gt;</th><th scope=col>&lt;int&gt;</th><th scope=col>&lt;chr&gt;</th><th scope=col>&lt;dbl&gt;</th><th scope=col>&lt;dbl&gt;</th><th scope=col>&lt;dbl&gt;</th><th scope=col>&lt;dbl&gt;</th><th scope=col>&lt;dbl&gt;</th><th scope=col>&lt;dbl&gt;</th><th scope=col>&lt;int&gt;</th><th scope=col>&lt;dbl&gt;</th></tr>\n",
              "</thead>\n",
              "<tbody>\n",
              "\t<tr><th scope=row>1</th><td>1999</td><td>11</td><td>Rondonia</td><td>1100015</td><td>Alta Floresta DOeste</td><td></td><td>1102</td><td>Leste Rondoniense</td><td>11006</td><td>Cacoal   </td><td>29218.70</td><td> 4642.441</td><td> 53596.0</td><td>32720.74</td><td> 4159.38</td><td> 91616.52</td><td>NA</td><td>NA</td></tr>\n",
              "\t<tr><th scope=row>2</th><td>1999</td><td>11</td><td>Rondonia</td><td>1100023</td><td>Ariquemes           </td><td></td><td>1102</td><td>Leste Rondoniense</td><td>11003</td><td>Ariquemes</td><td>30897.54</td><td>55892.252</td><td>204831.6</td><td>93715.30</td><td>32160.69</td><td>323782.09</td><td>NA</td><td>NA</td></tr>\n",
              "</tbody>\n",
              "</table>\n"
            ],
            "text/latex": [
              "A data.frame: 2 × 18\n",
              "\\begin{tabular}{r|llllllllllllllllll}\n",
              "  & Ano & UF\\_ID & UF & Municipio\\_ID & Municipio & Regiao\\_Metropolitana & Mesorregiao\\_ID & Mesorregiao & Microrregioo\\_ID & Microrregiao & Valor\\_Agropecuaria & Valor\\_Industria & Valor\\_Servicos & Valor\\_Administracao & Valor\\_Impostos & PIB\\_Corrente & Populacao & PIB\\_PerCapita\\\\\n",
              "  & <int> & <int> & <chr> & <int> & <chr> & <chr> & <int> & <chr> & <int> & <chr> & <dbl> & <dbl> & <dbl> & <dbl> & <dbl> & <dbl> & <int> & <dbl>\\\\\n",
              "\\hline\n",
              "\t1 & 1999 & 11 & Rondonia & 1100015 & Alta Floresta DOeste &  & 1102 & Leste Rondoniense & 11006 & Cacoal    & 29218.70 &  4642.441 &  53596.0 & 32720.74 &  4159.38 &  91616.52 & NA & NA\\\\\n",
              "\t2 & 1999 & 11 & Rondonia & 1100023 & Ariquemes            &  & 1102 & Leste Rondoniense & 11003 & Ariquemes & 30897.54 & 55892.252 & 204831.6 & 93715.30 & 32160.69 & 323782.09 & NA & NA\\\\\n",
              "\\end{tabular}\n"
            ],
            "text/markdown": [
              "\n",
              "A data.frame: 2 × 18\n",
              "\n",
              "| <!--/--> | Ano &lt;int&gt; | UF_ID &lt;int&gt; | UF &lt;chr&gt; | Municipio_ID &lt;int&gt; | Municipio &lt;chr&gt; | Regiao_Metropolitana &lt;chr&gt; | Mesorregiao_ID &lt;int&gt; | Mesorregiao &lt;chr&gt; | Microrregioo_ID &lt;int&gt; | Microrregiao &lt;chr&gt; | Valor_Agropecuaria &lt;dbl&gt; | Valor_Industria &lt;dbl&gt; | Valor_Servicos &lt;dbl&gt; | Valor_Administracao &lt;dbl&gt; | Valor_Impostos &lt;dbl&gt; | PIB_Corrente &lt;dbl&gt; | Populacao &lt;int&gt; | PIB_PerCapita &lt;dbl&gt; |\n",
              "|---|---|---|---|---|---|---|---|---|---|---|---|---|---|---|---|---|---|---|\n",
              "| 1 | 1999 | 11 | Rondonia | 1100015 | Alta Floresta DOeste | <!----> | 1102 | Leste Rondoniense | 11006 | Cacoal    | 29218.70 |  4642.441 |  53596.0 | 32720.74 |  4159.38 |  91616.52 | NA | NA |\n",
              "| 2 | 1999 | 11 | Rondonia | 1100023 | Ariquemes            | <!----> | 1102 | Leste Rondoniense | 11003 | Ariquemes | 30897.54 | 55892.252 | 204831.6 | 93715.30 | 32160.69 | 323782.09 | NA | NA |\n",
              "\n"
            ],
            "text/plain": [
              "  Ano  UF_ID UF       Municipio_ID Municipio            Regiao_Metropolitana\n",
              "1 1999 11    Rondonia 1100015      Alta Floresta DOeste                     \n",
              "2 1999 11    Rondonia 1100023      Ariquemes                                \n",
              "  Mesorregiao_ID Mesorregiao       Microrregioo_ID Microrregiao\n",
              "1 1102           Leste Rondoniense 11006           Cacoal      \n",
              "2 1102           Leste Rondoniense 11003           Ariquemes   \n",
              "  Valor_Agropecuaria Valor_Industria Valor_Servicos Valor_Administracao\n",
              "1 29218.70            4642.441        53596.0       32720.74           \n",
              "2 30897.54           55892.252       204831.6       93715.30           \n",
              "  Valor_Impostos PIB_Corrente Populacao PIB_PerCapita\n",
              "1  4159.38        91616.52    NA        NA           \n",
              "2 32160.69       323782.09    NA        NA           "
            ]
          },
          "metadata": {},
          "output_type": "display_data"
        }
      ],
      "source": [
        "head(dados,10)\n",
        "head(dados,2)\n",
        "\n"
      ]
    },
    {
      "cell_type": "code",
      "execution_count": 40,
      "metadata": {
        "colab": {
          "base_uri": "https://localhost:8080/",
          "height": 1000
        },
        "id": "ZWt8AzZw_NWV",
        "outputId": "d8e84511-264f-49d2-e1e9-fea26d4ed811"
      },
      "outputs": [
        {
          "data": {
            "text/html": [
              "<table class=\"dataframe\">\n",
              "<caption>A data.frame: 6 × 18</caption>\n",
              "<thead>\n",
              "\t<tr><th></th><th scope=col>Ano</th><th scope=col>UF_ID</th><th scope=col>UF</th><th scope=col>Municipio_ID</th><th scope=col>Municipio</th><th scope=col>Regiao_Metropolitana</th><th scope=col>Mesorregiao_ID</th><th scope=col>Mesorregiao</th><th scope=col>Microrregioo_ID</th><th scope=col>Microrregiao</th><th scope=col>Valor_Agropecuaria</th><th scope=col>Valor_Industria</th><th scope=col>Valor_Servicos</th><th scope=col>Valor_Administracao</th><th scope=col>Valor_Impostos</th><th scope=col>PIB_Corrente</th><th scope=col>Populacao</th><th scope=col>PIB_PerCapita</th></tr>\n",
              "\t<tr><th></th><th scope=col>&lt;int&gt;</th><th scope=col>&lt;int&gt;</th><th scope=col>&lt;chr&gt;</th><th scope=col>&lt;int&gt;</th><th scope=col>&lt;chr&gt;</th><th scope=col>&lt;chr&gt;</th><th scope=col>&lt;int&gt;</th><th scope=col>&lt;chr&gt;</th><th scope=col>&lt;int&gt;</th><th scope=col>&lt;chr&gt;</th><th scope=col>&lt;dbl&gt;</th><th scope=col>&lt;dbl&gt;</th><th scope=col>&lt;dbl&gt;</th><th scope=col>&lt;dbl&gt;</th><th scope=col>&lt;dbl&gt;</th><th scope=col>&lt;dbl&gt;</th><th scope=col>&lt;int&gt;</th><th scope=col>&lt;dbl&gt;</th></tr>\n",
              "</thead>\n",
              "<tbody>\n",
              "\t<tr><th scope=row>66635</th><td>2010</td><td>52</td><td>Goias           </td><td>5221908</td><td>Varjao        </td><td>                                                                        </td><td>5205</td><td>Sul Goiano      </td><td>52014</td><td>Vale do Rio dos Bois</td><td> 11792.43</td><td>   2945.800</td><td>    17149.13</td><td>    8022.706</td><td>    1583.789</td><td>    33471.15</td><td>   3661</td><td> 9142.62</td></tr>\n",
              "\t<tr><th scope=row>66636</th><td>2010</td><td>52</td><td>Goias           </td><td>5222005</td><td>Vianopolis    </td><td>                                                                        </td><td>5205</td><td>Sul Goiano      </td><td>52016</td><td>Pires do Rio        </td><td> 57902.33</td><td>  21737.879</td><td>    81168.99</td><td>   24544.062</td><td>   10203.946</td><td>   171013.15</td><td>  12549</td><td>13627.63</td></tr>\n",
              "\t<tr><th scope=row>66637</th><td>2010</td><td>52</td><td>Goias           </td><td>5222054</td><td>Vicentinopolis</td><td>                                                                        </td><td>5205</td><td>Sul Goiano      </td><td>52015</td><td>Meia Ponte          </td><td> 41906.25</td><td>  17927.073</td><td>    48572.94</td><td>   14838.702</td><td>    5858.979</td><td>   114265.24</td><td>   7371</td><td>15502.00</td></tr>\n",
              "\t<tr><th scope=row>66638</th><td>2010</td><td>52</td><td>Goias           </td><td>5222203</td><td>Vila Boa      </td><td>RIDE - Regiao Integrada de Desenvolvimento do Distrito Federal e Entorno</td><td>5204</td><td>Leste Goiano    </td><td>52012</td><td>Entorno de Brasilia </td><td> 34680.99</td><td>   7080.613</td><td>    27917.72</td><td>   12236.672</td><td>    3363.469</td><td>    73042.79</td><td>   4742</td><td>15403.37</td></tr>\n",
              "\t<tr><th scope=row>66639</th><td>2010</td><td>52</td><td>Goias           </td><td>5222302</td><td>Vila Propicio </td><td>                                                                        </td><td>5204</td><td>Leste Goiano    </td><td>52012</td><td>Entorno de Brasilia </td><td> 71504.34</td><td>   6022.426</td><td>    27272.10</td><td>   11038.197</td><td>    3317.144</td><td>   108116.01</td><td>   5145</td><td>21013.80</td></tr>\n",
              "\t<tr><th scope=row>66640</th><td>2010</td><td>53</td><td>Distrito Federal</td><td>5300108</td><td>Brasilia      </td><td>RIDE - Regiao Integrada de Desenvolvimento do Distrito Federal e Entorno</td><td>5301</td><td>Distrito Federal</td><td>53001</td><td>Brasilia            </td><td>334930.28</td><td>8720979.863</td><td>124179104.50</td><td>72493372.060</td><td>16671304.210</td><td>149906318.90</td><td>2562963</td><td>58489.46</td></tr>\n",
              "</tbody>\n",
              "</table>\n"
            ],
            "text/latex": [
              "A data.frame: 6 × 18\n",
              "\\begin{tabular}{r|llllllllllllllllll}\n",
              "  & Ano & UF\\_ID & UF & Municipio\\_ID & Municipio & Regiao\\_Metropolitana & Mesorregiao\\_ID & Mesorregiao & Microrregioo\\_ID & Microrregiao & Valor\\_Agropecuaria & Valor\\_Industria & Valor\\_Servicos & Valor\\_Administracao & Valor\\_Impostos & PIB\\_Corrente & Populacao & PIB\\_PerCapita\\\\\n",
              "  & <int> & <int> & <chr> & <int> & <chr> & <chr> & <int> & <chr> & <int> & <chr> & <dbl> & <dbl> & <dbl> & <dbl> & <dbl> & <dbl> & <int> & <dbl>\\\\\n",
              "\\hline\n",
              "\t66635 & 2010 & 52 & Goias            & 5221908 & Varjao         &                                                                          & 5205 & Sul Goiano       & 52014 & Vale do Rio dos Bois &  11792.43 &    2945.800 &     17149.13 &     8022.706 &     1583.789 &     33471.15 &    3661 &  9142.62\\\\\n",
              "\t66636 & 2010 & 52 & Goias            & 5222005 & Vianopolis     &                                                                          & 5205 & Sul Goiano       & 52016 & Pires do Rio         &  57902.33 &   21737.879 &     81168.99 &    24544.062 &    10203.946 &    171013.15 &   12549 & 13627.63\\\\\n",
              "\t66637 & 2010 & 52 & Goias            & 5222054 & Vicentinopolis &                                                                          & 5205 & Sul Goiano       & 52015 & Meia Ponte           &  41906.25 &   17927.073 &     48572.94 &    14838.702 &     5858.979 &    114265.24 &    7371 & 15502.00\\\\\n",
              "\t66638 & 2010 & 52 & Goias            & 5222203 & Vila Boa       & RIDE - Regiao Integrada de Desenvolvimento do Distrito Federal e Entorno & 5204 & Leste Goiano     & 52012 & Entorno de Brasilia  &  34680.99 &    7080.613 &     27917.72 &    12236.672 &     3363.469 &     73042.79 &    4742 & 15403.37\\\\\n",
              "\t66639 & 2010 & 52 & Goias            & 5222302 & Vila Propicio  &                                                                          & 5204 & Leste Goiano     & 52012 & Entorno de Brasilia  &  71504.34 &    6022.426 &     27272.10 &    11038.197 &     3317.144 &    108116.01 &    5145 & 21013.80\\\\\n",
              "\t66640 & 2010 & 53 & Distrito Federal & 5300108 & Brasilia       & RIDE - Regiao Integrada de Desenvolvimento do Distrito Federal e Entorno & 5301 & Distrito Federal & 53001 & Brasilia             & 334930.28 & 8720979.863 & 124179104.50 & 72493372.060 & 16671304.210 & 149906318.90 & 2562963 & 58489.46\\\\\n",
              "\\end{tabular}\n"
            ],
            "text/markdown": [
              "\n",
              "A data.frame: 6 × 18\n",
              "\n",
              "| <!--/--> | Ano &lt;int&gt; | UF_ID &lt;int&gt; | UF &lt;chr&gt; | Municipio_ID &lt;int&gt; | Municipio &lt;chr&gt; | Regiao_Metropolitana &lt;chr&gt; | Mesorregiao_ID &lt;int&gt; | Mesorregiao &lt;chr&gt; | Microrregioo_ID &lt;int&gt; | Microrregiao &lt;chr&gt; | Valor_Agropecuaria &lt;dbl&gt; | Valor_Industria &lt;dbl&gt; | Valor_Servicos &lt;dbl&gt; | Valor_Administracao &lt;dbl&gt; | Valor_Impostos &lt;dbl&gt; | PIB_Corrente &lt;dbl&gt; | Populacao &lt;int&gt; | PIB_PerCapita &lt;dbl&gt; |\n",
              "|---|---|---|---|---|---|---|---|---|---|---|---|---|---|---|---|---|---|---|\n",
              "| 66635 | 2010 | 52 | Goias            | 5221908 | Varjao         | <!----> | 5205 | Sul Goiano       | 52014 | Vale do Rio dos Bois |  11792.43 |    2945.800 |     17149.13 |     8022.706 |     1583.789 |     33471.15 |    3661 |  9142.62 |\n",
              "| 66636 | 2010 | 52 | Goias            | 5222005 | Vianopolis     | <!----> | 5205 | Sul Goiano       | 52016 | Pires do Rio         |  57902.33 |   21737.879 |     81168.99 |    24544.062 |    10203.946 |    171013.15 |   12549 | 13627.63 |\n",
              "| 66637 | 2010 | 52 | Goias            | 5222054 | Vicentinopolis | <!----> | 5205 | Sul Goiano       | 52015 | Meia Ponte           |  41906.25 |   17927.073 |     48572.94 |    14838.702 |     5858.979 |    114265.24 |    7371 | 15502.00 |\n",
              "| 66638 | 2010 | 52 | Goias            | 5222203 | Vila Boa       | RIDE - Regiao Integrada de Desenvolvimento do Distrito Federal e Entorno | 5204 | Leste Goiano     | 52012 | Entorno de Brasilia  |  34680.99 |    7080.613 |     27917.72 |    12236.672 |     3363.469 |     73042.79 |    4742 | 15403.37 |\n",
              "| 66639 | 2010 | 52 | Goias            | 5222302 | Vila Propicio  | <!----> | 5204 | Leste Goiano     | 52012 | Entorno de Brasilia  |  71504.34 |    6022.426 |     27272.10 |    11038.197 |     3317.144 |    108116.01 |    5145 | 21013.80 |\n",
              "| 66640 | 2010 | 53 | Distrito Federal | 5300108 | Brasilia       | RIDE - Regiao Integrada de Desenvolvimento do Distrito Federal e Entorno | 5301 | Distrito Federal | 53001 | Brasilia             | 334930.28 | 8720979.863 | 124179104.50 | 72493372.060 | 16671304.210 | 149906318.90 | 2562963 | 58489.46 |\n",
              "\n"
            ],
            "text/plain": [
              "      Ano  UF_ID UF               Municipio_ID Municipio     \n",
              "66635 2010 52    Goias            5221908      Varjao        \n",
              "66636 2010 52    Goias            5222005      Vianopolis    \n",
              "66637 2010 52    Goias            5222054      Vicentinopolis\n",
              "66638 2010 52    Goias            5222203      Vila Boa      \n",
              "66639 2010 52    Goias            5222302      Vila Propicio \n",
              "66640 2010 53    Distrito Federal 5300108      Brasilia      \n",
              "      Regiao_Metropolitana                                                    \n",
              "66635                                                                         \n",
              "66636                                                                         \n",
              "66637                                                                         \n",
              "66638 RIDE - Regiao Integrada de Desenvolvimento do Distrito Federal e Entorno\n",
              "66639                                                                         \n",
              "66640 RIDE - Regiao Integrada de Desenvolvimento do Distrito Federal e Entorno\n",
              "      Mesorregiao_ID Mesorregiao      Microrregioo_ID Microrregiao        \n",
              "66635 5205           Sul Goiano       52014           Vale do Rio dos Bois\n",
              "66636 5205           Sul Goiano       52016           Pires do Rio        \n",
              "66637 5205           Sul Goiano       52015           Meia Ponte          \n",
              "66638 5204           Leste Goiano     52012           Entorno de Brasilia \n",
              "66639 5204           Leste Goiano     52012           Entorno de Brasilia \n",
              "66640 5301           Distrito Federal 53001           Brasilia            \n",
              "      Valor_Agropecuaria Valor_Industria Valor_Servicos Valor_Administracao\n",
              "66635  11792.43             2945.800         17149.13       8022.706       \n",
              "66636  57902.33            21737.879         81168.99      24544.062       \n",
              "66637  41906.25            17927.073         48572.94      14838.702       \n",
              "66638  34680.99             7080.613         27917.72      12236.672       \n",
              "66639  71504.34             6022.426         27272.10      11038.197       \n",
              "66640 334930.28          8720979.863     124179104.50   72493372.060       \n",
              "      Valor_Impostos PIB_Corrente Populacao PIB_PerCapita\n",
              "66635     1583.789       33471.15    3661    9142.62     \n",
              "66636    10203.946      171013.15   12549   13627.63     \n",
              "66637     5858.979      114265.24    7371   15502.00     \n",
              "66638     3363.469       73042.79    4742   15403.37     \n",
              "66639     3317.144      108116.01    5145   21013.80     \n",
              "66640 16671304.210   149906318.90 2562963   58489.46     "
            ]
          },
          "metadata": {},
          "output_type": "display_data"
        },
        {
          "data": {
            "text/html": [
              "<table class=\"dataframe\">\n",
              "<caption>A data.frame: 10 × 18</caption>\n",
              "<thead>\n",
              "\t<tr><th></th><th scope=col>Ano</th><th scope=col>UF_ID</th><th scope=col>UF</th><th scope=col>Municipio_ID</th><th scope=col>Municipio</th><th scope=col>Regiao_Metropolitana</th><th scope=col>Mesorregiao_ID</th><th scope=col>Mesorregiao</th><th scope=col>Microrregioo_ID</th><th scope=col>Microrregiao</th><th scope=col>Valor_Agropecuaria</th><th scope=col>Valor_Industria</th><th scope=col>Valor_Servicos</th><th scope=col>Valor_Administracao</th><th scope=col>Valor_Impostos</th><th scope=col>PIB_Corrente</th><th scope=col>Populacao</th><th scope=col>PIB_PerCapita</th></tr>\n",
              "\t<tr><th></th><th scope=col>&lt;int&gt;</th><th scope=col>&lt;int&gt;</th><th scope=col>&lt;chr&gt;</th><th scope=col>&lt;int&gt;</th><th scope=col>&lt;chr&gt;</th><th scope=col>&lt;chr&gt;</th><th scope=col>&lt;int&gt;</th><th scope=col>&lt;chr&gt;</th><th scope=col>&lt;int&gt;</th><th scope=col>&lt;chr&gt;</th><th scope=col>&lt;dbl&gt;</th><th scope=col>&lt;dbl&gt;</th><th scope=col>&lt;dbl&gt;</th><th scope=col>&lt;dbl&gt;</th><th scope=col>&lt;dbl&gt;</th><th scope=col>&lt;dbl&gt;</th><th scope=col>&lt;int&gt;</th><th scope=col>&lt;dbl&gt;</th></tr>\n",
              "</thead>\n",
              "<tbody>\n",
              "\t<tr><th scope=row>66631</th><td>2010</td><td>52</td><td>Goias           </td><td>5221601</td><td>Uruacu             </td><td>                                                                        </td><td>5202</td><td>Norte Goiano    </td><td>52004</td><td>Porangatu           </td><td> 50186.278</td><td>  80408.171</td><td>   248412.61</td><td>   68739.039</td><td>   44789.466</td><td>   423796.53</td><td>  36949</td><td>11469.77</td></tr>\n",
              "\t<tr><th scope=row>66632</th><td>2010</td><td>52</td><td>Goias           </td><td>5221700</td><td>Uruana             </td><td>                                                                        </td><td>5203</td><td>Centro Goiano   </td><td>52006</td><td>Ceres               </td><td> 94439.383</td><td>   9633.560</td><td>    66874.51</td><td>   23777.424</td><td>    5425.137</td><td>   176372.59</td><td>  13821</td><td>12761.20</td></tr>\n",
              "\t<tr><th scope=row>66633</th><td>2010</td><td>52</td><td>Goias           </td><td>5221809</td><td>Urutai             </td><td>                                                                        </td><td>5205</td><td>Sul Goiano      </td><td>52016</td><td>Pires do Rio        </td><td> 23402.719</td><td>   2588.524</td><td>    16097.23</td><td>    7283.277</td><td>    1208.431</td><td>    43296.90</td><td>   3058</td><td>14158.57</td></tr>\n",
              "\t<tr><th scope=row>66634</th><td>2010</td><td>52</td><td>Goias           </td><td>5221858</td><td>Valparaiso de Goias</td><td>RIDE - Regiao Integrada de Desenvolvimento do Distrito Federal e Entorno</td><td>5204</td><td>Leste Goiano    </td><td>52012</td><td>Entorno de Brasilia </td><td>   150.352</td><td> 109633.181</td><td>   656961.73</td><td>  225990.212</td><td>   77866.674</td><td>   844611.94</td><td> 132947</td><td> 6353.00</td></tr>\n",
              "\t<tr><th scope=row>66635</th><td>2010</td><td>52</td><td>Goias           </td><td>5221908</td><td>Varjao             </td><td>                                                                        </td><td>5205</td><td>Sul Goiano      </td><td>52014</td><td>Vale do Rio dos Bois</td><td> 11792.429</td><td>   2945.800</td><td>    17149.13</td><td>    8022.706</td><td>    1583.789</td><td>    33471.15</td><td>   3661</td><td> 9142.62</td></tr>\n",
              "\t<tr><th scope=row>66636</th><td>2010</td><td>52</td><td>Goias           </td><td>5222005</td><td>Vianopolis         </td><td>                                                                        </td><td>5205</td><td>Sul Goiano      </td><td>52016</td><td>Pires do Rio        </td><td> 57902.332</td><td>  21737.879</td><td>    81168.99</td><td>   24544.062</td><td>   10203.946</td><td>   171013.15</td><td>  12549</td><td>13627.63</td></tr>\n",
              "\t<tr><th scope=row>66637</th><td>2010</td><td>52</td><td>Goias           </td><td>5222054</td><td>Vicentinopolis     </td><td>                                                                        </td><td>5205</td><td>Sul Goiano      </td><td>52015</td><td>Meia Ponte          </td><td> 41906.248</td><td>  17927.073</td><td>    48572.94</td><td>   14838.702</td><td>    5858.979</td><td>   114265.24</td><td>   7371</td><td>15502.00</td></tr>\n",
              "\t<tr><th scope=row>66638</th><td>2010</td><td>52</td><td>Goias           </td><td>5222203</td><td>Vila Boa           </td><td>RIDE - Regiao Integrada de Desenvolvimento do Distrito Federal e Entorno</td><td>5204</td><td>Leste Goiano    </td><td>52012</td><td>Entorno de Brasilia </td><td> 34680.992</td><td>   7080.613</td><td>    27917.72</td><td>   12236.672</td><td>    3363.469</td><td>    73042.79</td><td>   4742</td><td>15403.37</td></tr>\n",
              "\t<tr><th scope=row>66639</th><td>2010</td><td>52</td><td>Goias           </td><td>5222302</td><td>Vila Propicio      </td><td>                                                                        </td><td>5204</td><td>Leste Goiano    </td><td>52012</td><td>Entorno de Brasilia </td><td> 71504.339</td><td>   6022.426</td><td>    27272.10</td><td>   11038.197</td><td>    3317.144</td><td>   108116.01</td><td>   5145</td><td>21013.80</td></tr>\n",
              "\t<tr><th scope=row>66640</th><td>2010</td><td>53</td><td>Distrito Federal</td><td>5300108</td><td>Brasilia           </td><td>RIDE - Regiao Integrada de Desenvolvimento do Distrito Federal e Entorno</td><td>5301</td><td>Distrito Federal</td><td>53001</td><td>Brasilia            </td><td>334930.280</td><td>8720979.863</td><td>124179104.50</td><td>72493372.060</td><td>16671304.210</td><td>149906318.90</td><td>2562963</td><td>58489.46</td></tr>\n",
              "</tbody>\n",
              "</table>\n"
            ],
            "text/latex": [
              "A data.frame: 10 × 18\n",
              "\\begin{tabular}{r|llllllllllllllllll}\n",
              "  & Ano & UF\\_ID & UF & Municipio\\_ID & Municipio & Regiao\\_Metropolitana & Mesorregiao\\_ID & Mesorregiao & Microrregioo\\_ID & Microrregiao & Valor\\_Agropecuaria & Valor\\_Industria & Valor\\_Servicos & Valor\\_Administracao & Valor\\_Impostos & PIB\\_Corrente & Populacao & PIB\\_PerCapita\\\\\n",
              "  & <int> & <int> & <chr> & <int> & <chr> & <chr> & <int> & <chr> & <int> & <chr> & <dbl> & <dbl> & <dbl> & <dbl> & <dbl> & <dbl> & <int> & <dbl>\\\\\n",
              "\\hline\n",
              "\t66631 & 2010 & 52 & Goias            & 5221601 & Uruacu              &                                                                          & 5202 & Norte Goiano     & 52004 & Porangatu            &  50186.278 &   80408.171 &    248412.61 &    68739.039 &    44789.466 &    423796.53 &   36949 & 11469.77\\\\\n",
              "\t66632 & 2010 & 52 & Goias            & 5221700 & Uruana              &                                                                          & 5203 & Centro Goiano    & 52006 & Ceres                &  94439.383 &    9633.560 &     66874.51 &    23777.424 &     5425.137 &    176372.59 &   13821 & 12761.20\\\\\n",
              "\t66633 & 2010 & 52 & Goias            & 5221809 & Urutai              &                                                                          & 5205 & Sul Goiano       & 52016 & Pires do Rio         &  23402.719 &    2588.524 &     16097.23 &     7283.277 &     1208.431 &     43296.90 &    3058 & 14158.57\\\\\n",
              "\t66634 & 2010 & 52 & Goias            & 5221858 & Valparaiso de Goias & RIDE - Regiao Integrada de Desenvolvimento do Distrito Federal e Entorno & 5204 & Leste Goiano     & 52012 & Entorno de Brasilia  &    150.352 &  109633.181 &    656961.73 &   225990.212 &    77866.674 &    844611.94 &  132947 &  6353.00\\\\\n",
              "\t66635 & 2010 & 52 & Goias            & 5221908 & Varjao              &                                                                          & 5205 & Sul Goiano       & 52014 & Vale do Rio dos Bois &  11792.429 &    2945.800 &     17149.13 &     8022.706 &     1583.789 &     33471.15 &    3661 &  9142.62\\\\\n",
              "\t66636 & 2010 & 52 & Goias            & 5222005 & Vianopolis          &                                                                          & 5205 & Sul Goiano       & 52016 & Pires do Rio         &  57902.332 &   21737.879 &     81168.99 &    24544.062 &    10203.946 &    171013.15 &   12549 & 13627.63\\\\\n",
              "\t66637 & 2010 & 52 & Goias            & 5222054 & Vicentinopolis      &                                                                          & 5205 & Sul Goiano       & 52015 & Meia Ponte           &  41906.248 &   17927.073 &     48572.94 &    14838.702 &     5858.979 &    114265.24 &    7371 & 15502.00\\\\\n",
              "\t66638 & 2010 & 52 & Goias            & 5222203 & Vila Boa            & RIDE - Regiao Integrada de Desenvolvimento do Distrito Federal e Entorno & 5204 & Leste Goiano     & 52012 & Entorno de Brasilia  &  34680.992 &    7080.613 &     27917.72 &    12236.672 &     3363.469 &     73042.79 &    4742 & 15403.37\\\\\n",
              "\t66639 & 2010 & 52 & Goias            & 5222302 & Vila Propicio       &                                                                          & 5204 & Leste Goiano     & 52012 & Entorno de Brasilia  &  71504.339 &    6022.426 &     27272.10 &    11038.197 &     3317.144 &    108116.01 &    5145 & 21013.80\\\\\n",
              "\t66640 & 2010 & 53 & Distrito Federal & 5300108 & Brasilia            & RIDE - Regiao Integrada de Desenvolvimento do Distrito Federal e Entorno & 5301 & Distrito Federal & 53001 & Brasilia             & 334930.280 & 8720979.863 & 124179104.50 & 72493372.060 & 16671304.210 & 149906318.90 & 2562963 & 58489.46\\\\\n",
              "\\end{tabular}\n"
            ],
            "text/markdown": [
              "\n",
              "A data.frame: 10 × 18\n",
              "\n",
              "| <!--/--> | Ano &lt;int&gt; | UF_ID &lt;int&gt; | UF &lt;chr&gt; | Municipio_ID &lt;int&gt; | Municipio &lt;chr&gt; | Regiao_Metropolitana &lt;chr&gt; | Mesorregiao_ID &lt;int&gt; | Mesorregiao &lt;chr&gt; | Microrregioo_ID &lt;int&gt; | Microrregiao &lt;chr&gt; | Valor_Agropecuaria &lt;dbl&gt; | Valor_Industria &lt;dbl&gt; | Valor_Servicos &lt;dbl&gt; | Valor_Administracao &lt;dbl&gt; | Valor_Impostos &lt;dbl&gt; | PIB_Corrente &lt;dbl&gt; | Populacao &lt;int&gt; | PIB_PerCapita &lt;dbl&gt; |\n",
              "|---|---|---|---|---|---|---|---|---|---|---|---|---|---|---|---|---|---|---|\n",
              "| 66631 | 2010 | 52 | Goias            | 5221601 | Uruacu              | <!----> | 5202 | Norte Goiano     | 52004 | Porangatu            |  50186.278 |   80408.171 |    248412.61 |    68739.039 |    44789.466 |    423796.53 |   36949 | 11469.77 |\n",
              "| 66632 | 2010 | 52 | Goias            | 5221700 | Uruana              | <!----> | 5203 | Centro Goiano    | 52006 | Ceres                |  94439.383 |    9633.560 |     66874.51 |    23777.424 |     5425.137 |    176372.59 |   13821 | 12761.20 |\n",
              "| 66633 | 2010 | 52 | Goias            | 5221809 | Urutai              | <!----> | 5205 | Sul Goiano       | 52016 | Pires do Rio         |  23402.719 |    2588.524 |     16097.23 |     7283.277 |     1208.431 |     43296.90 |    3058 | 14158.57 |\n",
              "| 66634 | 2010 | 52 | Goias            | 5221858 | Valparaiso de Goias | RIDE - Regiao Integrada de Desenvolvimento do Distrito Federal e Entorno | 5204 | Leste Goiano     | 52012 | Entorno de Brasilia  |    150.352 |  109633.181 |    656961.73 |   225990.212 |    77866.674 |    844611.94 |  132947 |  6353.00 |\n",
              "| 66635 | 2010 | 52 | Goias            | 5221908 | Varjao              | <!----> | 5205 | Sul Goiano       | 52014 | Vale do Rio dos Bois |  11792.429 |    2945.800 |     17149.13 |     8022.706 |     1583.789 |     33471.15 |    3661 |  9142.62 |\n",
              "| 66636 | 2010 | 52 | Goias            | 5222005 | Vianopolis          | <!----> | 5205 | Sul Goiano       | 52016 | Pires do Rio         |  57902.332 |   21737.879 |     81168.99 |    24544.062 |    10203.946 |    171013.15 |   12549 | 13627.63 |\n",
              "| 66637 | 2010 | 52 | Goias            | 5222054 | Vicentinopolis      | <!----> | 5205 | Sul Goiano       | 52015 | Meia Ponte           |  41906.248 |   17927.073 |     48572.94 |    14838.702 |     5858.979 |    114265.24 |    7371 | 15502.00 |\n",
              "| 66638 | 2010 | 52 | Goias            | 5222203 | Vila Boa            | RIDE - Regiao Integrada de Desenvolvimento do Distrito Federal e Entorno | 5204 | Leste Goiano     | 52012 | Entorno de Brasilia  |  34680.992 |    7080.613 |     27917.72 |    12236.672 |     3363.469 |     73042.79 |    4742 | 15403.37 |\n",
              "| 66639 | 2010 | 52 | Goias            | 5222302 | Vila Propicio       | <!----> | 5204 | Leste Goiano     | 52012 | Entorno de Brasilia  |  71504.339 |    6022.426 |     27272.10 |    11038.197 |     3317.144 |    108116.01 |    5145 | 21013.80 |\n",
              "| 66640 | 2010 | 53 | Distrito Federal | 5300108 | Brasilia            | RIDE - Regiao Integrada de Desenvolvimento do Distrito Federal e Entorno | 5301 | Distrito Federal | 53001 | Brasilia             | 334930.280 | 8720979.863 | 124179104.50 | 72493372.060 | 16671304.210 | 149906318.90 | 2562963 | 58489.46 |\n",
              "\n"
            ],
            "text/plain": [
              "      Ano  UF_ID UF               Municipio_ID Municipio          \n",
              "66631 2010 52    Goias            5221601      Uruacu             \n",
              "66632 2010 52    Goias            5221700      Uruana             \n",
              "66633 2010 52    Goias            5221809      Urutai             \n",
              "66634 2010 52    Goias            5221858      Valparaiso de Goias\n",
              "66635 2010 52    Goias            5221908      Varjao             \n",
              "66636 2010 52    Goias            5222005      Vianopolis         \n",
              "66637 2010 52    Goias            5222054      Vicentinopolis     \n",
              "66638 2010 52    Goias            5222203      Vila Boa           \n",
              "66639 2010 52    Goias            5222302      Vila Propicio      \n",
              "66640 2010 53    Distrito Federal 5300108      Brasilia           \n",
              "      Regiao_Metropolitana                                                    \n",
              "66631                                                                         \n",
              "66632                                                                         \n",
              "66633                                                                         \n",
              "66634 RIDE - Regiao Integrada de Desenvolvimento do Distrito Federal e Entorno\n",
              "66635                                                                         \n",
              "66636                                                                         \n",
              "66637                                                                         \n",
              "66638 RIDE - Regiao Integrada de Desenvolvimento do Distrito Federal e Entorno\n",
              "66639                                                                         \n",
              "66640 RIDE - Regiao Integrada de Desenvolvimento do Distrito Federal e Entorno\n",
              "      Mesorregiao_ID Mesorregiao      Microrregioo_ID Microrregiao        \n",
              "66631 5202           Norte Goiano     52004           Porangatu           \n",
              "66632 5203           Centro Goiano    52006           Ceres               \n",
              "66633 5205           Sul Goiano       52016           Pires do Rio        \n",
              "66634 5204           Leste Goiano     52012           Entorno de Brasilia \n",
              "66635 5205           Sul Goiano       52014           Vale do Rio dos Bois\n",
              "66636 5205           Sul Goiano       52016           Pires do Rio        \n",
              "66637 5205           Sul Goiano       52015           Meia Ponte          \n",
              "66638 5204           Leste Goiano     52012           Entorno de Brasilia \n",
              "66639 5204           Leste Goiano     52012           Entorno de Brasilia \n",
              "66640 5301           Distrito Federal 53001           Brasilia            \n",
              "      Valor_Agropecuaria Valor_Industria Valor_Servicos Valor_Administracao\n",
              "66631  50186.278           80408.171        248412.61      68739.039       \n",
              "66632  94439.383            9633.560         66874.51      23777.424       \n",
              "66633  23402.719            2588.524         16097.23       7283.277       \n",
              "66634    150.352          109633.181        656961.73     225990.212       \n",
              "66635  11792.429            2945.800         17149.13       8022.706       \n",
              "66636  57902.332           21737.879         81168.99      24544.062       \n",
              "66637  41906.248           17927.073         48572.94      14838.702       \n",
              "66638  34680.992            7080.613         27917.72      12236.672       \n",
              "66639  71504.339            6022.426         27272.10      11038.197       \n",
              "66640 334930.280         8720979.863     124179104.50   72493372.060       \n",
              "      Valor_Impostos PIB_Corrente Populacao PIB_PerCapita\n",
              "66631    44789.466      423796.53   36949   11469.77     \n",
              "66632     5425.137      176372.59   13821   12761.20     \n",
              "66633     1208.431       43296.90    3058   14158.57     \n",
              "66634    77866.674      844611.94  132947    6353.00     \n",
              "66635     1583.789       33471.15    3661    9142.62     \n",
              "66636    10203.946      171013.15   12549   13627.63     \n",
              "66637     5858.979      114265.24    7371   15502.00     \n",
              "66638     3363.469       73042.79    4742   15403.37     \n",
              "66639     3317.144      108116.01    5145   21013.80     \n",
              "66640 16671304.210   149906318.90 2562963   58489.46     "
            ]
          },
          "metadata": {},
          "output_type": "display_data"
        },
        {
          "data": {
            "text/html": [
              "<table class=\"dataframe\">\n",
              "<caption>A data.frame: 2 × 18</caption>\n",
              "<thead>\n",
              "\t<tr><th></th><th scope=col>Ano</th><th scope=col>UF_ID</th><th scope=col>UF</th><th scope=col>Municipio_ID</th><th scope=col>Municipio</th><th scope=col>Regiao_Metropolitana</th><th scope=col>Mesorregiao_ID</th><th scope=col>Mesorregiao</th><th scope=col>Microrregioo_ID</th><th scope=col>Microrregiao</th><th scope=col>Valor_Agropecuaria</th><th scope=col>Valor_Industria</th><th scope=col>Valor_Servicos</th><th scope=col>Valor_Administracao</th><th scope=col>Valor_Impostos</th><th scope=col>PIB_Corrente</th><th scope=col>Populacao</th><th scope=col>PIB_PerCapita</th></tr>\n",
              "\t<tr><th></th><th scope=col>&lt;int&gt;</th><th scope=col>&lt;int&gt;</th><th scope=col>&lt;chr&gt;</th><th scope=col>&lt;int&gt;</th><th scope=col>&lt;chr&gt;</th><th scope=col>&lt;chr&gt;</th><th scope=col>&lt;int&gt;</th><th scope=col>&lt;chr&gt;</th><th scope=col>&lt;int&gt;</th><th scope=col>&lt;chr&gt;</th><th scope=col>&lt;dbl&gt;</th><th scope=col>&lt;dbl&gt;</th><th scope=col>&lt;dbl&gt;</th><th scope=col>&lt;dbl&gt;</th><th scope=col>&lt;dbl&gt;</th><th scope=col>&lt;dbl&gt;</th><th scope=col>&lt;int&gt;</th><th scope=col>&lt;dbl&gt;</th></tr>\n",
              "</thead>\n",
              "<tbody>\n",
              "\t<tr><th scope=row>66639</th><td>2010</td><td>52</td><td>Goias           </td><td>5222302</td><td>Vila Propicio</td><td>                                                                        </td><td>5204</td><td>Leste Goiano    </td><td>52012</td><td>Entorno de Brasilia</td><td> 71504.34</td><td>   6022.426</td><td>    27272.1</td><td>   11038.2</td><td>    3317.144</td><td>   108116</td><td>   5145</td><td>21013.80</td></tr>\n",
              "\t<tr><th scope=row>66640</th><td>2010</td><td>53</td><td>Distrito Federal</td><td>5300108</td><td>Brasilia     </td><td>RIDE - Regiao Integrada de Desenvolvimento do Distrito Federal e Entorno</td><td>5301</td><td>Distrito Federal</td><td>53001</td><td>Brasilia           </td><td>334930.28</td><td>8720979.863</td><td>124179104.5</td><td>72493372.1</td><td>16671304.210</td><td>149906319</td><td>2562963</td><td>58489.46</td></tr>\n",
              "</tbody>\n",
              "</table>\n"
            ],
            "text/latex": [
              "A data.frame: 2 × 18\n",
              "\\begin{tabular}{r|llllllllllllllllll}\n",
              "  & Ano & UF\\_ID & UF & Municipio\\_ID & Municipio & Regiao\\_Metropolitana & Mesorregiao\\_ID & Mesorregiao & Microrregioo\\_ID & Microrregiao & Valor\\_Agropecuaria & Valor\\_Industria & Valor\\_Servicos & Valor\\_Administracao & Valor\\_Impostos & PIB\\_Corrente & Populacao & PIB\\_PerCapita\\\\\n",
              "  & <int> & <int> & <chr> & <int> & <chr> & <chr> & <int> & <chr> & <int> & <chr> & <dbl> & <dbl> & <dbl> & <dbl> & <dbl> & <dbl> & <int> & <dbl>\\\\\n",
              "\\hline\n",
              "\t66639 & 2010 & 52 & Goias            & 5222302 & Vila Propicio &                                                                          & 5204 & Leste Goiano     & 52012 & Entorno de Brasilia &  71504.34 &    6022.426 &     27272.1 &    11038.2 &     3317.144 &    108116 &    5145 & 21013.80\\\\\n",
              "\t66640 & 2010 & 53 & Distrito Federal & 5300108 & Brasilia      & RIDE - Regiao Integrada de Desenvolvimento do Distrito Federal e Entorno & 5301 & Distrito Federal & 53001 & Brasilia            & 334930.28 & 8720979.863 & 124179104.5 & 72493372.1 & 16671304.210 & 149906319 & 2562963 & 58489.46\\\\\n",
              "\\end{tabular}\n"
            ],
            "text/markdown": [
              "\n",
              "A data.frame: 2 × 18\n",
              "\n",
              "| <!--/--> | Ano &lt;int&gt; | UF_ID &lt;int&gt; | UF &lt;chr&gt; | Municipio_ID &lt;int&gt; | Municipio &lt;chr&gt; | Regiao_Metropolitana &lt;chr&gt; | Mesorregiao_ID &lt;int&gt; | Mesorregiao &lt;chr&gt; | Microrregioo_ID &lt;int&gt; | Microrregiao &lt;chr&gt; | Valor_Agropecuaria &lt;dbl&gt; | Valor_Industria &lt;dbl&gt; | Valor_Servicos &lt;dbl&gt; | Valor_Administracao &lt;dbl&gt; | Valor_Impostos &lt;dbl&gt; | PIB_Corrente &lt;dbl&gt; | Populacao &lt;int&gt; | PIB_PerCapita &lt;dbl&gt; |\n",
              "|---|---|---|---|---|---|---|---|---|---|---|---|---|---|---|---|---|---|---|\n",
              "| 66639 | 2010 | 52 | Goias            | 5222302 | Vila Propicio | <!----> | 5204 | Leste Goiano     | 52012 | Entorno de Brasilia |  71504.34 |    6022.426 |     27272.1 |    11038.2 |     3317.144 |    108116 |    5145 | 21013.80 |\n",
              "| 66640 | 2010 | 53 | Distrito Federal | 5300108 | Brasilia      | RIDE - Regiao Integrada de Desenvolvimento do Distrito Federal e Entorno | 5301 | Distrito Federal | 53001 | Brasilia            | 334930.28 | 8720979.863 | 124179104.5 | 72493372.1 | 16671304.210 | 149906319 | 2562963 | 58489.46 |\n",
              "\n"
            ],
            "text/plain": [
              "      Ano  UF_ID UF               Municipio_ID Municipio    \n",
              "66639 2010 52    Goias            5222302      Vila Propicio\n",
              "66640 2010 53    Distrito Federal 5300108      Brasilia     \n",
              "      Regiao_Metropolitana                                                    \n",
              "66639                                                                         \n",
              "66640 RIDE - Regiao Integrada de Desenvolvimento do Distrito Federal e Entorno\n",
              "      Mesorregiao_ID Mesorregiao      Microrregioo_ID Microrregiao       \n",
              "66639 5204           Leste Goiano     52012           Entorno de Brasilia\n",
              "66640 5301           Distrito Federal 53001           Brasilia           \n",
              "      Valor_Agropecuaria Valor_Industria Valor_Servicos Valor_Administracao\n",
              "66639  71504.34             6022.426         27272.1       11038.2         \n",
              "66640 334930.28          8720979.863     124179104.5    72493372.1         \n",
              "      Valor_Impostos PIB_Corrente Populacao PIB_PerCapita\n",
              "66639     3317.144      108116       5145   21013.80     \n",
              "66640 16671304.210   149906319    2562963   58489.46     "
            ]
          },
          "metadata": {},
          "output_type": "display_data"
        }
      ],
      "source": [
        "tail(dados)\n",
        "tail(dados,10)\n",
        "tail(dados,2)\n",
        "\n"
      ]
    },
    {
      "cell_type": "code",
      "execution_count": 41,
      "metadata": {
        "colab": {
          "base_uri": "https://localhost:8080/",
          "height": 711
        },
        "id": "K1kS4rjr_NWW",
        "outputId": "e6487278-14e2-4f7f-be7f-bb4d653f6783"
      },
      "outputs": [
        {
          "data": {
            "text/plain": [
              "      Ano           UF_ID            UF             Municipio_ID    \n",
              " Min.   :1999   Min.   :11.00   Length:66640       Min.   :1100015  \n",
              " 1st Qu.:2002   1st Qu.:25.00   Class :character   1st Qu.:2512067  \n",
              " Median :2005   Median :31.00   Mode  :character   Median :3145877  \n",
              " Mean   :2005   Mean   :32.35                      Mean   :3251030  \n",
              " 3rd Qu.:2008   3rd Qu.:41.00                      3rd Qu.:4118501  \n",
              " Max.   :2010   Max.   :53.00                      Max.   :5300108  \n",
              "                                                                    \n",
              "  Municipio         Regiao_Metropolitana Mesorregiao_ID Mesorregiao       \n",
              " Length:66640       Length:66640         Min.   :1101   Length:66640      \n",
              " Class :character   Class :character     1st Qu.:2503   Class :character  \n",
              " Mode  :character   Mode  :character     Median :3110   Mode  :character  \n",
              "                                         Mean   :3239                     \n",
              "                                         3rd Qu.:4106                     \n",
              "                                         Max.   :5301                     \n",
              "                                                                          \n",
              " Microrregioo_ID Microrregiao       Valor_Agropecuaria Valor_Industria   \n",
              " Min.   :11001   Length:66640       Min.   :     0     Min.   :       3  \n",
              " 1st Qu.:25015   Class :character   1st Qu.:  4415     1st Qu.:    1887  \n",
              " Median :31047   Mode  :character   Median : 10080     Median :    4835  \n",
              " Mean   :32370                      Mean   : 19627     Mean   :   93292  \n",
              " 3rd Qu.:41023                      3rd Qu.: 21778     3rd Qu.:   19951  \n",
              " Max.   :53001                      Max.   :829565     Max.   :74122189  \n",
              "                                                                         \n",
              " Valor_Servicos      Valor_Administracao Valor_Impostos      PIB_Corrente      \n",
              " Min.   :     1194   Min.   :     715    Min.   :      11   Min.   :     1422  \n",
              " 1st Qu.:    12326   1st Qu.:    6221    1st Qu.:     732   1st Qu.:    22687  \n",
              " Median :    26140   Median :   12072    Median :    2109   Median :    49300  \n",
              " Mean   :   220885   Mean   :   51927    Mean   :   54637   Mean   :   388440  \n",
              " 3rd Qu.:    67324   3rd Qu.:   26954    3rd Qu.:    8226   3rd Qu.:   130539  \n",
              " Max.   :289957523   Max.   :72493372    Max.   :79501265   Max.   :443600102  \n",
              "                                                                               \n",
              "   Populacao        PIB_PerCapita   \n",
              " Min.   :     805   Min.   :  2270  \n",
              " 1st Qu.:    5230   1st Qu.:  5193  \n",
              " Median :   10933   Median :  9818  \n",
              " Mean   :   34274   Mean   : 12785  \n",
              " 3rd Qu.:   23506   3rd Qu.: 15459  \n",
              " Max.   :11244369   Max.   :296885  \n",
              " NA's   :61075      NA's   :61075   "
            ]
          },
          "metadata": {},
          "output_type": "display_data"
        }
      ],
      "source": [
        "summary(dados)\n",
        "\n"
      ]
    },
    {
      "cell_type": "code",
      "execution_count": 42,
      "metadata": {
        "colab": {
          "base_uri": "https://localhost:8080/",
          "height": 1000
        },
        "id": "53qZjHtX_NWW",
        "outputId": "fba6b52c-fe6a-47f8-abe3-aa5701c6857f"
      },
      "outputs": [
        {
          "data": {
            "text/html": [
              "<table class=\"dataframe\">\n",
              "<caption>A data.frame: 66640 × 4</caption>\n",
              "<thead>\n",
              "\t<tr><th scope=col>Municipio</th><th scope=col>Microrregiao</th><th scope=col>Populacao</th><th scope=col>Ano</th></tr>\n",
              "\t<tr><th scope=col>&lt;chr&gt;</th><th scope=col>&lt;chr&gt;</th><th scope=col>&lt;int&gt;</th><th scope=col>&lt;int&gt;</th></tr>\n",
              "</thead>\n",
              "<tbody>\n",
              "\t<tr><td>Alta Floresta DOeste   </td><td>Cacoal           </td><td>NA</td><td>1999</td></tr>\n",
              "\t<tr><td>Ariquemes              </td><td>Ariquemes        </td><td>NA</td><td>1999</td></tr>\n",
              "\t<tr><td>Cabixi                 </td><td>Colorado do Oeste</td><td>NA</td><td>1999</td></tr>\n",
              "\t<tr><td>Cacoal                 </td><td>Cacoal           </td><td>NA</td><td>1999</td></tr>\n",
              "\t<tr><td>Cerejeiras             </td><td>Colorado do Oeste</td><td>NA</td><td>1999</td></tr>\n",
              "\t<tr><td>Colorado do Oeste      </td><td>Colorado do Oeste</td><td>NA</td><td>1999</td></tr>\n",
              "\t<tr><td>Corumbiara             </td><td>Colorado do Oeste</td><td>NA</td><td>1999</td></tr>\n",
              "\t<tr><td>Costa Marques          </td><td>Guajara-Mirim    </td><td>NA</td><td>1999</td></tr>\n",
              "\t<tr><td>Espigao DOeste         </td><td>Cacoal           </td><td>NA</td><td>1999</td></tr>\n",
              "\t<tr><td>Guajara-Mirim          </td><td>Guajara-Mirim    </td><td>NA</td><td>1999</td></tr>\n",
              "\t<tr><td>Jaru                   </td><td>Ji-Parana        </td><td>NA</td><td>1999</td></tr>\n",
              "\t<tr><td>Ji-Parana              </td><td>Ji-Parana        </td><td>NA</td><td>1999</td></tr>\n",
              "\t<tr><td>Machadinho DOeste      </td><td>Ariquemes        </td><td>NA</td><td>1999</td></tr>\n",
              "\t<tr><td>Nova Brasilandia DOeste</td><td>Alvorada DOeste  </td><td>NA</td><td>1999</td></tr>\n",
              "\t<tr><td>Ouro Preto do Oeste    </td><td>Ji-Parana        </td><td>NA</td><td>1999</td></tr>\n",
              "\t<tr><td>Pimenta Bueno          </td><td>Vilhena          </td><td>NA</td><td>1999</td></tr>\n",
              "\t<tr><td>Porto Velho            </td><td>Porto Velho      </td><td>NA</td><td>1999</td></tr>\n",
              "\t<tr><td>Presidente Medici      </td><td>Ji-Parana        </td><td>NA</td><td>1999</td></tr>\n",
              "\t<tr><td>Rio Crespo             </td><td>Ariquemes        </td><td>NA</td><td>1999</td></tr>\n",
              "\t<tr><td>Rolim de Moura         </td><td>Cacoal           </td><td>NA</td><td>1999</td></tr>\n",
              "\t<tr><td>Santa Luzia DOeste     </td><td>Cacoal           </td><td>NA</td><td>1999</td></tr>\n",
              "\t<tr><td>Vilhena                </td><td>Vilhena          </td><td>NA</td><td>1999</td></tr>\n",
              "\t<tr><td>Sao Miguel do Guapore  </td><td>Alvorada DOeste  </td><td>NA</td><td>1999</td></tr>\n",
              "\t<tr><td>Nova Mamore            </td><td>Porto Velho      </td><td>NA</td><td>1999</td></tr>\n",
              "\t<tr><td>Alvorada DOeste        </td><td>Alvorada DOeste  </td><td>NA</td><td>1999</td></tr>\n",
              "\t<tr><td>Alto Alegre dos Parecis</td><td>Cacoal           </td><td>NA</td><td>1999</td></tr>\n",
              "\t<tr><td>Alto Paraiso           </td><td>Ariquemes        </td><td>NA</td><td>1999</td></tr>\n",
              "\t<tr><td>Buritis                </td><td>Porto Velho      </td><td>NA</td><td>1999</td></tr>\n",
              "\t<tr><td>Novo Horizonte do Oeste</td><td>Cacoal           </td><td>NA</td><td>1999</td></tr>\n",
              "\t<tr><td>Cacaulandia            </td><td>Ariquemes        </td><td>NA</td><td>1999</td></tr>\n",
              "\t<tr><td>⋮</td><td>⋮</td><td>⋮</td><td>⋮</td></tr>\n",
              "\t<tr><td>Sao Luis de Montes Belos  </td><td>Anicuns               </td><td>  30050</td><td>2010</td></tr>\n",
              "\t<tr><td>Sao Luiz do Norte         </td><td>Ceres                 </td><td>   4617</td><td>2010</td></tr>\n",
              "\t<tr><td>Sao Miguel do Araguaia    </td><td>Sao Miguel do Araguaia</td><td>  22294</td><td>2010</td></tr>\n",
              "\t<tr><td>Sao Miguel do Passa Quatro</td><td>Pires do Rio          </td><td>   3761</td><td>2010</td></tr>\n",
              "\t<tr><td>Sao Patricio              </td><td>Ceres                 </td><td>   1991</td><td>2010</td></tr>\n",
              "\t<tr><td>Sao Simao                 </td><td>Quirinopolis          </td><td>  17086</td><td>2010</td></tr>\n",
              "\t<tr><td>Senador Canedo            </td><td>Goiania               </td><td>  84399</td><td>2010</td></tr>\n",
              "\t<tr><td>Serranopolis              </td><td>Sudoeste de Goias     </td><td>   7477</td><td>2010</td></tr>\n",
              "\t<tr><td>Silvania                  </td><td>Pires do Rio          </td><td>  19096</td><td>2010</td></tr>\n",
              "\t<tr><td>Simolandia                </td><td>Vao do Parana         </td><td>   6512</td><td>2010</td></tr>\n",
              "\t<tr><td>Sitio dAbadia             </td><td>Vao do Parana         </td><td>   2821</td><td>2010</td></tr>\n",
              "\t<tr><td>Taquaral de Goias         </td><td>Anapolis              </td><td>   3540</td><td>2010</td></tr>\n",
              "\t<tr><td>Teresina de Goias         </td><td>Chapada dos Veadeiros </td><td>   3016</td><td>2010</td></tr>\n",
              "\t<tr><td>Terezopolis de Goias      </td><td>Goiania               </td><td>   6562</td><td>2010</td></tr>\n",
              "\t<tr><td>Tres Ranchos              </td><td>Catalao               </td><td>   2817</td><td>2010</td></tr>\n",
              "\t<tr><td>Trindade                  </td><td>Goiania               </td><td> 104506</td><td>2010</td></tr>\n",
              "\t<tr><td>Trombas                   </td><td>Porangatu             </td><td>   3435</td><td>2010</td></tr>\n",
              "\t<tr><td>Turvania                  </td><td>Anicuns               </td><td>   4839</td><td>2010</td></tr>\n",
              "\t<tr><td>Turvelandia               </td><td>Vale do Rio dos Bois  </td><td>   4399</td><td>2010</td></tr>\n",
              "\t<tr><td>Uirapuru                  </td><td>Sao Miguel do Araguaia</td><td>   2935</td><td>2010</td></tr>\n",
              "\t<tr><td>Uruacu                    </td><td>Porangatu             </td><td>  36949</td><td>2010</td></tr>\n",
              "\t<tr><td>Uruana                    </td><td>Ceres                 </td><td>  13821</td><td>2010</td></tr>\n",
              "\t<tr><td>Urutai                    </td><td>Pires do Rio          </td><td>   3058</td><td>2010</td></tr>\n",
              "\t<tr><td>Valparaiso de Goias       </td><td>Entorno de Brasilia   </td><td> 132947</td><td>2010</td></tr>\n",
              "\t<tr><td>Varjao                    </td><td>Vale do Rio dos Bois  </td><td>   3661</td><td>2010</td></tr>\n",
              "\t<tr><td>Vianopolis                </td><td>Pires do Rio          </td><td>  12549</td><td>2010</td></tr>\n",
              "\t<tr><td>Vicentinopolis            </td><td>Meia Ponte            </td><td>   7371</td><td>2010</td></tr>\n",
              "\t<tr><td>Vila Boa                  </td><td>Entorno de Brasilia   </td><td>   4742</td><td>2010</td></tr>\n",
              "\t<tr><td>Vila Propicio             </td><td>Entorno de Brasilia   </td><td>   5145</td><td>2010</td></tr>\n",
              "\t<tr><td>Brasilia                  </td><td>Brasilia              </td><td>2562963</td><td>2010</td></tr>\n",
              "</tbody>\n",
              "</table>\n"
            ],
            "text/latex": [
              "A data.frame: 66640 × 4\n",
              "\\begin{tabular}{llll}\n",
              " Municipio & Microrregiao & Populacao & Ano\\\\\n",
              " <chr> & <chr> & <int> & <int>\\\\\n",
              "\\hline\n",
              "\t Alta Floresta DOeste    & Cacoal            & NA & 1999\\\\\n",
              "\t Ariquemes               & Ariquemes         & NA & 1999\\\\\n",
              "\t Cabixi                  & Colorado do Oeste & NA & 1999\\\\\n",
              "\t Cacoal                  & Cacoal            & NA & 1999\\\\\n",
              "\t Cerejeiras              & Colorado do Oeste & NA & 1999\\\\\n",
              "\t Colorado do Oeste       & Colorado do Oeste & NA & 1999\\\\\n",
              "\t Corumbiara              & Colorado do Oeste & NA & 1999\\\\\n",
              "\t Costa Marques           & Guajara-Mirim     & NA & 1999\\\\\n",
              "\t Espigao DOeste          & Cacoal            & NA & 1999\\\\\n",
              "\t Guajara-Mirim           & Guajara-Mirim     & NA & 1999\\\\\n",
              "\t Jaru                    & Ji-Parana         & NA & 1999\\\\\n",
              "\t Ji-Parana               & Ji-Parana         & NA & 1999\\\\\n",
              "\t Machadinho DOeste       & Ariquemes         & NA & 1999\\\\\n",
              "\t Nova Brasilandia DOeste & Alvorada DOeste   & NA & 1999\\\\\n",
              "\t Ouro Preto do Oeste     & Ji-Parana         & NA & 1999\\\\\n",
              "\t Pimenta Bueno           & Vilhena           & NA & 1999\\\\\n",
              "\t Porto Velho             & Porto Velho       & NA & 1999\\\\\n",
              "\t Presidente Medici       & Ji-Parana         & NA & 1999\\\\\n",
              "\t Rio Crespo              & Ariquemes         & NA & 1999\\\\\n",
              "\t Rolim de Moura          & Cacoal            & NA & 1999\\\\\n",
              "\t Santa Luzia DOeste      & Cacoal            & NA & 1999\\\\\n",
              "\t Vilhena                 & Vilhena           & NA & 1999\\\\\n",
              "\t Sao Miguel do Guapore   & Alvorada DOeste   & NA & 1999\\\\\n",
              "\t Nova Mamore             & Porto Velho       & NA & 1999\\\\\n",
              "\t Alvorada DOeste         & Alvorada DOeste   & NA & 1999\\\\\n",
              "\t Alto Alegre dos Parecis & Cacoal            & NA & 1999\\\\\n",
              "\t Alto Paraiso            & Ariquemes         & NA & 1999\\\\\n",
              "\t Buritis                 & Porto Velho       & NA & 1999\\\\\n",
              "\t Novo Horizonte do Oeste & Cacoal            & NA & 1999\\\\\n",
              "\t Cacaulandia             & Ariquemes         & NA & 1999\\\\\n",
              "\t ⋮ & ⋮ & ⋮ & ⋮\\\\\n",
              "\t Sao Luis de Montes Belos   & Anicuns                &   30050 & 2010\\\\\n",
              "\t Sao Luiz do Norte          & Ceres                  &    4617 & 2010\\\\\n",
              "\t Sao Miguel do Araguaia     & Sao Miguel do Araguaia &   22294 & 2010\\\\\n",
              "\t Sao Miguel do Passa Quatro & Pires do Rio           &    3761 & 2010\\\\\n",
              "\t Sao Patricio               & Ceres                  &    1991 & 2010\\\\\n",
              "\t Sao Simao                  & Quirinopolis           &   17086 & 2010\\\\\n",
              "\t Senador Canedo             & Goiania                &   84399 & 2010\\\\\n",
              "\t Serranopolis               & Sudoeste de Goias      &    7477 & 2010\\\\\n",
              "\t Silvania                   & Pires do Rio           &   19096 & 2010\\\\\n",
              "\t Simolandia                 & Vao do Parana          &    6512 & 2010\\\\\n",
              "\t Sitio dAbadia              & Vao do Parana          &    2821 & 2010\\\\\n",
              "\t Taquaral de Goias          & Anapolis               &    3540 & 2010\\\\\n",
              "\t Teresina de Goias          & Chapada dos Veadeiros  &    3016 & 2010\\\\\n",
              "\t Terezopolis de Goias       & Goiania                &    6562 & 2010\\\\\n",
              "\t Tres Ranchos               & Catalao                &    2817 & 2010\\\\\n",
              "\t Trindade                   & Goiania                &  104506 & 2010\\\\\n",
              "\t Trombas                    & Porangatu              &    3435 & 2010\\\\\n",
              "\t Turvania                   & Anicuns                &    4839 & 2010\\\\\n",
              "\t Turvelandia                & Vale do Rio dos Bois   &    4399 & 2010\\\\\n",
              "\t Uirapuru                   & Sao Miguel do Araguaia &    2935 & 2010\\\\\n",
              "\t Uruacu                     & Porangatu              &   36949 & 2010\\\\\n",
              "\t Uruana                     & Ceres                  &   13821 & 2010\\\\\n",
              "\t Urutai                     & Pires do Rio           &    3058 & 2010\\\\\n",
              "\t Valparaiso de Goias        & Entorno de Brasilia    &  132947 & 2010\\\\\n",
              "\t Varjao                     & Vale do Rio dos Bois   &    3661 & 2010\\\\\n",
              "\t Vianopolis                 & Pires do Rio           &   12549 & 2010\\\\\n",
              "\t Vicentinopolis             & Meia Ponte             &    7371 & 2010\\\\\n",
              "\t Vila Boa                   & Entorno de Brasilia    &    4742 & 2010\\\\\n",
              "\t Vila Propicio              & Entorno de Brasilia    &    5145 & 2010\\\\\n",
              "\t Brasilia                   & Brasilia               & 2562963 & 2010\\\\\n",
              "\\end{tabular}\n"
            ],
            "text/markdown": [
              "\n",
              "A data.frame: 66640 × 4\n",
              "\n",
              "| Municipio &lt;chr&gt; | Microrregiao &lt;chr&gt; | Populacao &lt;int&gt; | Ano &lt;int&gt; |\n",
              "|---|---|---|---|\n",
              "| Alta Floresta DOeste    | Cacoal            | NA | 1999 |\n",
              "| Ariquemes               | Ariquemes         | NA | 1999 |\n",
              "| Cabixi                  | Colorado do Oeste | NA | 1999 |\n",
              "| Cacoal                  | Cacoal            | NA | 1999 |\n",
              "| Cerejeiras              | Colorado do Oeste | NA | 1999 |\n",
              "| Colorado do Oeste       | Colorado do Oeste | NA | 1999 |\n",
              "| Corumbiara              | Colorado do Oeste | NA | 1999 |\n",
              "| Costa Marques           | Guajara-Mirim     | NA | 1999 |\n",
              "| Espigao DOeste          | Cacoal            | NA | 1999 |\n",
              "| Guajara-Mirim           | Guajara-Mirim     | NA | 1999 |\n",
              "| Jaru                    | Ji-Parana         | NA | 1999 |\n",
              "| Ji-Parana               | Ji-Parana         | NA | 1999 |\n",
              "| Machadinho DOeste       | Ariquemes         | NA | 1999 |\n",
              "| Nova Brasilandia DOeste | Alvorada DOeste   | NA | 1999 |\n",
              "| Ouro Preto do Oeste     | Ji-Parana         | NA | 1999 |\n",
              "| Pimenta Bueno           | Vilhena           | NA | 1999 |\n",
              "| Porto Velho             | Porto Velho       | NA | 1999 |\n",
              "| Presidente Medici       | Ji-Parana         | NA | 1999 |\n",
              "| Rio Crespo              | Ariquemes         | NA | 1999 |\n",
              "| Rolim de Moura          | Cacoal            | NA | 1999 |\n",
              "| Santa Luzia DOeste      | Cacoal            | NA | 1999 |\n",
              "| Vilhena                 | Vilhena           | NA | 1999 |\n",
              "| Sao Miguel do Guapore   | Alvorada DOeste   | NA | 1999 |\n",
              "| Nova Mamore             | Porto Velho       | NA | 1999 |\n",
              "| Alvorada DOeste         | Alvorada DOeste   | NA | 1999 |\n",
              "| Alto Alegre dos Parecis | Cacoal            | NA | 1999 |\n",
              "| Alto Paraiso            | Ariquemes         | NA | 1999 |\n",
              "| Buritis                 | Porto Velho       | NA | 1999 |\n",
              "| Novo Horizonte do Oeste | Cacoal            | NA | 1999 |\n",
              "| Cacaulandia             | Ariquemes         | NA | 1999 |\n",
              "| ⋮ | ⋮ | ⋮ | ⋮ |\n",
              "| Sao Luis de Montes Belos   | Anicuns                |   30050 | 2010 |\n",
              "| Sao Luiz do Norte          | Ceres                  |    4617 | 2010 |\n",
              "| Sao Miguel do Araguaia     | Sao Miguel do Araguaia |   22294 | 2010 |\n",
              "| Sao Miguel do Passa Quatro | Pires do Rio           |    3761 | 2010 |\n",
              "| Sao Patricio               | Ceres                  |    1991 | 2010 |\n",
              "| Sao Simao                  | Quirinopolis           |   17086 | 2010 |\n",
              "| Senador Canedo             | Goiania                |   84399 | 2010 |\n",
              "| Serranopolis               | Sudoeste de Goias      |    7477 | 2010 |\n",
              "| Silvania                   | Pires do Rio           |   19096 | 2010 |\n",
              "| Simolandia                 | Vao do Parana          |    6512 | 2010 |\n",
              "| Sitio dAbadia              | Vao do Parana          |    2821 | 2010 |\n",
              "| Taquaral de Goias          | Anapolis               |    3540 | 2010 |\n",
              "| Teresina de Goias          | Chapada dos Veadeiros  |    3016 | 2010 |\n",
              "| Terezopolis de Goias       | Goiania                |    6562 | 2010 |\n",
              "| Tres Ranchos               | Catalao                |    2817 | 2010 |\n",
              "| Trindade                   | Goiania                |  104506 | 2010 |\n",
              "| Trombas                    | Porangatu              |    3435 | 2010 |\n",
              "| Turvania                   | Anicuns                |    4839 | 2010 |\n",
              "| Turvelandia                | Vale do Rio dos Bois   |    4399 | 2010 |\n",
              "| Uirapuru                   | Sao Miguel do Araguaia |    2935 | 2010 |\n",
              "| Uruacu                     | Porangatu              |   36949 | 2010 |\n",
              "| Uruana                     | Ceres                  |   13821 | 2010 |\n",
              "| Urutai                     | Pires do Rio           |    3058 | 2010 |\n",
              "| Valparaiso de Goias        | Entorno de Brasilia    |  132947 | 2010 |\n",
              "| Varjao                     | Vale do Rio dos Bois   |    3661 | 2010 |\n",
              "| Vianopolis                 | Pires do Rio           |   12549 | 2010 |\n",
              "| Vicentinopolis             | Meia Ponte             |    7371 | 2010 |\n",
              "| Vila Boa                   | Entorno de Brasilia    |    4742 | 2010 |\n",
              "| Vila Propicio              | Entorno de Brasilia    |    5145 | 2010 |\n",
              "| Brasilia                   | Brasilia               | 2562963 | 2010 |\n",
              "\n"
            ],
            "text/plain": [
              "      Municipio                  Microrregiao           Populacao Ano \n",
              "1     Alta Floresta DOeste       Cacoal                 NA        1999\n",
              "2     Ariquemes                  Ariquemes              NA        1999\n",
              "3     Cabixi                     Colorado do Oeste      NA        1999\n",
              "4     Cacoal                     Cacoal                 NA        1999\n",
              "5     Cerejeiras                 Colorado do Oeste      NA        1999\n",
              "6     Colorado do Oeste          Colorado do Oeste      NA        1999\n",
              "7     Corumbiara                 Colorado do Oeste      NA        1999\n",
              "8     Costa Marques              Guajara-Mirim          NA        1999\n",
              "9     Espigao DOeste             Cacoal                 NA        1999\n",
              "10    Guajara-Mirim              Guajara-Mirim          NA        1999\n",
              "11    Jaru                       Ji-Parana              NA        1999\n",
              "12    Ji-Parana                  Ji-Parana              NA        1999\n",
              "13    Machadinho DOeste          Ariquemes              NA        1999\n",
              "14    Nova Brasilandia DOeste    Alvorada DOeste        NA        1999\n",
              "15    Ouro Preto do Oeste        Ji-Parana              NA        1999\n",
              "16    Pimenta Bueno              Vilhena                NA        1999\n",
              "17    Porto Velho                Porto Velho            NA        1999\n",
              "18    Presidente Medici          Ji-Parana              NA        1999\n",
              "19    Rio Crespo                 Ariquemes              NA        1999\n",
              "20    Rolim de Moura             Cacoal                 NA        1999\n",
              "21    Santa Luzia DOeste         Cacoal                 NA        1999\n",
              "22    Vilhena                    Vilhena                NA        1999\n",
              "23    Sao Miguel do Guapore      Alvorada DOeste        NA        1999\n",
              "24    Nova Mamore                Porto Velho            NA        1999\n",
              "25    Alvorada DOeste            Alvorada DOeste        NA        1999\n",
              "26    Alto Alegre dos Parecis    Cacoal                 NA        1999\n",
              "27    Alto Paraiso               Ariquemes              NA        1999\n",
              "28    Buritis                    Porto Velho            NA        1999\n",
              "29    Novo Horizonte do Oeste    Cacoal                 NA        1999\n",
              "30    Cacaulandia                Ariquemes              NA        1999\n",
              "⋮     ⋮                          ⋮                      ⋮         ⋮   \n",
              "66611 Sao Luis de Montes Belos   Anicuns                  30050   2010\n",
              "66612 Sao Luiz do Norte          Ceres                     4617   2010\n",
              "66613 Sao Miguel do Araguaia     Sao Miguel do Araguaia   22294   2010\n",
              "66614 Sao Miguel do Passa Quatro Pires do Rio              3761   2010\n",
              "66615 Sao Patricio               Ceres                     1991   2010\n",
              "66616 Sao Simao                  Quirinopolis             17086   2010\n",
              "66617 Senador Canedo             Goiania                  84399   2010\n",
              "66618 Serranopolis               Sudoeste de Goias         7477   2010\n",
              "66619 Silvania                   Pires do Rio             19096   2010\n",
              "66620 Simolandia                 Vao do Parana             6512   2010\n",
              "66621 Sitio dAbadia              Vao do Parana             2821   2010\n",
              "66622 Taquaral de Goias          Anapolis                  3540   2010\n",
              "66623 Teresina de Goias          Chapada dos Veadeiros     3016   2010\n",
              "66624 Terezopolis de Goias       Goiania                   6562   2010\n",
              "66625 Tres Ranchos               Catalao                   2817   2010\n",
              "66626 Trindade                   Goiania                 104506   2010\n",
              "66627 Trombas                    Porangatu                 3435   2010\n",
              "66628 Turvania                   Anicuns                   4839   2010\n",
              "66629 Turvelandia                Vale do Rio dos Bois      4399   2010\n",
              "66630 Uirapuru                   Sao Miguel do Araguaia    2935   2010\n",
              "66631 Uruacu                     Porangatu                36949   2010\n",
              "66632 Uruana                     Ceres                    13821   2010\n",
              "66633 Urutai                     Pires do Rio              3058   2010\n",
              "66634 Valparaiso de Goias        Entorno de Brasilia     132947   2010\n",
              "66635 Varjao                     Vale do Rio dos Bois      3661   2010\n",
              "66636 Vianopolis                 Pires do Rio             12549   2010\n",
              "66637 Vicentinopolis             Meia Ponte                7371   2010\n",
              "66638 Vila Boa                   Entorno de Brasilia       4742   2010\n",
              "66639 Vila Propicio              Entorno de Brasilia       5145   2010\n",
              "66640 Brasilia                   Brasilia               2562963   2010"
            ]
          },
          "metadata": {},
          "output_type": "display_data"
        }
      ],
      "source": [
        "menosColunas <- dados[,c('Municipio','Microrregiao','Populacao','Ano')]\n",
        "\n",
        "menosColunas"
      ]
    },
    {
      "cell_type": "code",
      "execution_count": 43,
      "metadata": {
        "colab": {
          "base_uri": "https://localhost:8080/",
          "height": 681
        },
        "id": "mhdMZMSp_NWX",
        "outputId": "128fa3f0-00c6-4f68-ec80-42514b65cd4a"
      },
      "outputs": [
        {
          "data": {
            "text/html": [
              "<table class=\"dataframe\">\n",
              "<caption>A data.frame: 8 × 4</caption>\n",
              "<thead>\n",
              "\t<tr><th></th><th scope=col>Municipio</th><th scope=col>Microrregiao</th><th scope=col>Populacao</th><th scope=col>Ano</th></tr>\n",
              "\t<tr><th></th><th scope=col>&lt;chr&gt;</th><th scope=col>&lt;chr&gt;</th><th scope=col>&lt;int&gt;</th><th scope=col>&lt;int&gt;</th></tr>\n",
              "</thead>\n",
              "<tbody>\n",
              "\t<tr><th scope=row>64416</th><td>Biritiba-Mirim       </td><td>Mogi das Cruzes</td><td> 28573</td><td>2010</td></tr>\n",
              "\t<tr><th scope=row>64522</th><td>Ferraz de Vasconcelos</td><td>Mogi das Cruzes</td><td>168290</td><td>2010</td></tr>\n",
              "\t<tr><th scope=row>64549</th><td>Guararema            </td><td>Mogi das Cruzes</td><td> 25861</td><td>2010</td></tr>\n",
              "\t<tr><th scope=row>64606</th><td>Itaquaquecetuba      </td><td>Mogi das Cruzes</td><td>321854</td><td>2010</td></tr>\n",
              "\t<tr><th scope=row>64685</th><td>Mogi das Cruzes      </td><td>Mogi das Cruzes</td><td>387241</td><td>2010</td></tr>\n",
              "\t<tr><th scope=row>64786</th><td>Poa                  </td><td>Mogi das Cruzes</td><td>106033</td><td>2010</td></tr>\n",
              "\t<tr><th scope=row>64846</th><td>Salesopolis          </td><td>Mogi das Cruzes</td><td> 15639</td><td>2010</td></tr>\n",
              "\t<tr><th scope=row>64926</th><td>Suzano               </td><td>Mogi das Cruzes</td><td>262568</td><td>2010</td></tr>\n",
              "</tbody>\n",
              "</table>\n"
            ],
            "text/latex": [
              "A data.frame: 8 × 4\n",
              "\\begin{tabular}{r|llll}\n",
              "  & Municipio & Microrregiao & Populacao & Ano\\\\\n",
              "  & <chr> & <chr> & <int> & <int>\\\\\n",
              "\\hline\n",
              "\t64416 & Biritiba-Mirim        & Mogi das Cruzes &  28573 & 2010\\\\\n",
              "\t64522 & Ferraz de Vasconcelos & Mogi das Cruzes & 168290 & 2010\\\\\n",
              "\t64549 & Guararema             & Mogi das Cruzes &  25861 & 2010\\\\\n",
              "\t64606 & Itaquaquecetuba       & Mogi das Cruzes & 321854 & 2010\\\\\n",
              "\t64685 & Mogi das Cruzes       & Mogi das Cruzes & 387241 & 2010\\\\\n",
              "\t64786 & Poa                   & Mogi das Cruzes & 106033 & 2010\\\\\n",
              "\t64846 & Salesopolis           & Mogi das Cruzes &  15639 & 2010\\\\\n",
              "\t64926 & Suzano                & Mogi das Cruzes & 262568 & 2010\\\\\n",
              "\\end{tabular}\n"
            ],
            "text/markdown": [
              "\n",
              "A data.frame: 8 × 4\n",
              "\n",
              "| <!--/--> | Municipio &lt;chr&gt; | Microrregiao &lt;chr&gt; | Populacao &lt;int&gt; | Ano &lt;int&gt; |\n",
              "|---|---|---|---|---|\n",
              "| 64416 | Biritiba-Mirim        | Mogi das Cruzes |  28573 | 2010 |\n",
              "| 64522 | Ferraz de Vasconcelos | Mogi das Cruzes | 168290 | 2010 |\n",
              "| 64549 | Guararema             | Mogi das Cruzes |  25861 | 2010 |\n",
              "| 64606 | Itaquaquecetuba       | Mogi das Cruzes | 321854 | 2010 |\n",
              "| 64685 | Mogi das Cruzes       | Mogi das Cruzes | 387241 | 2010 |\n",
              "| 64786 | Poa                   | Mogi das Cruzes | 106033 | 2010 |\n",
              "| 64846 | Salesopolis           | Mogi das Cruzes |  15639 | 2010 |\n",
              "| 64926 | Suzano                | Mogi das Cruzes | 262568 | 2010 |\n",
              "\n"
            ],
            "text/plain": [
              "      Municipio             Microrregiao    Populacao Ano \n",
              "64416 Biritiba-Mirim        Mogi das Cruzes  28573    2010\n",
              "64522 Ferraz de Vasconcelos Mogi das Cruzes 168290    2010\n",
              "64549 Guararema             Mogi das Cruzes  25861    2010\n",
              "64606 Itaquaquecetuba       Mogi das Cruzes 321854    2010\n",
              "64685 Mogi das Cruzes       Mogi das Cruzes 387241    2010\n",
              "64786 Poa                   Mogi das Cruzes 106033    2010\n",
              "64846 Salesopolis           Mogi das Cruzes  15639    2010\n",
              "64926 Suzano                Mogi das Cruzes 262568    2010"
            ]
          },
          "metadata": {},
          "output_type": "display_data"
        },
        {
          "data": {
            "text/html": [
              "<table class=\"dataframe\">\n",
              "<caption>A data.frame: 8 × 4</caption>\n",
              "<thead>\n",
              "\t<tr><th></th><th scope=col>Municipio</th><th scope=col>Microrregiao</th><th scope=col>Populacao</th><th scope=col>Ano</th></tr>\n",
              "\t<tr><th></th><th scope=col>&lt;chr&gt;</th><th scope=col>&lt;chr&gt;</th><th scope=col>&lt;int&gt;</th><th scope=col>&lt;int&gt;</th></tr>\n",
              "</thead>\n",
              "<tbody>\n",
              "\t<tr><th scope=row>64416</th><td>Biritiba-Mirim       </td><td>Mogi das Cruzes</td><td> 28573</td><td>2010</td></tr>\n",
              "\t<tr><th scope=row>64522</th><td>Ferraz de Vasconcelos</td><td>Mogi das Cruzes</td><td>168290</td><td>2010</td></tr>\n",
              "\t<tr><th scope=row>64549</th><td>Guararema            </td><td>Mogi das Cruzes</td><td> 25861</td><td>2010</td></tr>\n",
              "\t<tr><th scope=row>64606</th><td>Itaquaquecetuba      </td><td>Mogi das Cruzes</td><td>321854</td><td>2010</td></tr>\n",
              "\t<tr><th scope=row>64685</th><td>Mogi das Cruzes      </td><td>Mogi das Cruzes</td><td>387241</td><td>2010</td></tr>\n",
              "\t<tr><th scope=row>64786</th><td>Poa                  </td><td>Mogi das Cruzes</td><td>106033</td><td>2010</td></tr>\n",
              "\t<tr><th scope=row>64846</th><td>Salesopolis          </td><td>Mogi das Cruzes</td><td> 15639</td><td>2010</td></tr>\n",
              "\t<tr><th scope=row>64926</th><td>Suzano               </td><td>Mogi das Cruzes</td><td>262568</td><td>2010</td></tr>\n",
              "</tbody>\n",
              "</table>\n"
            ],
            "text/latex": [
              "A data.frame: 8 × 4\n",
              "\\begin{tabular}{r|llll}\n",
              "  & Municipio & Microrregiao & Populacao & Ano\\\\\n",
              "  & <chr> & <chr> & <int> & <int>\\\\\n",
              "\\hline\n",
              "\t64416 & Biritiba-Mirim        & Mogi das Cruzes &  28573 & 2010\\\\\n",
              "\t64522 & Ferraz de Vasconcelos & Mogi das Cruzes & 168290 & 2010\\\\\n",
              "\t64549 & Guararema             & Mogi das Cruzes &  25861 & 2010\\\\\n",
              "\t64606 & Itaquaquecetuba       & Mogi das Cruzes & 321854 & 2010\\\\\n",
              "\t64685 & Mogi das Cruzes       & Mogi das Cruzes & 387241 & 2010\\\\\n",
              "\t64786 & Poa                   & Mogi das Cruzes & 106033 & 2010\\\\\n",
              "\t64846 & Salesopolis           & Mogi das Cruzes &  15639 & 2010\\\\\n",
              "\t64926 & Suzano                & Mogi das Cruzes & 262568 & 2010\\\\\n",
              "\\end{tabular}\n"
            ],
            "text/markdown": [
              "\n",
              "A data.frame: 8 × 4\n",
              "\n",
              "| <!--/--> | Municipio &lt;chr&gt; | Microrregiao &lt;chr&gt; | Populacao &lt;int&gt; | Ano &lt;int&gt; |\n",
              "|---|---|---|---|---|\n",
              "| 64416 | Biritiba-Mirim        | Mogi das Cruzes |  28573 | 2010 |\n",
              "| 64522 | Ferraz de Vasconcelos | Mogi das Cruzes | 168290 | 2010 |\n",
              "| 64549 | Guararema             | Mogi das Cruzes |  25861 | 2010 |\n",
              "| 64606 | Itaquaquecetuba       | Mogi das Cruzes | 321854 | 2010 |\n",
              "| 64685 | Mogi das Cruzes       | Mogi das Cruzes | 387241 | 2010 |\n",
              "| 64786 | Poa                   | Mogi das Cruzes | 106033 | 2010 |\n",
              "| 64846 | Salesopolis           | Mogi das Cruzes |  15639 | 2010 |\n",
              "| 64926 | Suzano                | Mogi das Cruzes | 262568 | 2010 |\n",
              "\n"
            ],
            "text/plain": [
              "      Municipio             Microrregiao    Populacao Ano \n",
              "64416 Biritiba-Mirim        Mogi das Cruzes  28573    2010\n",
              "64522 Ferraz de Vasconcelos Mogi das Cruzes 168290    2010\n",
              "64549 Guararema             Mogi das Cruzes  25861    2010\n",
              "64606 Itaquaquecetuba       Mogi das Cruzes 321854    2010\n",
              "64685 Mogi das Cruzes       Mogi das Cruzes 387241    2010\n",
              "64786 Poa                   Mogi das Cruzes 106033    2010\n",
              "64846 Salesopolis           Mogi das Cruzes  15639    2010\n",
              "64926 Suzano                Mogi das Cruzes 262568    2010"
            ]
          },
          "metadata": {},
          "output_type": "display_data"
        }
      ],
      "source": [
        "menosColunas[menosColunas$Microrregiao == 'Mogi das Cruzes'\n",
        "             & menosColunas$Ano == 2010,]\n",
        "\n",
        "\n",
        "MogiDasCruzes <- menosColunas[menosColunas$Microrregiao == 'Mogi das Cruzes'\n",
        "                            & menosColunas$Ano == 2010,]\n",
        "\n",
        "\n",
        "MogiDasCruzes"
      ]
    },
    {
      "cell_type": "code",
      "execution_count": 44,
      "metadata": {
        "colab": {
          "base_uri": "https://localhost:8080/",
          "height": 437
        },
        "id": "M7-SlZoI_NWX",
        "outputId": "13b50180-39da-408d-92fe-23cbb9575950"
      },
      "outputs": [
        {
          "data": {
            "image/png": "[encoded data removed]",
            "text/plain": [
              "plot without title"
            ]
          },
          "metadata": {
            "image/png": {
              "height": 420,
              "width": 420
            }
          },
          "output_type": "display_data"
        }
      ],
      "source": [
        "#Plotando gráficos\n",
        "pie(MogiDasCruzes$Populacao)\n",
        "\n"
      ]
    },
    {
      "cell_type": "code",
      "execution_count": 45,
      "metadata": {
        "colab": {
          "base_uri": "https://localhost:8080/",
          "height": 437
        },
        "id": "ESWTD8TC_NWY",
        "outputId": "f1c61867-2846-4f3c-e316-fa644e92f8b5"
      },
      "outputs": [
        {
          "data": {
            "image/png": "[encoded data removed]",
            "text/plain": [
              "plot without title"
            ]
          },
          "metadata": {
            "image/png": {
              "height": 420,
              "width": 420
            }
          },
          "output_type": "display_data"
        }
      ],
      "source": [
        "pie(MogiDasCruzes$Populacao, labels = paste(MogiDasCruzes$Municipio,':',MogiDasCruzes$Populacao))\n",
        "\n"
      ]
    },
    {
      "cell_type": "code",
      "execution_count": 46,
      "metadata": {
        "colab": {
          "base_uri": "https://localhost:8080/",
          "height": 437
        },
        "id": "9GRJkefO_NWZ",
        "outputId": "fd4f7b6a-9527-47c8-a039-574287ca4bea"
      },
      "outputs": [
        {
          "data": {
            "image/png": "[encoded data removed]",
            "text/plain": [
              "plot without title"
            ]
          },
          "metadata": {
            "image/png": {
              "height": 420,
              "width": 420
            }
          },
          "output_type": "display_data"
        }
      ],
      "source": [
        "minhasCores <- c(\"Red\",\"Green\",\"Blue\",\"Black\",\"Orange\",\"Yellow\",\"Purple\",\"Brown\")\n",
        "\n",
        "pie(MogiDasCruzes$Populacao, labels = paste(MogiDasCruzes$Municipio,':',MogiDasCruzes$Populacao), col=minhasCores)"
      ]
    },
    {
      "cell_type": "code",
      "execution_count": 51,
      "metadata": {
        "colab": {
          "base_uri": "https://localhost:8080/",
          "height": 437
        },
        "id": "OzR-I1GE_NWZ",
        "outputId": "f5d5466a-7995-482d-c78d-39e0528ae859"
      },
      "outputs": [
        {
          "name": "stderr",
          "output_type": "stream",
          "text": [
            "Updating HTML index of packages in '.Library'\n",
            "\n",
            "Making 'packages.html' ...\n",
            " done\n",
            "\n"
          ]
        },
        {
          "data": {
            "image/png": "[encoded data removed]",
            "text/plain": [
              "plot without title"
            ]
          },
          "metadata": {
            "image/png": {
              "height": 420,
              "width": 420
            }
          },
          "output_type": "display_data"
        }
      ],
      "source": [
        "install.packages(\"RColorBrewer\")\n",
        "library(RColorBrewer)\n",
        "display.brewer.all()"
      ]
    },
    {
      "cell_type": "code",
      "execution_count": 52,
      "metadata": {
        "colab": {
          "base_uri": "https://localhost:8080/",
          "height": 437
        },
        "id": "C1lG7Eyz_NWa",
        "outputId": "cb3ba4b0-7994-4c3a-a575-193518d5b90b"
      },
      "outputs": [
        {
          "data": {
            "image/png": "[encoded data removed]",
            "text/plain": [
              "plot without title"
            ]
          },
          "metadata": {
            "image/png": {
              "height": 420,
              "width": 420
            }
          },
          "output_type": "display_data"
        }
      ],
      "source": [
        "cores <- brewer.pal(8, 'Dark2')\n",
        "\n",
        "pie(MogiDasCruzes$Populacao, labels = paste(MogiDasCruzes$Municipio,':',MogiDasCruzes$Populacao), col=cores)"
      ]
    }
  ],
  "metadata": {
    "colab": {
      "name": "Trilha5_R_Explicado.ipynb",
      "provenance": []
    },
    "kernelspec": {
      "display_name": "R",
      "language": "R",
      "name": "ir"
    },
    "language_info": {
      "codemirror_mode": "r",
      "file_extension": ".r",
      "mimetype": "text/x-r-source",
      "name": "R",
      "pygments_lexer": "r",
      "version": "4.1.2"
    }
  },
  "nbformat": 4,
  "nbformat_minor": 0
}
