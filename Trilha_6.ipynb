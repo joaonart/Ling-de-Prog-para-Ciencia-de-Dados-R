{
 "cells": [
  {
   "cell_type": "markdown",
   "metadata": {},
   "source": [
    "# Trilha 6"
   ]
  },
  {
   "cell_type": "markdown",
   "metadata": {},
   "source": [
    "## Instalando os pacotes/bibliotecas"
   ]
  },
  {
   "cell_type": "code",
   "execution_count": 2,
   "metadata": {},
   "outputs": [
    {
     "name": "stderr",
     "output_type": "stream",
     "text": [
      "also installing the dependencies ‘lattice’, ‘colorspace’, ‘bit’, ‘sass’, ‘rappdirs’, ‘rematch’, ‘nlme’, ‘Matrix’, ‘farver’, ‘labeling’, ‘munsell’, ‘viridisLite’, ‘bit64’, ‘prettyunits’, ‘bslib’, ‘jquerylib’, ‘tinytex’, ‘backports’, ‘generics’, ‘assertthat’, ‘blob’, ‘DBI’, ‘tidyselect’, ‘data.table’, ‘gargle’, ‘cellranger’, ‘ids’, ‘gtable’, ‘isoband’, ‘MASS’, ‘mgcv’, ‘scales’, ‘clipr’, ‘vroom’, ‘tzdb’, ‘Rcpp’, ‘progress’, ‘rmarkdown’, ‘selectr’, ‘broom’, ‘dbplyr’, ‘dplyr’, ‘dtplyr’, ‘forcats’, ‘googledrive’, ‘googlesheets4’, ‘ggplot2’, ‘haven’, ‘hms’, ‘lubridate’, ‘modelr’, ‘readr’, ‘readxl’, ‘reprex’, ‘rvest’, ‘tidyr’\n",
      "\n",
      "\n",
      "Updating HTML index of packages in '.Library'\n",
      "\n",
      "Making 'packages.html' ...\n",
      " done\n",
      "\n"
     ]
    }
   ],
   "source": [
    "install.packages('tidyverse')"
   ]
  },
  {
   "cell_type": "markdown",
   "metadata": {},
   "source": [
    "## Carregando as bibliotecas"
   ]
  },
  {
   "cell_type": "code",
   "execution_count": 3,
   "metadata": {},
   "outputs": [
    {
     "name": "stderr",
     "output_type": "stream",
     "text": [
      "── \u001b[1mAttaching packages\u001b[22m ─────────────────────────────────────── tidyverse 1.3.1 ──\n",
      "\n",
      "\u001b[32m✔\u001b[39m \u001b[34mggplot2\u001b[39m 3.3.5     \u001b[32m✔\u001b[39m \u001b[34mpurrr  \u001b[39m 0.3.4\n",
      "\u001b[32m✔\u001b[39m \u001b[34mtibble \u001b[39m 3.1.6     \u001b[32m✔\u001b[39m \u001b[34mdplyr  \u001b[39m 1.0.8\n",
      "\u001b[32m✔\u001b[39m \u001b[34mtidyr  \u001b[39m 1.2.0     \u001b[32m✔\u001b[39m \u001b[34mstringr\u001b[39m 1.4.0\n",
      "\u001b[32m✔\u001b[39m \u001b[34mreadr  \u001b[39m 2.1.2     \u001b[32m✔\u001b[39m \u001b[34mforcats\u001b[39m 0.5.1\n",
      "\n",
      "── \u001b[1mConflicts\u001b[22m ────────────────────────────────────────── tidyverse_conflicts() ──\n",
      "\u001b[31m✖\u001b[39m \u001b[34mdplyr\u001b[39m::\u001b[32mfilter()\u001b[39m masks \u001b[34mstats\u001b[39m::filter()\n",
      "\u001b[31m✖\u001b[39m \u001b[34mdplyr\u001b[39m::\u001b[32mlag()\u001b[39m    masks \u001b[34mstats\u001b[39m::lag()\n",
      "\n"
     ]
    }
   ],
   "source": [
    "library('tidyverse')"
   ]
  },
  {
   "cell_type": "markdown",
   "metadata": {},
   "source": [
    "## Ajustando o tempo de timeout para realizar o download"
   ]
  },
  {
   "cell_type": "code",
   "execution_count": 4,
   "metadata": {},
   "outputs": [
    {
     "data": {
      "text/html": [
       "60"
      ],
      "text/latex": [
       "60"
      ],
      "text/markdown": [
       "60"
      ],
      "text/plain": [
       "[1] 60"
      ]
     },
     "metadata": {},
     "output_type": "display_data"
    },
    {
     "data": {
      "text/html": [
       "1000"
      ],
      "text/latex": [
       "1000"
      ],
      "text/markdown": [
       "1000"
      ],
      "text/plain": [
       "[1] 1000"
      ]
     },
     "metadata": {},
     "output_type": "display_data"
    }
   ],
   "source": [
    "getOption('timeout')\n",
    "options(timeout=1000)\n",
    "getOption('timeout')"
   ]
  },
  {
   "cell_type": "markdown",
   "metadata": {},
   "source": [
    "## Baixando os arquivos que serão analisados"
   ]
  },
  {
   "cell_type": "code",
   "execution_count": null,
   "metadata": {},
   "outputs": [],
   "source": [
    "URL <- \"http://ww2.amstat.org/sections/graphics/datasets/DataExpo2009.zip\"\n",
    "nomeArquivo <- \"arquivo_baixado\"\n",
    "download.file(URL, nomeArquivo)"
   ]
  },
  {
   "cell_type": "markdown",
   "metadata": {},
   "source": [
    "## Realizando a extração dos arquivos"
   ]
  },
  {
   "cell_type": "code",
   "execution_count": null,
   "metadata": {},
   "outputs": [],
   "source": [
    "unzip(nomeArquivo)"
   ]
  },
  {
   "cell_type": "markdown",
   "metadata": {},
   "source": [
    "## Carregando os dados no dataframe"
   ]
  },
  {
   "cell_type": "code",
   "execution_count": 5,
   "metadata": {},
   "outputs": [
    {
     "name": "stderr",
     "output_type": "stream",
     "text": [
      "\u001b[1mRows: \u001b[22m\u001b[34m2389217\u001b[39m \u001b[1mColumns: \u001b[22m\u001b[34m29\u001b[39m\n",
      "\u001b[36m──\u001b[39m \u001b[1mColumn specification\u001b[22m \u001b[36m────────────────────────────────────────────────────────\u001b[39m\n",
      "\u001b[1mDelimiter:\u001b[22m \",\"\n",
      "\u001b[31mchr\u001b[39m  (5): UniqueCarrier, TailNum, Origin, Dest, CancellationCode\n",
      "\u001b[32mdbl\u001b[39m (24): Year, Month, DayofMonth, DayOfWeek, DepTime, CRSDepTime, ArrTime, ...\n",
      "\n",
      "\u001b[36mℹ\u001b[39m Use `spec()` to retrieve the full column specification for this data.\n",
      "\u001b[36mℹ\u001b[39m Specify the column types or set `show_col_types = FALSE` to quiet this message.\n"
     ]
    }
   ],
   "source": [
    "voos2008 <- read_csv(\"data//2008.csv.bz2\")"
   ]
  },
  {
   "cell_type": "markdown",
   "metadata": {},
   "source": [
    "## Para validar, repare que ao manter a semente como 42, é esperado que os seis primeiros números de voo sejam: 'N913SW' \\| 'N212WN' \\| 'N69602'\\| 'N550JB' \\| 'N284YV' \\| 'N305SW':"
   ]
  },
  {
   "cell_type": "code",
   "execution_count": 6,
   "metadata": {},
   "outputs": [
    {
     "name": "stdout",
     "output_type": "stream",
     "text": [
      "spec_tbl_df [100,000 × 29] (S3: spec_tbl_df/tbl_df/tbl/data.frame)\n",
      " $ Year             : num [1:100000] 2008 2008 2008 2008 2008 ...\n",
      " $ Month            : num [1:100000] 1 2 2 1 3 3 3 3 4 1 ...\n",
      " $ DayofMonth       : num [1:100000] 19 8 11 12 2 30 24 17 10 11 ...\n",
      " $ DayOfWeek        : num [1:100000] 6 5 1 6 7 7 1 1 4 5 ...\n",
      " $ DepTime          : num [1:100000] 1659 2036 1415 1544 1027 ...\n",
      " $ CRSDepTime       : num [1:100000] 1700 2020 1415 1540 1040 ...\n",
      " $ ArrTime          : num [1:100000] 1821 2237 1746 1725 1327 ...\n",
      " $ CRSArrTime       : num [1:100000] 1825 2250 1750 1735 1327 ...\n",
      " $ UniqueCarrier    : chr [1:100000] \"WN\" \"WN\" \"B6\" \"MQ\" ...\n",
      " $ FlightNum        : num [1:100000] 136 1352 467 4283 1789 ...\n",
      " $ TailNum          : chr [1:100000] \"N752SW\" \"N407WN\" \"N589JB\" \"N635AE\" ...\n",
      " $ ActualElapsedTime: num [1:100000] 82 121 211 101 180 100 359 145 99 112 ...\n",
      " $ CRSElapsedTime   : num [1:100000] 85 150 215 115 167 105 372 143 110 115 ...\n",
      " $ AirTime          : num [1:100000] 72 106 186 81 146 84 332 119 90 96 ...\n",
      " $ ArrDelay         : num [1:100000] -4 -13 -4 -10 0 -6 -18 3 -11 -8 ...\n",
      " $ DepDelay         : num [1:100000] -1 16 0 4 -13 -1 -5 1 0 -5 ...\n",
      " $ Origin           : chr [1:100000] \"SMF\" \"HOU\" \"BOS\" \"LIT\" ...\n",
      " $ Dest             : chr [1:100000] \"SAN\" \"MDW\" \"RSW\" \"ORD\" ...\n",
      " $ Distance         : num [1:100000] 480 937 1249 552 1023 ...\n",
      " $ TaxiIn           : num [1:100000] 3 8 7 10 7 4 5 15 3 5 ...\n",
      " $ TaxiOut          : num [1:100000] 7 7 18 10 27 12 22 11 6 11 ...\n",
      " $ Cancelled        : num [1:100000] 0 0 0 0 0 0 0 0 0 0 ...\n",
      " $ CancellationCode : chr [1:100000] NA NA NA NA ...\n",
      " $ Diverted         : num [1:100000] 0 0 0 0 0 0 0 0 0 0 ...\n",
      " $ CarrierDelay     : num [1:100000] NA NA NA NA NA NA NA NA NA NA ...\n",
      " $ WeatherDelay     : num [1:100000] NA NA NA NA NA NA NA NA NA NA ...\n",
      " $ NASDelay         : num [1:100000] NA NA NA NA NA NA NA NA NA NA ...\n",
      " $ SecurityDelay    : num [1:100000] NA NA NA NA NA NA NA NA NA NA ...\n",
      " $ LateAircraftDelay: num [1:100000] NA NA NA NA NA NA NA NA NA NA ...\n",
      " - attr(*, \"spec\")=\n",
      "  .. cols(\n",
      "  ..   Year = \u001b[32mcol_double()\u001b[39m,\n",
      "  ..   Month = \u001b[32mcol_double()\u001b[39m,\n",
      "  ..   DayofMonth = \u001b[32mcol_double()\u001b[39m,\n",
      "  ..   DayOfWeek = \u001b[32mcol_double()\u001b[39m,\n",
      "  ..   DepTime = \u001b[32mcol_double()\u001b[39m,\n",
      "  ..   CRSDepTime = \u001b[32mcol_double()\u001b[39m,\n",
      "  ..   ArrTime = \u001b[32mcol_double()\u001b[39m,\n",
      "  ..   CRSArrTime = \u001b[32mcol_double()\u001b[39m,\n",
      "  ..   UniqueCarrier = \u001b[31mcol_character()\u001b[39m,\n",
      "  ..   FlightNum = \u001b[32mcol_double()\u001b[39m,\n",
      "  ..   TailNum = \u001b[31mcol_character()\u001b[39m,\n",
      "  ..   ActualElapsedTime = \u001b[32mcol_double()\u001b[39m,\n",
      "  ..   CRSElapsedTime = \u001b[32mcol_double()\u001b[39m,\n",
      "  ..   AirTime = \u001b[32mcol_double()\u001b[39m,\n",
      "  ..   ArrDelay = \u001b[32mcol_double()\u001b[39m,\n",
      "  ..   DepDelay = \u001b[32mcol_double()\u001b[39m,\n",
      "  ..   Origin = \u001b[31mcol_character()\u001b[39m,\n",
      "  ..   Dest = \u001b[31mcol_character()\u001b[39m,\n",
      "  ..   Distance = \u001b[32mcol_double()\u001b[39m,\n",
      "  ..   TaxiIn = \u001b[32mcol_double()\u001b[39m,\n",
      "  ..   TaxiOut = \u001b[32mcol_double()\u001b[39m,\n",
      "  ..   Cancelled = \u001b[32mcol_double()\u001b[39m,\n",
      "  ..   CancellationCode = \u001b[31mcol_character()\u001b[39m,\n",
      "  ..   Diverted = \u001b[32mcol_double()\u001b[39m,\n",
      "  ..   CarrierDelay = \u001b[32mcol_double()\u001b[39m,\n",
      "  ..   WeatherDelay = \u001b[32mcol_double()\u001b[39m,\n",
      "  ..   NASDelay = \u001b[32mcol_double()\u001b[39m,\n",
      "  ..   SecurityDelay = \u001b[32mcol_double()\u001b[39m,\n",
      "  ..   LateAircraftDelay = \u001b[32mcol_double()\u001b[39m\n",
      "  .. )\n",
      " - attr(*, \"problems\")=<externalptr> \n"
     ]
    },
    {
     "data": {
      "text/html": [
       "<style>\n",
       ".list-inline {list-style: none; margin:0; padding: 0}\n",
       ".list-inline>li {display: inline-block}\n",
       ".list-inline>li:not(:last-child)::after {content: \"\\00b7\"; padding: 0 .5ex}\n",
       "</style>\n",
       "<ol class=list-inline><li>'N752SW'</li><li>'N407WN'</li><li>'N589JB'</li><li>'N635AE'</li><li>'N9333'</li><li>'N429AA'</li></ol>\n"
      ],
      "text/latex": [
       "\\begin{enumerate*}\n",
       "\\item 'N752SW'\n",
       "\\item 'N407WN'\n",
       "\\item 'N589JB'\n",
       "\\item 'N635AE'\n",
       "\\item 'N9333'\n",
       "\\item 'N429AA'\n",
       "\\end{enumerate*}\n"
      ],
      "text/markdown": [
       "1. 'N752SW'\n",
       "2. 'N407WN'\n",
       "3. 'N589JB'\n",
       "4. 'N635AE'\n",
       "5. 'N9333'\n",
       "6. 'N429AA'\n",
       "\n",
       "\n"
      ],
      "text/plain": [
       "[1] \"N752SW\" \"N407WN\" \"N589JB\" \"N635AE\" \"N9333\"  \"N429AA\""
      ]
     },
     "metadata": {},
     "output_type": "display_data"
    }
   ],
   "source": [
    "set.seed(42)\n",
    "sampleDados <- sample_n(voos2008, 100000)\n",
    "str(sampleDados)\n",
    "head(sampleDados$TailNum)"
   ]
  },
  {
   "cell_type": "markdown",
   "metadata": {},
   "source": [
    "Por fim, este conjunto de dados de exemplo com 100.000 observações será salvo em um arquivo chamado voos2008.csv, e isso é feito com a função write_csv do pacote tidyverse:"
   ]
  },
  {
   "cell_type": "code",
   "execution_count": 7,
   "metadata": {},
   "outputs": [],
   "source": [
    "write_csv(sampleDados, 'voos2008.csv')"
   ]
  },
  {
   "cell_type": "markdown",
   "metadata": {},
   "source": [
    "Repare em sua pasta de trabalho que existe um arquivo chamado voos2008.csv com aproximadamente 10Mb de tamanho."
   ]
  },
  {
   "cell_type": "markdown",
   "metadata": {},
   "source": [
    "## Dicionário de dados"
   ]
  },
  {
   "cell_type": "markdown",
   "metadata": {},
   "source": [
    "| Variável              | Descrição                                                                 |\n",
    "|-----------------------|---------------------------------------------------------------------------|\n",
    "| **Year**              | 1987-2008                                                                 |\n",
    "| **Month**             | 1-12                                                                      |\n",
    "| **DayOfMonth**        | 1-31                                                                      |\n",
    "| **DayOfWeek**         | 1 (segunda-feira)-7 (domingo)                                             |\n",
    "| **DepTime**           | Hora de partida real (local, hhmm)                                        |\n",
    "| **CRSDepTime**        | Hora de partida programada (local, hhmm)                                  |\n",
    "| **ArrTime**           | Hora de chegada real (local, hhmm)                                        |\n",
    "| **CRSArrTime**        | Hora de chegada programada (local, hhmm)                                  |\n",
    "| **UniqueCarrier**     | Código de operadora único                                                 |\n",
    "| **FlightNum**         | Número do voo                                                             |\n",
    "| **TailNum**           | Número da cauda do avião                                                  |\n",
    "| **ActualElapsedTime** | Tempo real de voo em minutos                                              |\n",
    "| **CRSElapsedTime**    | Tempo programado de voo em minutos                                        |\n",
    "| **AirTime**           | Tempo de voo em minutos                                                   |\n",
    "| **ArrDelay**          | Atraso de chegada, em minutos                                             |\n",
    "| **DepDelay**          | Atraso de partida, em minutos                                             |\n",
    "| **Origin**            | Código de aeroporto IATA de origem                                        |\n",
    "| **Dest**              | Código de aeroporto IATA de destino                                       |\n",
    "| **Distance**          | Distância em milhas                                                       |\n",
    "| **TaxiIn**            | Tempo taxiando no pouso, em minutos                                       |\n",
    "| **TaxiOut**           | Tempo taxiando na decolagem, em minutos                                   |\n",
    "| **Cancelled**         | Voo foi cancelado?                                                        |\n",
    "| **CancellationCode**  | Motivo do cancelamento (A = operadora, B = clima, C = NAS, D = segurança) |\n",
    "| **Diverted**          | 1 = sim, 0 = não                                                          |\n",
    "| **CarrierDelay**      | Atraso da operadora em minutos                                            |\n",
    "| **WeatherDelay**      | Atraso do clima em minutos                                                |\n",
    "| **NASDelay**          | Atraso NAS em minutos                                                     |\n",
    "| **SecurityDelay**     | Atraso da segurança em minutos                                            |\n",
    "| **LateAircraftDelay** | Atraso da aeronave em minutos                                             |"
   ]
  },
  {
   "cell_type": "markdown",
   "metadata": {},
   "source": [
    "\n",
    "Olhando para o dataset, não são todas as variáveis (ou colunas) que precisamos trazer para resolver este problema. O problema é bastante claro: **Qual é o dia da semana/época do ano para voar que minimiza atrasos?** Então, podemos olhar o dicionário de dados deste dataset para escolher algumas variáveis que fazem sentido para ajudar a resolver o problema. No bloco de código abaixo, são apresentadas duas funções do pacote tidyverse. A primeira função é o pipe, que é representado pelo símbolo %\\>% e a segunda é a select. \n",
    "\n",
    "O pipe permite que funções sejam executadas de forma ordenada, ou seja, uma função será executada somente após a outra. Repare que o símbolo do pipe está entre a variável com os dados e a função select. Isso faz com que o interpretador do R execute a instrução que está do lado esquerdo, para então, a partir de seu resultado, executar a instrução que está do lado direito do pipe. Ou seja, este exemplo de código executará o select em cima da base de dados. \n",
    "\n",
    "Já o select é a função responsável por selecionar determinadas colunas em um dataset, fazendo com que somente aquelas colunas definidas sejam mantidas no retorno da função. Observe que o código abaixo faz a seleção de apenas sete variáveis, entre as 29 existentes no dataset, e as armazena em um novo objeto chamado novoDataset: "
   ]
  },
  {
   "cell_type": "code",
   "execution_count": 8,
   "metadata": {},
   "outputs": [],
   "source": [
    "novoDataset <- voos2008 %>%\n",
    "  select(Year,Month,DayofMonth,DepTime,DepDelay,ArrDelay,Cancelled)"
   ]
  },
  {
   "cell_type": "markdown",
   "metadata": {},
   "source": [
    "Por enquanto, todas as 100.000 observações (linhas) são mantidas, mas somente as sete variáveis que são relevantes para resolver o problema foram retornadas. É possível ver este resultado com a função str() já estudada, e também com a função head() estudada há pouco: "
   ]
  },
  {
   "cell_type": "code",
   "execution_count": 9,
   "metadata": {},
   "outputs": [
    {
     "name": "stdout",
     "output_type": "stream",
     "text": [
      "tibble [2,389,217 × 7] (S3: tbl_df/tbl/data.frame)\n",
      " $ Year      : num [1:2389217] 2008 2008 2008 2008 2008 ...\n",
      " $ Month     : num [1:2389217] 1 1 1 1 1 1 1 1 1 1 ...\n",
      " $ DayofMonth: num [1:2389217] 3 3 3 3 3 3 3 3 3 3 ...\n",
      " $ DepTime   : num [1:2389217] 1343 1125 2009 903 1423 ...\n",
      " $ DepDelay  : num [1:2389217] 18 5 -6 8 23 4 8 2 -1 28 ...\n",
      " $ ArrDelay  : num [1:2389217] 16 2 -4 -2 16 0 3 5 -5 26 ...\n",
      " $ Cancelled : num [1:2389217] 0 0 0 0 0 0 0 0 0 0 ...\n"
     ]
    },
    {
     "data": {
      "text/html": [
       "<table class=\"dataframe\">\n",
       "<caption>A tibble: 6 × 7</caption>\n",
       "<thead>\n",
       "\t<tr><th scope=col>Year</th><th scope=col>Month</th><th scope=col>DayofMonth</th><th scope=col>DepTime</th><th scope=col>DepDelay</th><th scope=col>ArrDelay</th><th scope=col>Cancelled</th></tr>\n",
       "\t<tr><th scope=col>&lt;dbl&gt;</th><th scope=col>&lt;dbl&gt;</th><th scope=col>&lt;dbl&gt;</th><th scope=col>&lt;dbl&gt;</th><th scope=col>&lt;dbl&gt;</th><th scope=col>&lt;dbl&gt;</th><th scope=col>&lt;dbl&gt;</th></tr>\n",
       "</thead>\n",
       "<tbody>\n",
       "\t<tr><td>2008</td><td>1</td><td>3</td><td>1343</td><td>18</td><td>16</td><td>0</td></tr>\n",
       "\t<tr><td>2008</td><td>1</td><td>3</td><td>1125</td><td> 5</td><td> 2</td><td>0</td></tr>\n",
       "\t<tr><td>2008</td><td>1</td><td>3</td><td>2009</td><td>-6</td><td>-4</td><td>0</td></tr>\n",
       "\t<tr><td>2008</td><td>1</td><td>3</td><td> 903</td><td> 8</td><td>-2</td><td>0</td></tr>\n",
       "\t<tr><td>2008</td><td>1</td><td>3</td><td>1423</td><td>23</td><td>16</td><td>0</td></tr>\n",
       "\t<tr><td>2008</td><td>1</td><td>3</td><td>2024</td><td> 4</td><td> 0</td><td>0</td></tr>\n",
       "</tbody>\n",
       "</table>\n"
      ],
      "text/latex": [
       "A tibble: 6 × 7\n",
       "\\begin{tabular}{lllllll}\n",
       " Year & Month & DayofMonth & DepTime & DepDelay & ArrDelay & Cancelled\\\\\n",
       " <dbl> & <dbl> & <dbl> & <dbl> & <dbl> & <dbl> & <dbl>\\\\\n",
       "\\hline\n",
       "\t 2008 & 1 & 3 & 1343 & 18 & 16 & 0\\\\\n",
       "\t 2008 & 1 & 3 & 1125 &  5 &  2 & 0\\\\\n",
       "\t 2008 & 1 & 3 & 2009 & -6 & -4 & 0\\\\\n",
       "\t 2008 & 1 & 3 &  903 &  8 & -2 & 0\\\\\n",
       "\t 2008 & 1 & 3 & 1423 & 23 & 16 & 0\\\\\n",
       "\t 2008 & 1 & 3 & 2024 &  4 &  0 & 0\\\\\n",
       "\\end{tabular}\n"
      ],
      "text/markdown": [
       "\n",
       "A tibble: 6 × 7\n",
       "\n",
       "| Year &lt;dbl&gt; | Month &lt;dbl&gt; | DayofMonth &lt;dbl&gt; | DepTime &lt;dbl&gt; | DepDelay &lt;dbl&gt; | ArrDelay &lt;dbl&gt; | Cancelled &lt;dbl&gt; |\n",
       "|---|---|---|---|---|---|---|\n",
       "| 2008 | 1 | 3 | 1343 | 18 | 16 | 0 |\n",
       "| 2008 | 1 | 3 | 1125 |  5 |  2 | 0 |\n",
       "| 2008 | 1 | 3 | 2009 | -6 | -4 | 0 |\n",
       "| 2008 | 1 | 3 |  903 |  8 | -2 | 0 |\n",
       "| 2008 | 1 | 3 | 1423 | 23 | 16 | 0 |\n",
       "| 2008 | 1 | 3 | 2024 |  4 |  0 | 0 |\n",
       "\n"
      ],
      "text/plain": [
       "  Year Month DayofMonth DepTime DepDelay ArrDelay Cancelled\n",
       "1 2008 1     3          1343    18       16       0        \n",
       "2 2008 1     3          1125     5        2       0        \n",
       "3 2008 1     3          2009    -6       -4       0        \n",
       "4 2008 1     3           903     8       -2       0        \n",
       "5 2008 1     3          1423    23       16       0        \n",
       "6 2008 1     3          2024     4        0       0        "
      ]
     },
     "metadata": {},
     "output_type": "display_data"
    }
   ],
   "source": [
    "str(novoDataset)\n",
    "head(novoDataset)"
   ]
  },
  {
   "cell_type": "markdown",
   "metadata": {},
   "source": [
    "Agora, repare em mais uma condição no bloco de código que utiliza o pipe. Veja que foi adicionada no final da linha uma nova instrução. Desta vez, a função filter foi incluída, e **13**\n",
    "\n",
    "também foi adicionado um operador lógico de comparação com o valor 9 na variável Month. Esta função filter fará com que o dado seja retornado apenas quando o mês for setembro. \n",
    "\n",
    "Seguindo a estrutura de como o pipe funciona, o filtro para o mês de setembro será executado somente após a seleção de variáveis já ter sido executada. Ou seja, executa a instrução que está do lado direito do pipe em cima do objeto que está do lado esquerdo. \n",
    "\n",
    "Em ordem, este bloco de código executará a ordem: \n",
    "\n",
    "1)  Pegar todos os dados. \n",
    "\n",
    "2)  Selecionar apenas sete variáveis. \n",
    "\n",
    "3)  Fazer um filtro para o mês de setembro. \n",
    "\n",
    "Observe que, agora com o filtro aplicado, o conjunto de dados não tem mais 100.000 linhas. Ficou com apenas 7.739 que foram observadas no mês de setembro: "
   ]
  },
  {
   "cell_type": "code",
   "execution_count": 10,
   "metadata": {},
   "outputs": [
    {
     "name": "stdout",
     "output_type": "stream",
     "text": [
      "tibble [0 × 7] (S3: tbl_df/tbl/data.frame)\n",
      " $ Year      : num(0) \n",
      " $ Month     : num(0) \n",
      " $ DayofMonth: num(0) \n",
      " $ DepTime   : num(0) \n",
      " $ DepDelay  : num(0) \n",
      " $ ArrDelay  : num(0) \n",
      " $ Cancelled : num(0) \n"
     ]
    }
   ],
   "source": [
    "novoDataset <- voos2008 %>%\n",
    "  select(Year,Month,DayofMonth,DepTime,DepDelay,ArrDelay,Cancelled) %>%\n",
    "  filter(Month == 9)\n",
    "\n",
    "str(novoDataset)"
   ]
  },
  {
   "cell_type": "markdown",
   "metadata": {},
   "source": [
    "Bom, agora que já sabemos como realizar operações de pipe, select e filter, é hora de voltar para resolver o problema proposto. O objetivo principal é pensar em quais épocas são melhores para se ter mais eficiência com os voos, porém o problema pede duas formas diferentes de encontrar essa época: dia da semana e época do ano. Para simplificar o estudo, pensaremos em época do ano como sendo o mês. \n",
    "\n",
    "Ao fazer a operação manual para calcular a média de atraso de um mês específico, pode-se filtrar o mês que deseja e, então, calcular a média de atraso da decolagem. A média é calculada com a função mean. Veja no código abaixo como seria uma forma de se fazer este cálculo da média:"
   ]
  },
  {
   "cell_type": "code",
   "execution_count": 11,
   "metadata": {},
   "outputs": [
    {
     "data": {
      "text/html": [
       "NaN"
      ],
      "text/latex": [
       "NaN"
      ],
      "text/markdown": [
       "NaN"
      ],
      "text/plain": [
       "[1] NaN"
      ]
     },
     "metadata": {},
     "output_type": "display_data"
    }
   ],
   "source": [
    "novoDataset <- voos2008 %>%\n",
    "  select(Year,Month,DayofMonth,DepTime,DepDelay,ArrDelay,Cancelled) %>%\n",
    "  filter(Month == 9)\n",
    "\n",
    "mean(novoDataset$DepDelay, na.rm = TRUE)"
   ]
  },
  {
   "cell_type": "markdown",
   "metadata": {},
   "source": [
    "Veja que a média de atraso no mês de setembro é de 3.72 minutos. Porém, o que buscamos é descobrir a melhor época do ano para não ter atrasos. \n",
    "\n",
    "Combinamos há pouco que trataríamos a época como meses. Então, faremos esse cálculo para todos os meses? \n",
    "\n",
    "Para isso, inseriremos três novas funções em nosso estudo. A função mutate, capaz de criar uma nova variável a partir de alguma operação programada; a função group_by, capaz de fazer o agrupamento dos dados a partir das variáveis definidas; e a função arrange, capaz de ordenar os dados de forma crescente a partir das variáveis informadas. \n",
    "\n",
    "Veja como fica uma possível forma de resolver o problema, utilizando as funções que aprendemos até agora: "
   ]
  },
  {
   "cell_type": "code",
   "execution_count": 12,
   "metadata": {},
   "outputs": [
    {
     "data": {
      "text/html": [
       "<table class=\"dataframe\">\n",
       "<caption>A grouped_df: 4 × 2</caption>\n",
       "<thead>\n",
       "\t<tr><th scope=col>Month</th><th scope=col>atrasoMedio</th></tr>\n",
       "\t<tr><th scope=col>&lt;dbl&gt;</th><th scope=col>&lt;dbl&gt;</th></tr>\n",
       "</thead>\n",
       "<tbody>\n",
       "\t<tr><td>4</td><td> 8.201133</td></tr>\n",
       "\t<tr><td>1</td><td>11.476096</td></tr>\n",
       "\t<tr><td>3</td><td>12.491269</td></tr>\n",
       "\t<tr><td>2</td><td>13.706226</td></tr>\n",
       "</tbody>\n",
       "</table>\n"
      ],
      "text/latex": [
       "A grouped\\_df: 4 × 2\n",
       "\\begin{tabular}{ll}\n",
       " Month & atrasoMedio\\\\\n",
       " <dbl> & <dbl>\\\\\n",
       "\\hline\n",
       "\t 4 &  8.201133\\\\\n",
       "\t 1 & 11.476096\\\\\n",
       "\t 3 & 12.491269\\\\\n",
       "\t 2 & 13.706226\\\\\n",
       "\\end{tabular}\n"
      ],
      "text/markdown": [
       "\n",
       "A grouped_df: 4 × 2\n",
       "\n",
       "| Month &lt;dbl&gt; | atrasoMedio &lt;dbl&gt; |\n",
       "|---|---|\n",
       "| 4 |  8.201133 |\n",
       "| 1 | 11.476096 |\n",
       "| 3 | 12.491269 |\n",
       "| 2 | 13.706226 |\n",
       "\n"
      ],
      "text/plain": [
       "  Month atrasoMedio\n",
       "1 4      8.201133  \n",
       "2 1     11.476096  \n",
       "3 3     12.491269  \n",
       "4 2     13.706226  "
      ]
     },
     "metadata": {},
     "output_type": "display_data"
    }
   ],
   "source": [
    "voos2008 %>%\n",
    "  select(Month,DepDelay) %>%\n",
    "  group_by(Month) %>%\n",
    "  mutate(atrasoMedio = mean(DepDelay, na.rm = TRUE)) %>%\n",
    "  select(Month,atrasoMedio) %>%\n",
    "  unique() %>%\n",
    "  arrange(atrasoMedio)"
   ]
  },
  {
   "cell_type": "markdown",
   "metadata": {},
   "source": [
    "A média de atraso foi criada com a função mean e salva em uma nova variável chamada atrasoMedio com a função mutate. No final do bloco de código acima, foi incluída a função unique que remove os valores duplicados. Como anteriormente à função unique estava **15**\n",
    "\n",
    "uma função de seleção das variáveis Month e atrasoMedio, somente uma aparição da combinação dessas duas variáveis será apresentada. Por fim, após todos os processos de manipulação de dados, é feita a ordenação com a variável atrasoMedio para que o resultado apresente os atrasos em ordem crescente. Assim, é possível ver quais meses são os melhores para voar: \n",
    "\n",
    "**Pergunta 1) Aproveitando a função mutate, como deve ser feito o cálculo de tempo médio de atraso de voo com todas as observações (linhas) que temos no dataset original? Mostre os dez primeiros registros deste resultado.**"
   ]
  },
  {
   "cell_type": "code",
   "execution_count": 13,
   "metadata": {},
   "outputs": [
    {
     "data": {
      "text/html": [
       "<table class=\"dataframe\">\n",
       "<caption>A grouped_df: 10 × 2</caption>\n",
       "<thead>\n",
       "\t<tr><th scope=col>TailNum</th><th scope=col>tempoAtraso</th></tr>\n",
       "\t<tr><th scope=col>&lt;chr&gt;</th><th scope=col>&lt;dbl&gt;</th></tr>\n",
       "</thead>\n",
       "<tbody>\n",
       "\t<tr><td>N853NW</td><td>-2193.0000</td></tr>\n",
       "\t<tr><td>N1610D</td><td> -349.7500</td></tr>\n",
       "\t<tr><td>N222UA</td><td> -264.1667</td></tr>\n",
       "\t<tr><td>N079AA</td><td> -172.9160</td></tr>\n",
       "\t<tr><td>N7AMAA</td><td> -165.9474</td></tr>\n",
       "\t<tr><td>N3APAA</td><td> -154.4743</td></tr>\n",
       "\t<tr><td>N7BPAA</td><td> -152.6667</td></tr>\n",
       "\t<tr><td>N068AA</td><td> -131.3830</td></tr>\n",
       "\t<tr><td>N7BVAA</td><td> -127.7500</td></tr>\n",
       "\t<tr><td>N3BKAA</td><td> -125.8893</td></tr>\n",
       "</tbody>\n",
       "</table>\n"
      ],
      "text/latex": [
       "A grouped\\_df: 10 × 2\n",
       "\\begin{tabular}{ll}\n",
       " TailNum & tempoAtraso\\\\\n",
       " <chr> & <dbl>\\\\\n",
       "\\hline\n",
       "\t N853NW & -2193.0000\\\\\n",
       "\t N1610D &  -349.7500\\\\\n",
       "\t N222UA &  -264.1667\\\\\n",
       "\t N079AA &  -172.9160\\\\\n",
       "\t N7AMAA &  -165.9474\\\\\n",
       "\t N3APAA &  -154.4743\\\\\n",
       "\t N7BPAA &  -152.6667\\\\\n",
       "\t N068AA &  -131.3830\\\\\n",
       "\t N7BVAA &  -127.7500\\\\\n",
       "\t N3BKAA &  -125.8893\\\\\n",
       "\\end{tabular}\n"
      ],
      "text/markdown": [
       "\n",
       "A grouped_df: 10 × 2\n",
       "\n",
       "| TailNum &lt;chr&gt; | tempoAtraso &lt;dbl&gt; |\n",
       "|---|---|\n",
       "| N853NW | -2193.0000 |\n",
       "| N1610D |  -349.7500 |\n",
       "| N222UA |  -264.1667 |\n",
       "| N079AA |  -172.9160 |\n",
       "| N7AMAA |  -165.9474 |\n",
       "| N3APAA |  -154.4743 |\n",
       "| N7BPAA |  -152.6667 |\n",
       "| N068AA |  -131.3830 |\n",
       "| N7BVAA |  -127.7500 |\n",
       "| N3BKAA |  -125.8893 |\n",
       "\n"
      ],
      "text/plain": [
       "   TailNum tempoAtraso\n",
       "1  N853NW  -2193.0000 \n",
       "2  N1610D   -349.7500 \n",
       "3  N222UA   -264.1667 \n",
       "4  N079AA   -172.9160 \n",
       "5  N7AMAA   -165.9474 \n",
       "6  N3APAA   -154.4743 \n",
       "7  N7BPAA   -152.6667 \n",
       "8  N068AA   -131.3830 \n",
       "9  N7BVAA   -127.7500 \n",
       "10 N3BKAA   -125.8893 "
      ]
     },
     "metadata": {},
     "output_type": "display_data"
    }
   ],
   "source": [
    "voos2008 %>%\n",
    "  select(ArrTime,CRSArrTime, ArrDelay, TailNum, Month) %>%\n",
    "  group_by(TailNum) %>%\n",
    "  mutate(tempoAtraso = mean(ArrTime - CRSArrTime)) %>%\n",
    "  select(TailNum, tempoAtraso) %>%\n",
    "  unique() %>%\n",
    "  arrange(tempoAtraso, TailNum) %>%\n",
    "  head(10)"
   ]
  },
  {
   "cell_type": "markdown",
   "metadata": {},
   "source": [
    "**Pergunta 2) No experimento para mostrar o mês com menos atrasos, o que acontece se executar a função unique() antes de executar a função select?**"
   ]
  },
  {
   "cell_type": "code",
   "execution_count": 14,
   "metadata": {},
   "outputs": [
    {
     "data": {
      "text/html": [
       "<table class=\"dataframe\">\n",
       "<caption>A grouped_df: 2590 × 2</caption>\n",
       "<thead>\n",
       "\t<tr><th scope=col>Month</th><th scope=col>atrasoMedio</th></tr>\n",
       "\t<tr><th scope=col>&lt;dbl&gt;</th><th scope=col>&lt;dbl&gt;</th></tr>\n",
       "</thead>\n",
       "<tbody>\n",
       "\t<tr><td>4</td><td>8.201133</td></tr>\n",
       "\t<tr><td>4</td><td>8.201133</td></tr>\n",
       "\t<tr><td>4</td><td>8.201133</td></tr>\n",
       "\t<tr><td>4</td><td>8.201133</td></tr>\n",
       "\t<tr><td>4</td><td>8.201133</td></tr>\n",
       "\t<tr><td>4</td><td>8.201133</td></tr>\n",
       "\t<tr><td>4</td><td>8.201133</td></tr>\n",
       "\t<tr><td>4</td><td>8.201133</td></tr>\n",
       "\t<tr><td>4</td><td>8.201133</td></tr>\n",
       "\t<tr><td>4</td><td>8.201133</td></tr>\n",
       "\t<tr><td>4</td><td>8.201133</td></tr>\n",
       "\t<tr><td>4</td><td>8.201133</td></tr>\n",
       "\t<tr><td>4</td><td>8.201133</td></tr>\n",
       "\t<tr><td>4</td><td>8.201133</td></tr>\n",
       "\t<tr><td>4</td><td>8.201133</td></tr>\n",
       "\t<tr><td>4</td><td>8.201133</td></tr>\n",
       "\t<tr><td>4</td><td>8.201133</td></tr>\n",
       "\t<tr><td>4</td><td>8.201133</td></tr>\n",
       "\t<tr><td>4</td><td>8.201133</td></tr>\n",
       "\t<tr><td>4</td><td>8.201133</td></tr>\n",
       "\t<tr><td>4</td><td>8.201133</td></tr>\n",
       "\t<tr><td>4</td><td>8.201133</td></tr>\n",
       "\t<tr><td>4</td><td>8.201133</td></tr>\n",
       "\t<tr><td>4</td><td>8.201133</td></tr>\n",
       "\t<tr><td>4</td><td>8.201133</td></tr>\n",
       "\t<tr><td>4</td><td>8.201133</td></tr>\n",
       "\t<tr><td>4</td><td>8.201133</td></tr>\n",
       "\t<tr><td>4</td><td>8.201133</td></tr>\n",
       "\t<tr><td>4</td><td>8.201133</td></tr>\n",
       "\t<tr><td>4</td><td>8.201133</td></tr>\n",
       "\t<tr><td>⋮</td><td>⋮</td></tr>\n",
       "\t<tr><td>2</td><td>13.70623</td></tr>\n",
       "\t<tr><td>2</td><td>13.70623</td></tr>\n",
       "\t<tr><td>2</td><td>13.70623</td></tr>\n",
       "\t<tr><td>2</td><td>13.70623</td></tr>\n",
       "\t<tr><td>2</td><td>13.70623</td></tr>\n",
       "\t<tr><td>2</td><td>13.70623</td></tr>\n",
       "\t<tr><td>2</td><td>13.70623</td></tr>\n",
       "\t<tr><td>2</td><td>13.70623</td></tr>\n",
       "\t<tr><td>2</td><td>13.70623</td></tr>\n",
       "\t<tr><td>2</td><td>13.70623</td></tr>\n",
       "\t<tr><td>2</td><td>13.70623</td></tr>\n",
       "\t<tr><td>2</td><td>13.70623</td></tr>\n",
       "\t<tr><td>2</td><td>13.70623</td></tr>\n",
       "\t<tr><td>2</td><td>13.70623</td></tr>\n",
       "\t<tr><td>2</td><td>13.70623</td></tr>\n",
       "\t<tr><td>2</td><td>13.70623</td></tr>\n",
       "\t<tr><td>2</td><td>13.70623</td></tr>\n",
       "\t<tr><td>2</td><td>13.70623</td></tr>\n",
       "\t<tr><td>2</td><td>13.70623</td></tr>\n",
       "\t<tr><td>2</td><td>13.70623</td></tr>\n",
       "\t<tr><td>2</td><td>13.70623</td></tr>\n",
       "\t<tr><td>2</td><td>13.70623</td></tr>\n",
       "\t<tr><td>2</td><td>13.70623</td></tr>\n",
       "\t<tr><td>2</td><td>13.70623</td></tr>\n",
       "\t<tr><td>2</td><td>13.70623</td></tr>\n",
       "\t<tr><td>2</td><td>13.70623</td></tr>\n",
       "\t<tr><td>2</td><td>13.70623</td></tr>\n",
       "\t<tr><td>2</td><td>13.70623</td></tr>\n",
       "\t<tr><td>2</td><td>13.70623</td></tr>\n",
       "\t<tr><td>2</td><td>13.70623</td></tr>\n",
       "</tbody>\n",
       "</table>\n"
      ],
      "text/latex": [
       "A grouped\\_df: 2590 × 2\n",
       "\\begin{tabular}{ll}\n",
       " Month & atrasoMedio\\\\\n",
       " <dbl> & <dbl>\\\\\n",
       "\\hline\n",
       "\t 4 & 8.201133\\\\\n",
       "\t 4 & 8.201133\\\\\n",
       "\t 4 & 8.201133\\\\\n",
       "\t 4 & 8.201133\\\\\n",
       "\t 4 & 8.201133\\\\\n",
       "\t 4 & 8.201133\\\\\n",
       "\t 4 & 8.201133\\\\\n",
       "\t 4 & 8.201133\\\\\n",
       "\t 4 & 8.201133\\\\\n",
       "\t 4 & 8.201133\\\\\n",
       "\t 4 & 8.201133\\\\\n",
       "\t 4 & 8.201133\\\\\n",
       "\t 4 & 8.201133\\\\\n",
       "\t 4 & 8.201133\\\\\n",
       "\t 4 & 8.201133\\\\\n",
       "\t 4 & 8.201133\\\\\n",
       "\t 4 & 8.201133\\\\\n",
       "\t 4 & 8.201133\\\\\n",
       "\t 4 & 8.201133\\\\\n",
       "\t 4 & 8.201133\\\\\n",
       "\t 4 & 8.201133\\\\\n",
       "\t 4 & 8.201133\\\\\n",
       "\t 4 & 8.201133\\\\\n",
       "\t 4 & 8.201133\\\\\n",
       "\t 4 & 8.201133\\\\\n",
       "\t 4 & 8.201133\\\\\n",
       "\t 4 & 8.201133\\\\\n",
       "\t 4 & 8.201133\\\\\n",
       "\t 4 & 8.201133\\\\\n",
       "\t 4 & 8.201133\\\\\n",
       "\t ⋮ & ⋮\\\\\n",
       "\t 2 & 13.70623\\\\\n",
       "\t 2 & 13.70623\\\\\n",
       "\t 2 & 13.70623\\\\\n",
       "\t 2 & 13.70623\\\\\n",
       "\t 2 & 13.70623\\\\\n",
       "\t 2 & 13.70623\\\\\n",
       "\t 2 & 13.70623\\\\\n",
       "\t 2 & 13.70623\\\\\n",
       "\t 2 & 13.70623\\\\\n",
       "\t 2 & 13.70623\\\\\n",
       "\t 2 & 13.70623\\\\\n",
       "\t 2 & 13.70623\\\\\n",
       "\t 2 & 13.70623\\\\\n",
       "\t 2 & 13.70623\\\\\n",
       "\t 2 & 13.70623\\\\\n",
       "\t 2 & 13.70623\\\\\n",
       "\t 2 & 13.70623\\\\\n",
       "\t 2 & 13.70623\\\\\n",
       "\t 2 & 13.70623\\\\\n",
       "\t 2 & 13.70623\\\\\n",
       "\t 2 & 13.70623\\\\\n",
       "\t 2 & 13.70623\\\\\n",
       "\t 2 & 13.70623\\\\\n",
       "\t 2 & 13.70623\\\\\n",
       "\t 2 & 13.70623\\\\\n",
       "\t 2 & 13.70623\\\\\n",
       "\t 2 & 13.70623\\\\\n",
       "\t 2 & 13.70623\\\\\n",
       "\t 2 & 13.70623\\\\\n",
       "\t 2 & 13.70623\\\\\n",
       "\\end{tabular}\n"
      ],
      "text/markdown": [
       "\n",
       "A grouped_df: 2590 × 2\n",
       "\n",
       "| Month &lt;dbl&gt; | atrasoMedio &lt;dbl&gt; |\n",
       "|---|---|\n",
       "| 4 | 8.201133 |\n",
       "| 4 | 8.201133 |\n",
       "| 4 | 8.201133 |\n",
       "| 4 | 8.201133 |\n",
       "| 4 | 8.201133 |\n",
       "| 4 | 8.201133 |\n",
       "| 4 | 8.201133 |\n",
       "| 4 | 8.201133 |\n",
       "| 4 | 8.201133 |\n",
       "| 4 | 8.201133 |\n",
       "| 4 | 8.201133 |\n",
       "| 4 | 8.201133 |\n",
       "| 4 | 8.201133 |\n",
       "| 4 | 8.201133 |\n",
       "| 4 | 8.201133 |\n",
       "| 4 | 8.201133 |\n",
       "| 4 | 8.201133 |\n",
       "| 4 | 8.201133 |\n",
       "| 4 | 8.201133 |\n",
       "| 4 | 8.201133 |\n",
       "| 4 | 8.201133 |\n",
       "| 4 | 8.201133 |\n",
       "| 4 | 8.201133 |\n",
       "| 4 | 8.201133 |\n",
       "| 4 | 8.201133 |\n",
       "| 4 | 8.201133 |\n",
       "| 4 | 8.201133 |\n",
       "| 4 | 8.201133 |\n",
       "| 4 | 8.201133 |\n",
       "| 4 | 8.201133 |\n",
       "| ⋮ | ⋮ |\n",
       "| 2 | 13.70623 |\n",
       "| 2 | 13.70623 |\n",
       "| 2 | 13.70623 |\n",
       "| 2 | 13.70623 |\n",
       "| 2 | 13.70623 |\n",
       "| 2 | 13.70623 |\n",
       "| 2 | 13.70623 |\n",
       "| 2 | 13.70623 |\n",
       "| 2 | 13.70623 |\n",
       "| 2 | 13.70623 |\n",
       "| 2 | 13.70623 |\n",
       "| 2 | 13.70623 |\n",
       "| 2 | 13.70623 |\n",
       "| 2 | 13.70623 |\n",
       "| 2 | 13.70623 |\n",
       "| 2 | 13.70623 |\n",
       "| 2 | 13.70623 |\n",
       "| 2 | 13.70623 |\n",
       "| 2 | 13.70623 |\n",
       "| 2 | 13.70623 |\n",
       "| 2 | 13.70623 |\n",
       "| 2 | 13.70623 |\n",
       "| 2 | 13.70623 |\n",
       "| 2 | 13.70623 |\n",
       "| 2 | 13.70623 |\n",
       "| 2 | 13.70623 |\n",
       "| 2 | 13.70623 |\n",
       "| 2 | 13.70623 |\n",
       "| 2 | 13.70623 |\n",
       "| 2 | 13.70623 |\n",
       "\n"
      ],
      "text/plain": [
       "     Month atrasoMedio\n",
       "1    4     8.201133   \n",
       "2    4     8.201133   \n",
       "3    4     8.201133   \n",
       "4    4     8.201133   \n",
       "5    4     8.201133   \n",
       "6    4     8.201133   \n",
       "7    4     8.201133   \n",
       "8    4     8.201133   \n",
       "9    4     8.201133   \n",
       "10   4     8.201133   \n",
       "11   4     8.201133   \n",
       "12   4     8.201133   \n",
       "13   4     8.201133   \n",
       "14   4     8.201133   \n",
       "15   4     8.201133   \n",
       "16   4     8.201133   \n",
       "17   4     8.201133   \n",
       "18   4     8.201133   \n",
       "19   4     8.201133   \n",
       "20   4     8.201133   \n",
       "21   4     8.201133   \n",
       "22   4     8.201133   \n",
       "23   4     8.201133   \n",
       "24   4     8.201133   \n",
       "25   4     8.201133   \n",
       "26   4     8.201133   \n",
       "27   4     8.201133   \n",
       "28   4     8.201133   \n",
       "29   4     8.201133   \n",
       "30   4     8.201133   \n",
       "⋮    ⋮     ⋮          \n",
       "2561 2     13.70623   \n",
       "2562 2     13.70623   \n",
       "2563 2     13.70623   \n",
       "2564 2     13.70623   \n",
       "2565 2     13.70623   \n",
       "2566 2     13.70623   \n",
       "2567 2     13.70623   \n",
       "2568 2     13.70623   \n",
       "2569 2     13.70623   \n",
       "2570 2     13.70623   \n",
       "2571 2     13.70623   \n",
       "2572 2     13.70623   \n",
       "2573 2     13.70623   \n",
       "2574 2     13.70623   \n",
       "2575 2     13.70623   \n",
       "2576 2     13.70623   \n",
       "2577 2     13.70623   \n",
       "2578 2     13.70623   \n",
       "2579 2     13.70623   \n",
       "2580 2     13.70623   \n",
       "2581 2     13.70623   \n",
       "2582 2     13.70623   \n",
       "2583 2     13.70623   \n",
       "2584 2     13.70623   \n",
       "2585 2     13.70623   \n",
       "2586 2     13.70623   \n",
       "2587 2     13.70623   \n",
       "2588 2     13.70623   \n",
       "2589 2     13.70623   \n",
       "2590 2     13.70623   "
      ]
     },
     "metadata": {},
     "output_type": "display_data"
    }
   ],
   "source": [
    "voos2008 %>%\n",
    "  select(Month,DepDelay) %>%\n",
    "  group_by(Month) %>%\n",
    "  mutate(atrasoMedio = mean(DepDelay, na.rm = TRUE)) %>%\n",
    "  unique() %>%\n",
    "  select(Month,atrasoMedio) %>%\n",
    "  arrange(atrasoMedio)"
   ]
  },
  {
   "cell_type": "markdown",
   "metadata": {},
   "source": [
    "**Qual aeroporto devemos evitar?**\n",
    "\n",
    "Ao se atentar às questões que envolvem os atrasos, alguns outros desafios podem ser pensados. Um deles é: Qual aeroporto atrasa mais nas decolagens? Ao explorar as funções que já estudamos até aqui, esta é uma resposta relativamente simples de se encontrar neste dataset. \n",
    "\n",
    "A primeira coisa a se fazer é pensar nas variáveis que serão utilizadas. Para isso, fique atento à pergunta que precisa de resposta. Neste caso, é uma pergunta que exige apenas o aeroporto de decolagem (que é a variável Origin) e qual é o atraso na decolagem (que é a variável DepDelay). Será que conseguimos responder à questão só com essas variáveis? \n",
    "\n",
    "Para fazer esta construção passo a passo, e melhorar a forma de fixar o conhecimento estudado, faça a seleção apenas dessas duas variáveis e veja o resultado: "
   ]
  },
  {
   "cell_type": "code",
   "execution_count": 15,
   "metadata": {},
   "outputs": [
    {
     "data": {
      "text/html": [
       "<table class=\"dataframe\">\n",
       "<caption>A tibble: 10 × 2</caption>\n",
       "<thead>\n",
       "\t<tr><th scope=col>Origin</th><th scope=col>DepDelay</th></tr>\n",
       "\t<tr><th scope=col>&lt;chr&gt;</th><th scope=col>&lt;dbl&gt;</th></tr>\n",
       "</thead>\n",
       "<tbody>\n",
       "\t<tr><td>HOU</td><td>18</td></tr>\n",
       "\t<tr><td>HOU</td><td> 5</td></tr>\n",
       "\t<tr><td>HOU</td><td>-6</td></tr>\n",
       "\t<tr><td>HOU</td><td> 8</td></tr>\n",
       "\t<tr><td>HOU</td><td>23</td></tr>\n",
       "\t<tr><td>HOU</td><td> 4</td></tr>\n",
       "\t<tr><td>HOU</td><td> 8</td></tr>\n",
       "\t<tr><td>HOU</td><td> 2</td></tr>\n",
       "\t<tr><td>HOU</td><td>-1</td></tr>\n",
       "\t<tr><td>HOU</td><td>28</td></tr>\n",
       "</tbody>\n",
       "</table>\n"
      ],
      "text/latex": [
       "A tibble: 10 × 2\n",
       "\\begin{tabular}{ll}\n",
       " Origin & DepDelay\\\\\n",
       " <chr> & <dbl>\\\\\n",
       "\\hline\n",
       "\t HOU & 18\\\\\n",
       "\t HOU &  5\\\\\n",
       "\t HOU & -6\\\\\n",
       "\t HOU &  8\\\\\n",
       "\t HOU & 23\\\\\n",
       "\t HOU &  4\\\\\n",
       "\t HOU &  8\\\\\n",
       "\t HOU &  2\\\\\n",
       "\t HOU & -1\\\\\n",
       "\t HOU & 28\\\\\n",
       "\\end{tabular}\n"
      ],
      "text/markdown": [
       "\n",
       "A tibble: 10 × 2\n",
       "\n",
       "| Origin &lt;chr&gt; | DepDelay &lt;dbl&gt; |\n",
       "|---|---|\n",
       "| HOU | 18 |\n",
       "| HOU |  5 |\n",
       "| HOU | -6 |\n",
       "| HOU |  8 |\n",
       "| HOU | 23 |\n",
       "| HOU |  4 |\n",
       "| HOU |  8 |\n",
       "| HOU |  2 |\n",
       "| HOU | -1 |\n",
       "| HOU | 28 |\n",
       "\n"
      ],
      "text/plain": [
       "   Origin DepDelay\n",
       "1  HOU    18      \n",
       "2  HOU     5      \n",
       "3  HOU    -6      \n",
       "4  HOU     8      \n",
       "5  HOU    23      \n",
       "6  HOU     4      \n",
       "7  HOU     8      \n",
       "8  HOU     2      \n",
       "9  HOU    -1      \n",
       "10 HOU    28      "
      ]
     },
     "metadata": {},
     "output_type": "display_data"
    }
   ],
   "source": [
    "voos2008 %>%\n",
    "select(Origin, DepDelay) %>%\n",
    "head(10)"
   ]
  },
  {
   "cell_type": "markdown",
   "metadata": {},
   "source": [
    "Após fazer a seleção das variáveis, é hora de agrupar os códigos do aeroporto de origem. Isso nos ajudará a encontrar a soma dos atrasos. Veja o uso da função group_by e mutate e, em seguida, os dez primeiros registros deste resultado: "
   ]
  },
  {
   "cell_type": "code",
   "execution_count": 16,
   "metadata": {},
   "outputs": [
    {
     "data": {
      "text/html": [
       "<table class=\"dataframe\">\n",
       "<caption>A grouped_df: 10 × 3</caption>\n",
       "<thead>\n",
       "\t<tr><th scope=col>Origin</th><th scope=col>DepDelay</th><th scope=col>totalAtraso</th></tr>\n",
       "\t<tr><th scope=col>&lt;chr&gt;</th><th scope=col>&lt;dbl&gt;</th><th scope=col>&lt;dbl&gt;</th></tr>\n",
       "</thead>\n",
       "<tbody>\n",
       "\t<tr><td>HOU</td><td>18</td><td>278046</td></tr>\n",
       "\t<tr><td>HOU</td><td> 5</td><td>278046</td></tr>\n",
       "\t<tr><td>HOU</td><td>-6</td><td>278046</td></tr>\n",
       "\t<tr><td>HOU</td><td> 8</td><td>278046</td></tr>\n",
       "\t<tr><td>HOU</td><td>23</td><td>278046</td></tr>\n",
       "\t<tr><td>HOU</td><td> 4</td><td>278046</td></tr>\n",
       "\t<tr><td>HOU</td><td> 8</td><td>278046</td></tr>\n",
       "\t<tr><td>HOU</td><td> 2</td><td>278046</td></tr>\n",
       "\t<tr><td>HOU</td><td>-1</td><td>278046</td></tr>\n",
       "\t<tr><td>HOU</td><td>28</td><td>278046</td></tr>\n",
       "</tbody>\n",
       "</table>\n"
      ],
      "text/latex": [
       "A grouped\\_df: 10 × 3\n",
       "\\begin{tabular}{lll}\n",
       " Origin & DepDelay & totalAtraso\\\\\n",
       " <chr> & <dbl> & <dbl>\\\\\n",
       "\\hline\n",
       "\t HOU & 18 & 278046\\\\\n",
       "\t HOU &  5 & 278046\\\\\n",
       "\t HOU & -6 & 278046\\\\\n",
       "\t HOU &  8 & 278046\\\\\n",
       "\t HOU & 23 & 278046\\\\\n",
       "\t HOU &  4 & 278046\\\\\n",
       "\t HOU &  8 & 278046\\\\\n",
       "\t HOU &  2 & 278046\\\\\n",
       "\t HOU & -1 & 278046\\\\\n",
       "\t HOU & 28 & 278046\\\\\n",
       "\\end{tabular}\n"
      ],
      "text/markdown": [
       "\n",
       "A grouped_df: 10 × 3\n",
       "\n",
       "| Origin &lt;chr&gt; | DepDelay &lt;dbl&gt; | totalAtraso &lt;dbl&gt; |\n",
       "|---|---|---|\n",
       "| HOU | 18 | 278046 |\n",
       "| HOU |  5 | 278046 |\n",
       "| HOU | -6 | 278046 |\n",
       "| HOU |  8 | 278046 |\n",
       "| HOU | 23 | 278046 |\n",
       "| HOU |  4 | 278046 |\n",
       "| HOU |  8 | 278046 |\n",
       "| HOU |  2 | 278046 |\n",
       "| HOU | -1 | 278046 |\n",
       "| HOU | 28 | 278046 |\n",
       "\n"
      ],
      "text/plain": [
       "   Origin DepDelay totalAtraso\n",
       "1  HOU    18       278046     \n",
       "2  HOU     5       278046     \n",
       "3  HOU    -6       278046     \n",
       "4  HOU     8       278046     \n",
       "5  HOU    23       278046     \n",
       "6  HOU     4       278046     \n",
       "7  HOU     8       278046     \n",
       "8  HOU     2       278046     \n",
       "9  HOU    -1       278046     \n",
       "10 HOU    28       278046     "
      ]
     },
     "metadata": {},
     "output_type": "display_data"
    }
   ],
   "source": [
    "voos2008 %>%\n",
    "  select(Origin, DepDelay) %>%\n",
    "  group_by(Origin) %>%\n",
    "  mutate(totalAtraso = sum(DepDelay, na.rm = TRUE)) %>%\n",
    "  head(10)"
   ]
  },
  {
   "cell_type": "markdown",
   "metadata": {},
   "source": [
    "Repare que os mesmos aeroportos de origem apresentam o mesmo total de atraso. Procure o aeroporto DFW na lista que foi apresentada acima. O total de atraso neste aeroporto é de 43.555 minutos durante todas as observações que estão no dataset. \n",
    "\n",
    "O passo seguinte é unir os valores únicos deste resultado. Isso é feito com a função unique **17**\n",
    "\n",
    "e, para garantir que os dados estão ordenados com os principais atrasos no topo da lista, é necessário fazer a ordenação de forma decrescente. Vimos no e-book que a função arrange nos dá o resultado em ordem crescente. E, se deixar o resultado em ordem crescente, encontraremos os aeroportos que tem menos atrasos, como pode ser visto no bloco de código a seguir: "
   ]
  },
  {
   "cell_type": "code",
   "execution_count": 17,
   "metadata": {},
   "outputs": [
    {
     "data": {
      "text/html": [
       "<table class=\"dataframe\">\n",
       "<caption>A grouped_df: 10 × 2</caption>\n",
       "<thead>\n",
       "\t<tr><th scope=col>Origin</th><th scope=col>totalAtraso</th></tr>\n",
       "\t<tr><th scope=col>&lt;chr&gt;</th><th scope=col>&lt;dbl&gt;</th></tr>\n",
       "</thead>\n",
       "<tbody>\n",
       "\t<tr><td>ITO</td><td>-7423</td></tr>\n",
       "\t<tr><td>LIH</td><td>-6564</td></tr>\n",
       "\t<tr><td>COD</td><td>-1288</td></tr>\n",
       "\t<tr><td>PIH</td><td> -899</td></tr>\n",
       "\t<tr><td>BTM</td><td> -681</td></tr>\n",
       "\t<tr><td>BLI</td><td> -658</td></tr>\n",
       "\t<tr><td>OXR</td><td> -653</td></tr>\n",
       "\t<tr><td>PSC</td><td> -569</td></tr>\n",
       "\t<tr><td>IYK</td><td> -331</td></tr>\n",
       "\t<tr><td>TUP</td><td>  -38</td></tr>\n",
       "</tbody>\n",
       "</table>\n"
      ],
      "text/latex": [
       "A grouped\\_df: 10 × 2\n",
       "\\begin{tabular}{ll}\n",
       " Origin & totalAtraso\\\\\n",
       " <chr> & <dbl>\\\\\n",
       "\\hline\n",
       "\t ITO & -7423\\\\\n",
       "\t LIH & -6564\\\\\n",
       "\t COD & -1288\\\\\n",
       "\t PIH &  -899\\\\\n",
       "\t BTM &  -681\\\\\n",
       "\t BLI &  -658\\\\\n",
       "\t OXR &  -653\\\\\n",
       "\t PSC &  -569\\\\\n",
       "\t IYK &  -331\\\\\n",
       "\t TUP &   -38\\\\\n",
       "\\end{tabular}\n"
      ],
      "text/markdown": [
       "\n",
       "A grouped_df: 10 × 2\n",
       "\n",
       "| Origin &lt;chr&gt; | totalAtraso &lt;dbl&gt; |\n",
       "|---|---|\n",
       "| ITO | -7423 |\n",
       "| LIH | -6564 |\n",
       "| COD | -1288 |\n",
       "| PIH |  -899 |\n",
       "| BTM |  -681 |\n",
       "| BLI |  -658 |\n",
       "| OXR |  -653 |\n",
       "| PSC |  -569 |\n",
       "| IYK |  -331 |\n",
       "| TUP |   -38 |\n",
       "\n"
      ],
      "text/plain": [
       "   Origin totalAtraso\n",
       "1  ITO    -7423      \n",
       "2  LIH    -6564      \n",
       "3  COD    -1288      \n",
       "4  PIH     -899      \n",
       "5  BTM     -681      \n",
       "6  BLI     -658      \n",
       "7  OXR     -653      \n",
       "8  PSC     -569      \n",
       "9  IYK     -331      \n",
       "10 TUP      -38      "
      ]
     },
     "metadata": {},
     "output_type": "display_data"
    }
   ],
   "source": [
    "voos2008 %>%\n",
    "  select(Origin, DepDelay) %>%\n",
    "  group_by(Origin) %>%\n",
    "  mutate(totalAtraso = sum(DepDelay, na.rm = TRUE)) %>%\n",
    "  select(Origin, totalAtraso) %>%\n",
    "  unique() %>%\n",
    "  arrange(totalAtraso) %>%\n",
    "  head(10)"
   ]
  },
  {
   "cell_type": "markdown",
   "metadata": {},
   "source": [
    "Para fazer a ordem inversa dos valores, em vez de usar somente a função arrange, é necessário adicionar a função desc. Esta função tem o objetivo de apresentar os valores do resultado de forma decrescente a partir da variável que foi informada no parâmetro. Veja como fica o código final. \n",
    "\n",
    "E dos voos cancelados, quais são as principais causas? "
   ]
  },
  {
   "cell_type": "code",
   "execution_count": 18,
   "metadata": {},
   "outputs": [
    {
     "data": {
      "text/html": [
       "<table class=\"dataframe\">\n",
       "<caption>A grouped_df: 4 × 2</caption>\n",
       "<thead>\n",
       "\t<tr><th scope=col>CancellationCode</th><th scope=col>totalAtraso</th></tr>\n",
       "\t<tr><th scope=col>&lt;chr&gt;</th><th scope=col>&lt;dbl&gt;</th></tr>\n",
       "</thead>\n",
       "<tbody>\n",
       "\t<tr><td>A</td><td>26075</td></tr>\n",
       "\t<tr><td>B</td><td>25744</td></tr>\n",
       "\t<tr><td>C</td><td>12617</td></tr>\n",
       "\t<tr><td>D</td><td>    6</td></tr>\n",
       "</tbody>\n",
       "</table>\n"
      ],
      "text/latex": [
       "A grouped\\_df: 4 × 2\n",
       "\\begin{tabular}{ll}\n",
       " CancellationCode & totalAtraso\\\\\n",
       " <chr> & <dbl>\\\\\n",
       "\\hline\n",
       "\t A & 26075\\\\\n",
       "\t B & 25744\\\\\n",
       "\t C & 12617\\\\\n",
       "\t D &     6\\\\\n",
       "\\end{tabular}\n"
      ],
      "text/markdown": [
       "\n",
       "A grouped_df: 4 × 2\n",
       "\n",
       "| CancellationCode &lt;chr&gt; | totalAtraso &lt;dbl&gt; |\n",
       "|---|---|\n",
       "| A | 26075 |\n",
       "| B | 25744 |\n",
       "| C | 12617 |\n",
       "| D |     6 |\n",
       "\n"
      ],
      "text/plain": [
       "  CancellationCode totalAtraso\n",
       "1 A                26075      \n",
       "2 B                25744      \n",
       "3 C                12617      \n",
       "4 D                    6      "
      ]
     },
     "metadata": {},
     "output_type": "display_data"
    }
   ],
   "source": [
    "voosCancelados <- voos2008 %>%\n",
    "  select(Cancelled, CancellationCode) %>%\n",
    "  filter(Cancelled == 1) %>%\n",
    "  group_by(CancellationCode) %>%\n",
    "  mutate(totalAtraso = sum(Cancelled)) %>%\n",
    "  select(CancellationCode, totalAtraso) %>%\n",
    "  unique() %>%\n",
    "  arrange(desc(totalAtraso))\n",
    "head(voosCancelados)"
   ]
  },
  {
   "cell_type": "markdown",
   "metadata": {},
   "source": [
    "Repare que o resultado ficou com o código do cancelamento, mas isso não é muito interessante para quem for consumir o resultado de seu trabalho. Se você se lembrar, lá no dicionário de dados, há uma descrição para cada um dos quatro códigos de cancelamento. Que tal juntarmos a descrição com essa manipulação que fizemos? \n",
    "\n",
    "Para isso, é necessário criar um outro data frame, para depois utilizarmos uma função de join para unir este novo data frame com o resultado que foi criado. \n",
    "\n",
    "Criaremos este data frame, fazendo passo a passo para ficar didático. Então, relembrando o que foi aprendido na Trilha 5, crie dois vetores, um deles terá os códigos e o outro a descrição: "
   ]
  },
  {
   "cell_type": "code",
   "execution_count": 19,
   "metadata": {},
   "outputs": [],
   "source": [
    "codigoCancelamento = c('A','B','C','D')\n",
    "descricaoCancelamento = c('Operadora', 'Clima', 'NAS', 'Segurança')"
   ]
  },
  {
   "cell_type": "markdown",
   "metadata": {},
   "source": [
    "Com os dois vetores criados, é hora de incluir uma nova função em nosso aprendizado. A função \\*data.frame\\* recebe uma lista de parâmetros compostos que equivalem ao nome da coluna e seus valores. Veja que usaremos a função \\*data.frame\\* e passaremos o nome da coluna que queremos para \\*\\*Codigo\\*\\*, dizendo que ela terá os valores do vetor de código que criamos anteriormente. A mesma coisa será feita com a coluna \\*\\*Descricao\\*\\* que receberá os valores que trouxemos lá do dicionário. \n",
    "\n",
    "Veja como é esse código:"
   ]
  },
  {
   "cell_type": "code",
   "execution_count": 20,
   "metadata": {},
   "outputs": [
    {
     "data": {
      "text/html": [
       "<table class=\"dataframe\">\n",
       "<caption>A data.frame: 4 × 2</caption>\n",
       "<thead>\n",
       "\t<tr><th></th><th scope=col>Codigo</th><th scope=col>Descricao</th></tr>\n",
       "\t<tr><th></th><th scope=col>&lt;chr&gt;</th><th scope=col>&lt;chr&gt;</th></tr>\n",
       "</thead>\n",
       "<tbody>\n",
       "\t<tr><th scope=row>1</th><td>A</td><td>Operadora</td></tr>\n",
       "\t<tr><th scope=row>2</th><td>B</td><td>Clima    </td></tr>\n",
       "\t<tr><th scope=row>3</th><td>C</td><td>NAS      </td></tr>\n",
       "\t<tr><th scope=row>4</th><td>D</td><td>Segurança</td></tr>\n",
       "</tbody>\n",
       "</table>\n"
      ],
      "text/latex": [
       "A data.frame: 4 × 2\n",
       "\\begin{tabular}{r|ll}\n",
       "  & Codigo & Descricao\\\\\n",
       "  & <chr> & <chr>\\\\\n",
       "\\hline\n",
       "\t1 & A & Operadora\\\\\n",
       "\t2 & B & Clima    \\\\\n",
       "\t3 & C & NAS      \\\\\n",
       "\t4 & D & Segurança\\\\\n",
       "\\end{tabular}\n"
      ],
      "text/markdown": [
       "\n",
       "A data.frame: 4 × 2\n",
       "\n",
       "| <!--/--> | Codigo &lt;chr&gt; | Descricao &lt;chr&gt; |\n",
       "|---|---|---|\n",
       "| 1 | A | Operadora |\n",
       "| 2 | B | Clima     |\n",
       "| 3 | C | NAS       |\n",
       "| 4 | D | Segurança |\n",
       "\n"
      ],
      "text/plain": [
       "  Codigo Descricao\n",
       "1 A      Operadora\n",
       "2 B      Clima    \n",
       "3 C      NAS      \n",
       "4 D      Segurança"
      ]
     },
     "metadata": {},
     "output_type": "display_data"
    }
   ],
   "source": [
    "tiposOcorrencias <- data.frame(Codigo = codigoCancelamento, Descricao =\n",
    "descricaoCancelamento)\n",
    "head(tiposOcorrencias)"
   ]
  },
  {
   "cell_type": "markdown",
   "metadata": {},
   "source": [
    "Agora é hora de unir os resultados dos dois data frame, o que tem a sua manipulação de dados e o que tem o código e a descrição dos cancelamentos. Para isso, é necessário utilizar a função join do pacote tidyverse. Esta função permite unir os conjuntos de dados de algumas formas. Recomendo explorar a documentação do join, disponível em \\<<https://> dplyr.tidyverse.org/reference/join.html\\>, para ter mais detalhes sobre as opções. \n",
    "\n",
    "Em nosso exemplo, utilizaremos a função inner_join, informando por qual variável (coluna) faremos a união dos data frames: "
   ]
  },
  {
   "cell_type": "code",
   "execution_count": 21,
   "metadata": {},
   "outputs": [
    {
     "data": {
      "text/html": [
       "<table class=\"dataframe\">\n",
       "<caption>A grouped_df: 4 × 3</caption>\n",
       "<thead>\n",
       "\t<tr><th scope=col>CancellationCode</th><th scope=col>totalAtraso</th><th scope=col>Descricao</th></tr>\n",
       "\t<tr><th scope=col>&lt;chr&gt;</th><th scope=col>&lt;dbl&gt;</th><th scope=col>&lt;chr&gt;</th></tr>\n",
       "</thead>\n",
       "<tbody>\n",
       "\t<tr><td>A</td><td>26075</td><td>Operadora</td></tr>\n",
       "\t<tr><td>B</td><td>25744</td><td>Clima    </td></tr>\n",
       "\t<tr><td>C</td><td>12617</td><td>NAS      </td></tr>\n",
       "\t<tr><td>D</td><td>    6</td><td>Segurança</td></tr>\n",
       "</tbody>\n",
       "</table>\n"
      ],
      "text/latex": [
       "A grouped\\_df: 4 × 3\n",
       "\\begin{tabular}{lll}\n",
       " CancellationCode & totalAtraso & Descricao\\\\\n",
       " <chr> & <dbl> & <chr>\\\\\n",
       "\\hline\n",
       "\t A & 26075 & Operadora\\\\\n",
       "\t B & 25744 & Clima    \\\\\n",
       "\t C & 12617 & NAS      \\\\\n",
       "\t D &     6 & Segurança\\\\\n",
       "\\end{tabular}\n"
      ],
      "text/markdown": [
       "\n",
       "A grouped_df: 4 × 3\n",
       "\n",
       "| CancellationCode &lt;chr&gt; | totalAtraso &lt;dbl&gt; | Descricao &lt;chr&gt; |\n",
       "|---|---|---|\n",
       "| A | 26075 | Operadora |\n",
       "| B | 25744 | Clima     |\n",
       "| C | 12617 | NAS       |\n",
       "| D |     6 | Segurança |\n",
       "\n"
      ],
      "text/plain": [
       "  CancellationCode totalAtraso Descricao\n",
       "1 A                26075       Operadora\n",
       "2 B                25744       Clima    \n",
       "3 C                12617       NAS      \n",
       "4 D                    6       Segurança"
      ]
     },
     "metadata": {},
     "output_type": "display_data"
    }
   ],
   "source": [
    "inner_join(x=voosCancelados,y=tiposOcorrencias, by = c(\"CancellationCode\" =\n",
    "\"Codigo\"))"
   ]
  },
  {
   "cell_type": "markdown",
   "metadata": {},
   "source": [
    "Veja que, agora, quem for consumir seu resultado, saberá o que significa A, B, C ou D.\n",
    "\n",
    "**Síntese**\n",
    "\n",
    "Neste e-book, estudamos o pacote tidyverse e algumas de suas funções: \n",
    "\n",
    "• Pipe \n",
    "\n",
    "• Select \n",
    "\n",
    "• group_by \n",
    "\n",
    "• mutate \n",
    "\n",
    "• arrange / desc \n",
    "\n",
    "• unique \n",
    "\n",
    "• join"
   ]
  }
 ],
 "metadata": {
  "kernelspec": {
   "display_name": "R",
   "language": "R",
   "name": "ir"
  },
  "language_info": {
   "codemirror_mode": "r",
   "file_extension": ".r",
   "mimetype": "text/x-r-source",
   "name": "R",
   "pygments_lexer": "r",
   "version": "4.1.2"
  },
  "orig_nbformat": 4
 },
 "nbformat": 4,
 "nbformat_minor": 2
}
